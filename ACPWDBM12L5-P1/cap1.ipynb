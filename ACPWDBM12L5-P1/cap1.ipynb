{
 "cells": [
  {
   "cell_type": "code",
   "execution_count": 1,
   "id": "5ba0d318",
   "metadata": {},
   "outputs": [],
   "source": [
    "import pandas as pd\n",
    "import sqlite3\n",
    "tmpdb = sqlite3.connect('tmp5.db')\n",
    "%load_ext sql\n",
    "%sql sqlite:///tmp5.db\n",
    "%config SqlMagic.style = '_DEPRECATED_DEFAULT'"
   ]
  },
  {
   "cell_type": "code",
   "execution_count": 2,
   "id": "b11d4c74",
   "metadata": {},
   "outputs": [
    {
     "name": "stdout",
     "output_type": "stream",
     "text": [
      " * sqlite:///tmp5.db\n",
      "Done.\n"
     ]
    },
    {
     "data": {
      "text/plain": [
       "[]"
      ]
     },
     "execution_count": 2,
     "metadata": {},
     "output_type": "execute_result"
    }
   ],
   "source": [
    "%%sql\n",
    "\n",
    "CREATE TABLE IF NOT EXISTS Salesman (\n",
    "  Salesman_id int PRIMARY KEY,\n",
    "  name TEXT,\n",
    "  city TEXT,\n",
    "  Comission REAL\n",
    ");"
   ]
  },
  {
   "cell_type": "code",
   "execution_count": 3,
   "id": "2f5eda82",
   "metadata": {},
   "outputs": [
    {
     "name": "stdout",
     "output_type": "stream",
     "text": [
      " * sqlite:///tmp5.db\n",
      "6 rows affected.\n"
     ]
    },
    {
     "data": {
      "text/plain": [
       "[]"
      ]
     },
     "execution_count": 3,
     "metadata": {},
     "output_type": "execute_result"
    }
   ],
   "source": [
    "%%sql\n",
    "\n",
    "INSERT INTO Salesman (Salesman_id, name, city, Comission) VALUES\n",
    "  (5001, 'James Hoog', 'new york', 0.15),\n",
    "  (5002, 'Nail Knite', 'paris', 0.13),\n",
    "  (5005, 'Pit Alex', 'london', 0.11),\n",
    "  (5006, 'Mc Lyon', 'paris', 0.14),\n",
    "  (5007, 'Paul Adam', 'rome', 0.13),\n",
    "  (5003, 'Lauson Hen', 'san jose', 0.12);"
   ]
  },
  {
   "cell_type": "code",
   "execution_count": 4,
   "id": "b1e2f3a0",
   "metadata": {},
   "outputs": [
    {
     "name": "stdout",
     "output_type": "stream",
     "text": [
      " * sqlite:///tmp5.db\n",
      "Done.\n"
     ]
    },
    {
     "data": {
      "text/plain": [
       "[]"
      ]
     },
     "execution_count": 4,
     "metadata": {},
     "output_type": "execute_result"
    }
   ],
   "source": [
    "%%sql\n",
    "\n",
    "CREATE TABLE IF NOT EXISTS Customer (\n",
    "  customer_id int PRIMARY KEY,\n",
    "  cust_name TEXT,\n",
    "  city TEXT,\n",
    "  grade int,\n",
    "  Salesman_id int,\n",
    "  FOREIGN KEY (Salesman_id) REFERENCES Salesman(Salesman_id)\n",
    ");"
   ]
  },
  {
   "cell_type": "code",
   "execution_count": 5,
   "id": "14913431",
   "metadata": {},
   "outputs": [
    {
     "name": "stdout",
     "output_type": "stream",
     "text": [
      " * sqlite:///tmp5.db\n",
      "8 rows affected.\n"
     ]
    },
    {
     "data": {
      "text/plain": [
       "[]"
      ]
     },
     "execution_count": 5,
     "metadata": {},
     "output_type": "execute_result"
    }
   ],
   "source": [
    "%%sql\n",
    "\n",
    "INSERT INTO Customer (customer_id, cust_name, city, grade, Salesman_id) VALUES\n",
    "  (3002, 'nick rimando', 'new york', 100, 5001),\n",
    "  (3007, 'brad davis', 'new york', 200, 5001),\n",
    "  (3005, 'graham zusi', 'california', 200, 5002),\n",
    "  (3008, 'julian green', 'london', 300, 5002),\n",
    "  (3004, 'fabian johnson', 'paris', 300, 5006),\n",
    "  (3009, 'geoff cameron', 'berlin', 100, 5003),\n",
    "  (3003, 'jozy altidor', 'moscow', 200, 5007),\n",
    "  (3001, 'brad guzan', 'london', NULL, 5005);"
   ]
  },
  {
   "cell_type": "code",
   "execution_count": 6,
   "id": "e77ade71",
   "metadata": {},
   "outputs": [
    {
     "name": "stdout",
     "output_type": "stream",
     "text": [
      " * sqlite:///tmp5.db\n",
      "Done.\n"
     ]
    },
    {
     "data": {
      "text/plain": [
       "[]"
      ]
     },
     "execution_count": 6,
     "metadata": {},
     "output_type": "execute_result"
    }
   ],
   "source": [
    "%%sql\n",
    "\n",
    "CREATE TABLE IF NOT EXISTS Orders (\n",
    "  ord_no int PRIMARY KEY,\n",
    "  purch_amt REAL,\n",
    "  ord_date TEXT,\n",
    "  customer_id int,\n",
    "  Salesman_id int,\n",
    "  FOREIGN KEY (customer_id) REFERENCES Customer(customer_id),\n",
    "  FOREIGN KEY (Salesman_id) REFERENCES Salesman(Salesman_id)\n",
    ");"
   ]
  },
  {
   "cell_type": "code",
   "execution_count": 7,
   "id": "4fe45313",
   "metadata": {},
   "outputs": [
    {
     "name": "stdout",
     "output_type": "stream",
     "text": [
      " * sqlite:///tmp5.db\n",
      "6 rows affected.\n"
     ]
    },
    {
     "data": {
      "text/plain": [
       "[]"
      ]
     },
     "execution_count": 7,
     "metadata": {},
     "output_type": "execute_result"
    }
   ],
   "source": [
    "%%sql\n",
    "\n",
    "INSERT INTO Orders (ord_no, purch_amt, ord_date, customer_id, Salesman_id) VALUES\n",
    "  (70001, 150.5, '2012-10-05', 3005, 5002),\n",
    "  (70009, 270.65, '2012-09-10', 3001, 5001),\n",
    "  (70002, 65.26, '2012-10-05', 3002, 5003),\n",
    "  (70004, 110.5, '2012-08-17', 3009, 5007),\n",
    "  (70007, 948.5, '2012-09-10', 3005, 5005),\n",
    "  (70005, 2400.6, '2012-07-27', 3007, 5006);"
   ]
  },
  {
   "cell_type": "code",
   "execution_count": 8,
   "id": "2bdd04e7",
   "metadata": {},
   "outputs": [
    {
     "name": "stdout",
     "output_type": "stream",
     "text": [
      " * sqlite:///tmp5.db\n",
      "Done.\n"
     ]
    },
    {
     "data": {
      "text/html": [
       "<table>\n",
       "    <thead>\n",
       "        <tr>\n",
       "            <th>cust_name</th>\n",
       "            <th>name</th>\n",
       "            <th>city</th>\n",
       "        </tr>\n",
       "    </thead>\n",
       "    <tbody>\n",
       "        <tr>\n",
       "            <td>nick rimando</td>\n",
       "            <td>James Hoog</td>\n",
       "            <td>new york</td>\n",
       "        </tr>\n",
       "        <tr>\n",
       "            <td>brad davis</td>\n",
       "            <td>James Hoog</td>\n",
       "            <td>new york</td>\n",
       "        </tr>\n",
       "        <tr>\n",
       "            <td>julian green</td>\n",
       "            <td>Pit Alex</td>\n",
       "            <td>london</td>\n",
       "        </tr>\n",
       "        <tr>\n",
       "            <td>fabian johnson</td>\n",
       "            <td>Mc Lyon</td>\n",
       "            <td>paris</td>\n",
       "        </tr>\n",
       "        <tr>\n",
       "            <td>fabian johnson</td>\n",
       "            <td>Nail Knite</td>\n",
       "            <td>paris</td>\n",
       "        </tr>\n",
       "        <tr>\n",
       "            <td>brad guzan</td>\n",
       "            <td>Pit Alex</td>\n",
       "            <td>london</td>\n",
       "        </tr>\n",
       "    </tbody>\n",
       "</table>"
      ],
      "text/plain": [
       "[('nick rimando', 'James Hoog', 'new york'),\n",
       " ('brad davis', 'James Hoog', 'new york'),\n",
       " ('julian green', 'Pit Alex', 'london'),\n",
       " ('fabian johnson', 'Mc Lyon', 'paris'),\n",
       " ('fabian johnson', 'Nail Knite', 'paris'),\n",
       " ('brad guzan', 'Pit Alex', 'london')]"
      ]
     },
     "execution_count": 8,
     "metadata": {},
     "output_type": "execute_result"
    }
   ],
   "source": [
    "%%sql\n",
    "\n",
    "SELECT Customer.cust_name, Salesman.name, Salesman.city\n",
    "FROM Customer\n",
    "JOIN Salesman ON Customer.city = Salesman.city;"
   ]
  },
  {
   "cell_type": "code",
   "execution_count": 9,
   "id": "c3b2b57b",
   "metadata": {},
   "outputs": [
    {
     "name": "stdout",
     "output_type": "stream",
     "text": [
      " * sqlite:///tmp5.db\n",
      "Done.\n"
     ]
    },
    {
     "data": {
      "text/html": [
       "<table>\n",
       "    <thead>\n",
       "        <tr>\n",
       "            <th>cust_name</th>\n",
       "            <th>name</th>\n",
       "        </tr>\n",
       "    </thead>\n",
       "    <tbody>\n",
       "        <tr>\n",
       "            <td>nick rimando</td>\n",
       "            <td>James Hoog</td>\n",
       "        </tr>\n",
       "        <tr>\n",
       "            <td>brad davis</td>\n",
       "            <td>James Hoog</td>\n",
       "        </tr>\n",
       "        <tr>\n",
       "            <td>graham zusi</td>\n",
       "            <td>Nail Knite</td>\n",
       "        </tr>\n",
       "        <tr>\n",
       "            <td>julian green</td>\n",
       "            <td>Nail Knite</td>\n",
       "        </tr>\n",
       "        <tr>\n",
       "            <td>fabian johnson</td>\n",
       "            <td>Mc Lyon</td>\n",
       "        </tr>\n",
       "        <tr>\n",
       "            <td>geoff cameron</td>\n",
       "            <td>Lauson Hen</td>\n",
       "        </tr>\n",
       "        <tr>\n",
       "            <td>jozy altidor</td>\n",
       "            <td>Paul Adam</td>\n",
       "        </tr>\n",
       "        <tr>\n",
       "            <td>brad guzan</td>\n",
       "            <td>Pit Alex</td>\n",
       "        </tr>\n",
       "    </tbody>\n",
       "</table>"
      ],
      "text/plain": [
       "[('nick rimando', 'James Hoog'),\n",
       " ('brad davis', 'James Hoog'),\n",
       " ('graham zusi', 'Nail Knite'),\n",
       " ('julian green', 'Nail Knite'),\n",
       " ('fabian johnson', 'Mc Lyon'),\n",
       " ('geoff cameron', 'Lauson Hen'),\n",
       " ('jozy altidor', 'Paul Adam'),\n",
       " ('brad guzan', 'Pit Alex')]"
      ]
     },
     "execution_count": 9,
     "metadata": {},
     "output_type": "execute_result"
    }
   ],
   "source": [
    "%%sql \n",
    "\n",
    "SELECT Customer.cust_name, Salesman.name\n",
    "FROM Customer\n",
    "JOIN Salesman ON Customer.Salesman_id = Salesman.Salesman_id;"
   ]
  },
  {
   "cell_type": "code",
   "execution_count": 11,
   "id": "e01540c5",
   "metadata": {},
   "outputs": [
    {
     "name": "stdout",
     "output_type": "stream",
     "text": [
      " * sqlite:///tmp5.db\n",
      "Done.\n"
     ]
    },
    {
     "data": {
      "text/html": [
       "<table>\n",
       "    <thead>\n",
       "        <tr>\n",
       "            <th>ord_no</th>\n",
       "            <th>cust_name</th>\n",
       "            <th>customer_id</th>\n",
       "            <th>Salesman_id</th>\n",
       "        </tr>\n",
       "    </thead>\n",
       "    <tbody>\n",
       "        <tr>\n",
       "            <td>70001</td>\n",
       "            <td>graham zusi</td>\n",
       "            <td>3005</td>\n",
       "            <td>5002</td>\n",
       "        </tr>\n",
       "        <tr>\n",
       "            <td>70009</td>\n",
       "            <td>brad guzan</td>\n",
       "            <td>3001</td>\n",
       "            <td>5001</td>\n",
       "        </tr>\n",
       "        <tr>\n",
       "            <td>70002</td>\n",
       "            <td>nick rimando</td>\n",
       "            <td>3002</td>\n",
       "            <td>5003</td>\n",
       "        </tr>\n",
       "        <tr>\n",
       "            <td>70004</td>\n",
       "            <td>geoff cameron</td>\n",
       "            <td>3009</td>\n",
       "            <td>5007</td>\n",
       "        </tr>\n",
       "        <tr>\n",
       "            <td>70007</td>\n",
       "            <td>graham zusi</td>\n",
       "            <td>3005</td>\n",
       "            <td>5005</td>\n",
       "        </tr>\n",
       "        <tr>\n",
       "            <td>70005</td>\n",
       "            <td>brad davis</td>\n",
       "            <td>3007</td>\n",
       "            <td>5006</td>\n",
       "        </tr>\n",
       "    </tbody>\n",
       "</table>"
      ],
      "text/plain": [
       "[(70001, 'graham zusi', 3005, 5002),\n",
       " (70009, 'brad guzan', 3001, 5001),\n",
       " (70002, 'nick rimando', 3002, 5003),\n",
       " (70004, 'geoff cameron', 3009, 5007),\n",
       " (70007, 'graham zusi', 3005, 5005),\n",
       " (70005, 'brad davis', 3007, 5006)]"
      ]
     },
     "execution_count": 11,
     "metadata": {},
     "output_type": "execute_result"
    }
   ],
   "source": [
    "%%sql\n",
    "\n",
    "SELECT Orders.ord_no, Customer.cust_name, Orders.customer_id, Orders.Salesman_id\n",
    "FROM Orders\n",
    "JOIN Customer ON Orders.customer_id = Customer.customer_id\n",
    "JOIN Salesman ON Orders.Salesman_id = Salesman.Salesman_id\n",
    "WHERE Customer.city <> Salesman.city;"
   ]
  },
  {
   "cell_type": "code",
   "execution_count": 12,
   "id": "604b6030",
   "metadata": {},
   "outputs": [
    {
     "name": "stdout",
     "output_type": "stream",
     "text": [
      " * sqlite:///tmp5.db\n",
      "Done.\n"
     ]
    },
    {
     "data": {
      "text/html": [
       "<table>\n",
       "    <thead>\n",
       "        <tr>\n",
       "            <th>ord_no</th>\n",
       "            <th>cust_name</th>\n",
       "        </tr>\n",
       "    </thead>\n",
       "    <tbody>\n",
       "        <tr>\n",
       "            <td>70001</td>\n",
       "            <td>graham zusi</td>\n",
       "        </tr>\n",
       "        <tr>\n",
       "            <td>70009</td>\n",
       "            <td>brad guzan</td>\n",
       "        </tr>\n",
       "        <tr>\n",
       "            <td>70002</td>\n",
       "            <td>nick rimando</td>\n",
       "        </tr>\n",
       "        <tr>\n",
       "            <td>70004</td>\n",
       "            <td>geoff cameron</td>\n",
       "        </tr>\n",
       "        <tr>\n",
       "            <td>70007</td>\n",
       "            <td>graham zusi</td>\n",
       "        </tr>\n",
       "        <tr>\n",
       "            <td>70005</td>\n",
       "            <td>brad davis</td>\n",
       "        </tr>\n",
       "    </tbody>\n",
       "</table>"
      ],
      "text/plain": [
       "[(70001, 'graham zusi'),\n",
       " (70009, 'brad guzan'),\n",
       " (70002, 'nick rimando'),\n",
       " (70004, 'geoff cameron'),\n",
       " (70007, 'graham zusi'),\n",
       " (70005, 'brad davis')]"
      ]
     },
     "execution_count": 12,
     "metadata": {},
     "output_type": "execute_result"
    }
   ],
   "source": [
    "%%sql \n",
    "\n",
    "SELECT Orders.ord_no, Customer.cust_name\n",
    "FROM Orders\n",
    "JOIN Customer ON Orders.customer_id = Customer.customer_id;"
   ]
  },
  {
   "cell_type": "code",
   "execution_count": 13,
   "id": "8f6de53f",
   "metadata": {},
   "outputs": [
    {
     "name": "stdout",
     "output_type": "stream",
     "text": [
      " * sqlite:///tmp5.db\n",
      "Done.\n"
     ]
    },
    {
     "data": {
      "text/html": [
       "<table>\n",
       "    <thead>\n",
       "        <tr>\n",
       "            <th>Customer</th>\n",
       "            <th>Grade</th>\n",
       "        </tr>\n",
       "    </thead>\n",
       "    <tbody>\n",
       "        <tr>\n",
       "            <td>graham zusi</td>\n",
       "            <td>200</td>\n",
       "        </tr>\n",
       "        <tr>\n",
       "            <td>nick rimando</td>\n",
       "            <td>100</td>\n",
       "        </tr>\n",
       "        <tr>\n",
       "            <td>geoff cameron</td>\n",
       "            <td>100</td>\n",
       "        </tr>\n",
       "        <tr>\n",
       "            <td>graham zusi</td>\n",
       "            <td>200</td>\n",
       "        </tr>\n",
       "        <tr>\n",
       "            <td>brad davis</td>\n",
       "            <td>200</td>\n",
       "        </tr>\n",
       "    </tbody>\n",
       "</table>"
      ],
      "text/plain": [
       "[('graham zusi', 200),\n",
       " ('nick rimando', 100),\n",
       " ('geoff cameron', 100),\n",
       " ('graham zusi', 200),\n",
       " ('brad davis', 200)]"
      ]
     },
     "execution_count": 13,
     "metadata": {},
     "output_type": "execute_result"
    }
   ],
   "source": [
    "%%sql\n",
    "\n",
    "SELECT Customer.cust_name AS \"Customer\", Customer.grade AS \"Grade\"\n",
    "FROM Orders\n",
    "JOIN Salesman ON Orders.Salesman_id = Salesman.Salesman_id\n",
    "JOIN Customer ON Orders.customer_id = Customer.customer_id\n",
    "WHERE Customer.grade IS NOT NULL;"
   ]
  },
  {
   "cell_type": "code",
   "execution_count": 14,
   "id": "7896438b",
   "metadata": {},
   "outputs": [
    {
     "name": "stdout",
     "output_type": "stream",
     "text": [
      " * sqlite:///tmp5.db\n",
      "Done.\n"
     ]
    },
    {
     "data": {
      "text/html": [
       "<table>\n",
       "    <thead>\n",
       "        <tr>\n",
       "            <th>Customer</th>\n",
       "            <th>City</th>\n",
       "            <th>Salesman</th>\n",
       "            <th>Comission</th>\n",
       "        </tr>\n",
       "    </thead>\n",
       "    <tbody>\n",
       "        <tr>\n",
       "            <td>graham zusi</td>\n",
       "            <td>california</td>\n",
       "            <td>Nail Knite</td>\n",
       "            <td>0.13</td>\n",
       "        </tr>\n",
       "        <tr>\n",
       "            <td>julian green</td>\n",
       "            <td>london</td>\n",
       "            <td>Nail Knite</td>\n",
       "            <td>0.13</td>\n",
       "        </tr>\n",
       "        <tr>\n",
       "            <td>fabian johnson</td>\n",
       "            <td>paris</td>\n",
       "            <td>Mc Lyon</td>\n",
       "            <td>0.14</td>\n",
       "        </tr>\n",
       "        <tr>\n",
       "            <td>geoff cameron</td>\n",
       "            <td>berlin</td>\n",
       "            <td>Lauson Hen</td>\n",
       "            <td>0.12</td>\n",
       "        </tr>\n",
       "        <tr>\n",
       "            <td>jozy altidor</td>\n",
       "            <td>moscow</td>\n",
       "            <td>Paul Adam</td>\n",
       "            <td>0.13</td>\n",
       "        </tr>\n",
       "    </tbody>\n",
       "</table>"
      ],
      "text/plain": [
       "[('graham zusi', 'california', 'Nail Knite', 0.13),\n",
       " ('julian green', 'london', 'Nail Knite', 0.13),\n",
       " ('fabian johnson', 'paris', 'Mc Lyon', 0.14),\n",
       " ('geoff cameron', 'berlin', 'Lauson Hen', 0.12),\n",
       " ('jozy altidor', 'moscow', 'Paul Adam', 0.13)]"
      ]
     },
     "execution_count": 14,
     "metadata": {},
     "output_type": "execute_result"
    }
   ],
   "source": [
    "%%sql\n",
    "\n",
    "SELECT Customer.cust_name AS \"Customer\",\n",
    "Customer.city AS \"City\",\n",
    "Salesman.name AS \"Salesman\",\n",
    "Salesman.Comission\n",
    "FROM Customer\n",
    "JOIN Salesman ON Customer.Salesman_id = Salesman.Salesman_id\n",
    "WHERE Salesman.Comission BETWEEN 0.12 AND 0.14;"
   ]
  },
  {
   "cell_type": "code",
   "execution_count": 16,
   "id": "19e12acf",
   "metadata": {},
   "outputs": [
    {
     "name": "stdout",
     "output_type": "stream",
     "text": [
      " * sqlite:///tmp5.db\n",
      "Done.\n"
     ]
    },
    {
     "data": {
      "text/html": [
       "<table>\n",
       "    <thead>\n",
       "        <tr>\n",
       "            <th>ord_no</th>\n",
       "            <th>cust_name</th>\n",
       "            <th>Commission%</th>\n",
       "            <th>Commission</th>\n",
       "        </tr>\n",
       "    </thead>\n",
       "    <tbody>\n",
       "        <tr>\n",
       "            <td>70001</td>\n",
       "            <td>graham zusi</td>\n",
       "            <td>0.13</td>\n",
       "            <td>19.565</td>\n",
       "        </tr>\n",
       "        <tr>\n",
       "            <td>70007</td>\n",
       "            <td>graham zusi</td>\n",
       "            <td>0.11</td>\n",
       "            <td>104.335</td>\n",
       "        </tr>\n",
       "        <tr>\n",
       "            <td>70005</td>\n",
       "            <td>brad davis</td>\n",
       "            <td>0.14</td>\n",
       "            <td>336.084</td>\n",
       "        </tr>\n",
       "    </tbody>\n",
       "</table>"
      ],
      "text/plain": [
       "[(70001, 'graham zusi', 0.13, 19.565),\n",
       " (70007, 'graham zusi', 0.11, 104.335),\n",
       " (70005, 'brad davis', 0.14, 336.084)]"
      ]
     },
     "execution_count": 16,
     "metadata": {},
     "output_type": "execute_result"
    }
   ],
   "source": [
    "%%sql\n",
    "\n",
    "SELECT Orders.ord_no, Customer.cust_name, Salesman.Comission AS \"Commission%\",\n",
    "Orders.purch_amt * Salesman.Comission AS \"Commission\"\n",
    "FROM Orders\n",
    "JOIN Salesman ON Orders.Salesman_id = Salesman.Salesman_id\n",
    "JOIN Customer ON Orders.customer_id = Customer.customer_id\n",
    "WHERE Customer.grade >= 200;"
   ]
  },
  {
   "cell_type": "code",
   "execution_count": 17,
   "id": "4ed3b66d",
   "metadata": {},
   "outputs": [
    {
     "name": "stdout",
     "output_type": "stream",
     "text": [
      " * sqlite:///tmp5.db\n",
      "Done.\n"
     ]
    },
    {
     "data": {
      "text/html": [
       "<table>\n",
       "    <thead>\n",
       "        <tr>\n",
       "            <th>customer_id</th>\n",
       "            <th>cust_name</th>\n",
       "            <th>city</th>\n",
       "            <th>grade</th>\n",
       "            <th>Salesman_id</th>\n",
       "            <th>ord_no</th>\n",
       "            <th>purch_amt</th>\n",
       "            <th>ord_date</th>\n",
       "            <th>customer_id_1</th>\n",
       "            <th>Salesman_id_1</th>\n",
       "        </tr>\n",
       "    </thead>\n",
       "    <tbody>\n",
       "        <tr>\n",
       "            <td>3005</td>\n",
       "            <td>graham zusi</td>\n",
       "            <td>california</td>\n",
       "            <td>200</td>\n",
       "            <td>5002</td>\n",
       "            <td>70001</td>\n",
       "            <td>150.5</td>\n",
       "            <td>2012-10-05</td>\n",
       "            <td>3005</td>\n",
       "            <td>5002</td>\n",
       "        </tr>\n",
       "        <tr>\n",
       "            <td>3002</td>\n",
       "            <td>nick rimando</td>\n",
       "            <td>new york</td>\n",
       "            <td>100</td>\n",
       "            <td>5001</td>\n",
       "            <td>70002</td>\n",
       "            <td>65.26</td>\n",
       "            <td>2012-10-05</td>\n",
       "            <td>3002</td>\n",
       "            <td>5003</td>\n",
       "        </tr>\n",
       "    </tbody>\n",
       "</table>"
      ],
      "text/plain": [
       "[(3005, 'graham zusi', 'california', 200, 5002, 70001, 150.5, '2012-10-05', 3005, 5002),\n",
       " (3002, 'nick rimando', 'new york', 100, 5001, 70002, 65.26, '2012-10-05', 3002, 5003)]"
      ]
     },
     "execution_count": 17,
     "metadata": {},
     "output_type": "execute_result"
    }
   ],
   "source": [
    "%%sql\n",
    "\n",
    "SELECT *\n",
    "FROM Customer\n",
    "JOIN Orders ON Customer.customer_id = Orders.customer_id\n",
    "WHERE Orders.ord_date = '2012-10-05';"
   ]
  },
  {
   "cell_type": "code",
   "execution_count": null,
   "id": "44f22a6f",
   "metadata": {},
   "outputs": [],
   "source": []
  }
 ],
 "metadata": {
  "kernelspec": {
   "display_name": "Python 3 (ipykernel)",
   "language": "python",
   "name": "python3"
  },
  "language_info": {
   "codemirror_mode": {
    "name": "ipython",
    "version": 3
   },
   "file_extension": ".py",
   "mimetype": "text/x-python",
   "name": "python",
   "nbconvert_exporter": "python",
   "pygments_lexer": "ipython3",
   "version": "3.11.7"
  }
 },
 "nbformat": 4,
 "nbformat_minor": 5
}
