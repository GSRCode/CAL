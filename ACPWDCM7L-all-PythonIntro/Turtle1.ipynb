{
 "cells": [
  {
   "cell_type": "code",
   "execution_count": 1,
   "id": "b2611056",
   "metadata": {},
   "outputs": [],
   "source": [
    "import turtle"
   ]
  },
  {
   "cell_type": "code",
   "execution_count": 2,
   "id": "b36bb9bd",
   "metadata": {},
   "outputs": [],
   "source": [
    "# creating canvas\n",
    "turtle.Screen().bgcolor(\"Orange\")\n",
    "\n",
    "sc = turtle.Screen()\n",
    "sc.setup(400, 300)\n",
    "\n",
    "turtle.title(\"Welcome to Turtle Window\")\n",
    "\n",
    "# turtle object creation\n",
    "board = turtle.Turtle()"
   ]
  },
  {
   "cell_type": "code",
   "execution_count": 3,
   "id": "9056bcff",
   "metadata": {},
   "outputs": [],
   "source": [
    "\n",
    "\n",
    "# creating a square\n",
    "for i in range(4):\n",
    "    board.forward(100)\n",
    "    board.left(90)\n",
    "    i = i+1\n",
    "    \n",
    "turtle.done()"
   ]
  },
  {
   "cell_type": "code",
   "execution_count": null,
   "id": "bc4831db",
   "metadata": {},
   "outputs": [],
   "source": [
    " \n"
   ]
  },
  {
   "cell_type": "code",
   "execution_count": null,
   "id": "de9f0bd5",
   "metadata": {},
   "outputs": [],
   "source": []
  }
 ],
 "metadata": {
  "kernelspec": {
   "display_name": "Python 3 (ipykernel)",
   "language": "python",
   "name": "python3"
  },
  "language_info": {
   "codemirror_mode": {
    "name": "ipython",
    "version": 3
   },
   "file_extension": ".py",
   "mimetype": "text/x-python",
   "name": "python",
   "nbconvert_exporter": "python",
   "pygments_lexer": "ipython3",
   "version": "3.11.7"
  }
 },
 "nbformat": 4,
 "nbformat_minor": 5
}
