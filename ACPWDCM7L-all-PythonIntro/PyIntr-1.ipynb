{
 "cells": [
  {
   "cell_type": "code",
   "execution_count": 1,
   "id": "e0722cf3",
   "metadata": {},
   "outputs": [
    {
     "name": "stdout",
     "output_type": "stream",
     "text": [
      "Welcome to the world of programming!\n",
      "4\n",
      "Hello Python \n",
      "\n"
     ]
    }
   ],
   "source": [
    "#Print a Sentence \n",
    "print(\"Welcome to the world of programming!\")\n",
    "\n",
    "#Print a Number\n",
    "print(4)\n",
    "\n",
    "#Next Line after print\n",
    "print(\"Hello Python \\n\")"
   ]
  },
  {
   "cell_type": "code",
   "execution_count": 2,
   "id": "c52d5383",
   "metadata": {},
   "outputs": [
    {
     "name": "stdout",
     "output_type": "stream",
     "text": [
      "Keywords in Python are....\n",
      "['False', 'None', 'True', 'and', 'as', 'assert', 'async', 'await', 'break', 'class', 'continue', 'def', 'del', 'elif', 'else', 'except', 'finally', 'for', 'from', 'global', 'if', 'import', 'in', 'is', 'lambda', 'nonlocal', 'not', 'or', 'pass', 'raise', 'return', 'try', 'while', 'with', 'yield']\n"
     ]
    }
   ],
   "source": [
    "#Print all the keywords present in Python\n",
    "print(\"Keywords in Python are....\")\n",
    "import keyword\n",
    "print(keyword.kwlist)"
   ]
  },
  {
   "cell_type": "code",
   "execution_count": 3,
   "id": "0a55b0a8",
   "metadata": {},
   "outputs": [],
   "source": [
    "name = \"Penguin\"\n",
    "age = 15\n",
    "is_student = True\n",
    "weight = 38.5"
   ]
  },
  {
   "cell_type": "code",
   "execution_count": 4,
   "id": "4728564c",
   "metadata": {},
   "outputs": [
    {
     "name": "stdout",
     "output_type": "stream",
     "text": [
      "Name : Penguin\n",
      "Data Type of Name is <class 'str'>\n"
     ]
    }
   ],
   "source": [
    "print(\"Name :\", name)\n",
    "print(\"Data Type of Name is\", type(name))"
   ]
  },
  {
   "cell_type": "code",
   "execution_count": 5,
   "id": "406e4568",
   "metadata": {},
   "outputs": [
    {
     "name": "stdout",
     "output_type": "stream",
     "text": [
      "Age : 15\n",
      "Data Type of Age is <class 'int'>\n"
     ]
    }
   ],
   "source": [
    "print(\"Age :\", age)\n",
    "print(\"Data Type of Age is\", type(age))"
   ]
  },
  {
   "cell_type": "code",
   "execution_count": 6,
   "id": "cdc408ae",
   "metadata": {},
   "outputs": [
    {
     "name": "stdout",
     "output_type": "stream",
     "text": [
      "is_student : True\n",
      "Data Type of is_student is <class 'bool'>\n"
     ]
    }
   ],
   "source": [
    "print(\"is_student :\", is_student)\n",
    "print(\"Data Type of is_student is\", type(is_student))"
   ]
  },
  {
   "cell_type": "code",
   "execution_count": 7,
   "id": "d7398dcd",
   "metadata": {},
   "outputs": [
    {
     "name": "stdout",
     "output_type": "stream",
     "text": [
      "Weight : 38.5\n",
      "Data Type of weight is <class 'float'>\n"
     ]
    }
   ],
   "source": [
    "print(\"Weight :\", weight)\n",
    "print(\"Data Type of weight is\", type(weight))"
   ]
  },
  {
   "cell_type": "code",
   "execution_count": 8,
   "id": "182b9eb0",
   "metadata": {},
   "outputs": [
    {
     "name": "stdout",
     "output_type": "stream",
     "text": [
      "\n",
      " After Type Casting....\n",
      "15\n",
      "Data Type of age is <class 'str'>\n"
     ]
    }
   ],
   "source": [
    "print(\"\\n After Type Casting....\")\n",
    "age = str(age)\n",
    "print(age)\n",
    "print(\"Data Type of age is\", type(age))"
   ]
  },
  {
   "cell_type": "code",
   "execution_count": 9,
   "id": "8acbf127",
   "metadata": {},
   "outputs": [
    {
     "name": "stdout",
     "output_type": "stream",
     "text": [
      "38\n",
      "Data Type of Weight is <class 'int'>\n"
     ]
    }
   ],
   "source": [
    "weight = int(weight)\n",
    "print(weight)\n",
    "print(\"Data Type of Weight is\", type(weight))"
   ]
  },
  {
   "cell_type": "code",
   "execution_count": 10,
   "id": "4ef63136",
   "metadata": {},
   "outputs": [],
   "source": [
    "num1 = 45\n",
    "num2 = 3"
   ]
  },
  {
   "cell_type": "code",
   "execution_count": 11,
   "id": "1d9aa420",
   "metadata": {},
   "outputs": [
    {
     "name": "stdout",
     "output_type": "stream",
     "text": [
      "Number 1 45\n",
      "Number 2 3\n"
     ]
    }
   ],
   "source": [
    "print(\"Number 1\", num1)\n",
    "print(\"Number 2\", num2)"
   ]
  },
  {
   "cell_type": "code",
   "execution_count": 12,
   "id": "5411e3ce",
   "metadata": {},
   "outputs": [
    {
     "name": "stdout",
     "output_type": "stream",
     "text": [
      "Addition : 48\n",
      "Difference : 42\n",
      "Product : 135\n",
      "Division : 15.0\n"
     ]
    }
   ],
   "source": [
    "print(\"Addition :\", num1+num2)\n",
    "print(\"Difference :\", num1-num2)\n",
    "print(\"Product :\", num1*num2)\n",
    "print(\"Division :\", num1/num2)"
   ]
  },
  {
   "cell_type": "code",
   "execution_count": 13,
   "id": "d8febda6",
   "metadata": {},
   "outputs": [
    {
     "name": "stdout",
     "output_type": "stream",
     "text": [
      "Floor Division : 15\n",
      "Modulus Operation : 0\n",
      "Square : 9\n",
      "Square Root : 6.708203932499369\n"
     ]
    }
   ],
   "source": [
    "print(\"Floor Division :\", num1//num2)\n",
    "print(\"Modulus Operation :\", num1%num2)\n",
    "print(\"Square :\", num2**2)\n",
    "print(\"Square Root :\", num1**0.5)"
   ]
  },
  {
   "cell_type": "code",
   "execution_count": 14,
   "id": "f09997ae",
   "metadata": {},
   "outputs": [
    {
     "name": "stdout",
     "output_type": "stream",
     "text": [
      "Equal ? False\n",
      "Number 1 greater? True\n",
      "Number 2 greater? False\n",
      "Not Equal ? True\n"
     ]
    }
   ],
   "source": [
    "print(\"Equal ?\", num1==num2)\n",
    "print(\"Number 1 greater?\", num1>num2)\n",
    "print(\"Number 2 greater?\", num1<num2)\n",
    "print(\"Not Equal ?\", num1!=num2)"
   ]
  },
  {
   "cell_type": "code",
   "execution_count": 15,
   "id": "5c572e4d",
   "metadata": {},
   "outputs": [
    {
     "name": "stdout",
     "output_type": "stream",
     "text": [
      "Result of given equation is: 41.5\n"
     ]
    }
   ],
   "source": [
    "result = num1/2+num2**2+10\n",
    "print(\"Result of given equation is:\", result)"
   ]
  },
  {
   "cell_type": "code",
   "execution_count": 16,
   "id": "95cccab0",
   "metadata": {},
   "outputs": [],
   "source": [
    "first_name = \"Codingal\"\n",
    "last_name = \"Educations\"\n",
    "full_name = first_name+last_name\n",
    "example = \"Haa\"*5"
   ]
  },
  {
   "cell_type": "code",
   "execution_count": 17,
   "id": "2bc17637",
   "metadata": {},
   "outputs": [
    {
     "name": "stdout",
     "output_type": "stream",
     "text": [
      "First Name : Codingal\n",
      "Last Name : Educations\n",
      "Full Name : CodingalEducations\n"
     ]
    }
   ],
   "source": [
    "print(\"First Name :\", first_name)\n",
    "print(\"Last Name :\", last_name)\n",
    "print(\"Full Name :\", full_name)"
   ]
  },
  {
   "cell_type": "code",
   "execution_count": 18,
   "id": "b7377132",
   "metadata": {},
   "outputs": [
    {
     "name": "stdout",
     "output_type": "stream",
     "text": [
      "String Multiplied 5 times gives this result : HaaHaaHaaHaaHaa\n"
     ]
    }
   ],
   "source": [
    "print(\"String Multiplied 5 times gives this result :\", example)"
   ]
  },
  {
   "cell_type": "code",
   "execution_count": 19,
   "id": "7f435ede",
   "metadata": {},
   "outputs": [
    {
     "name": "stdout",
     "output_type": "stream",
     "text": [
      "Length of String : 6\n",
      "First Letter of String : C\n",
      "Last Letter of String : g\n",
      "String Sliced : Cod\n"
     ]
    }
   ],
   "source": [
    "word = 'Coding'\n",
    "print(\"Length of String :\", len(word))\n",
    "print(\"First Letter of String :\", word[0])\n",
    "print(\"Last Letter of String :\", word[5])\n",
    "print(\"String Sliced :\", word[0:3])"
   ]
  },
  {
   "cell_type": "code",
   "execution_count": 21,
   "id": "b480c154",
   "metadata": {},
   "outputs": [
    {
     "name": "stdout",
     "output_type": "stream",
     "text": [
      "Enter Value of x:5\n",
      "Enter Value of y:101\n"
     ]
    }
   ],
   "source": [
    "#Take input values from user\n",
    "x = input(\"Enter Value of x:\")\n",
    "y = input(\"Enter Value of y:\")"
   ]
  },
  {
   "cell_type": "code",
   "execution_count": 22,
   "id": "c64075a7",
   "metadata": {},
   "outputs": [],
   "source": [
    "# Swapping\n",
    "temp = x\n",
    "x = y\n",
    "y = temp"
   ]
  },
  {
   "cell_type": "code",
   "execution_count": 23,
   "id": "b7e46b9e",
   "metadata": {},
   "outputs": [
    {
     "name": "stdout",
     "output_type": "stream",
     "text": [
      "value of x after swapping 101\n",
      "value of y after swapping 5\n"
     ]
    }
   ],
   "source": [
    "# Displaying results after swapping\n",
    "print(\"value of x after swapping\", x)\n",
    "print(\"value of y after swapping\", y)"
   ]
  },
  {
   "cell_type": "code",
   "execution_count": 24,
   "id": "388007bc",
   "metadata": {},
   "outputs": [
    {
     "name": "stdout",
     "output_type": "stream",
     "text": [
      "Before swapping :\n",
      "x = 5\n",
      "y = 9\n",
      "z = 1\n"
     ]
    }
   ],
   "source": [
    "x = 5\n",
    "y = 9\n",
    "z = 1\n",
    "\n",
    "print(\"Before swapping :\")\n",
    "print(\"x =\",x)\n",
    "print(\"y =\",y)\n",
    "print(\"z =\",z)"
   ]
  },
  {
   "cell_type": "code",
   "execution_count": 25,
   "id": "9d0105a5",
   "metadata": {},
   "outputs": [
    {
     "name": "stdout",
     "output_type": "stream",
     "text": [
      "\n",
      "After swapping :\n",
      "x = 1\n",
      "y = 5\n",
      "z = 9\n"
     ]
    }
   ],
   "source": [
    "temp1 = z\n",
    "z = y\n",
    "y = x\n",
    "x = temp1\n",
    "\n",
    "print(\"\\nAfter swapping :\")\n",
    "print(\"x =\",x)\n",
    "print(\"y =\",y)\n",
    "print(\"z =\",z)"
   ]
  },
  {
   "cell_type": "code",
   "execution_count": 26,
   "id": "ba49fc5d",
   "metadata": {},
   "outputs": [
    {
     "name": "stdout",
     "output_type": "stream",
     "text": [
      "Enter Number to check22\n",
      "Number to be checked : 22\n",
      "This is an even number\n"
     ]
    }
   ],
   "source": [
    "number = int(input(\"Enter Number to check\"))\n",
    "print(\"Number to be checked :\", number)\n",
    "\n",
    "if number%2==0 :\n",
    "    print(\"This is an even number\")\n",
    "\n",
    "else:\n",
    "    print(\"This is an odd number\")"
   ]
  },
  {
   "cell_type": "code",
   "execution_count": 27,
   "id": "cbcaee69",
   "metadata": {},
   "outputs": [
    {
     "name": "stdout",
     "output_type": "stream",
     "text": [
      "Enter total number of working days365\n",
      "Enter number of days  absent25\n"
     ]
    }
   ],
   "source": [
    "nd = int(input(\"Enter total number of working days\"))\n",
    "na = int(input(\"Enter number of days  absent\"))\n",
    "\n",
    "per=(nd-na)/nd*100"
   ]
  },
  {
   "cell_type": "code",
   "execution_count": 28,
   "id": "486dd8a8",
   "metadata": {},
   "outputs": [
    {
     "name": "stdout",
     "output_type": "stream",
     "text": [
      "Your attendance is  93.15068493150685\n",
      "You are eligible for writing exam\n"
     ]
    }
   ],
   "source": [
    "print(\"Your attendance is \",per)\n",
    "if per <75 :\n",
    "     print(\"You are not eligible for exams\")\n",
    "else:\n",
    "     print(\"You are eligible for writing exam\")"
   ]
  },
  {
   "cell_type": "code",
   "execution_count": 31,
   "id": "e2f744d3",
   "metadata": {},
   "outputs": [
    {
     "name": "stdout",
     "output_type": "stream",
     "text": [
      "Table of 23\n",
      "23 x 1 = 23\n",
      "23 x 2 = 46\n",
      "23 x 3 = 69\n",
      "23 x 4 = 92\n",
      "23 x 5 = 115\n",
      "23 x 6 = 138\n",
      "23 x 7 = 161\n",
      "23 x 8 = 184\n",
      "23 x 9 = 207\n",
      "23 x 10 = 230\n"
     ]
    }
   ],
   "source": [
    "num = 23\n",
    "print(\"Table of 23\")\n",
    "for i in range(1,11):\n",
    "    mul = num*i\n",
    "    print(f\"23 x {i} = {mul}\")"
   ]
  },
  {
   "cell_type": "code",
   "execution_count": 32,
   "id": "5ec3f865",
   "metadata": {},
   "outputs": [
    {
     "name": "stdout",
     "output_type": "stream",
     "text": [
      "enter number of rows6\n"
     ]
    }
   ],
   "source": [
    "n = int(input(\"enter number of rows\"))"
   ]
  },
  {
   "cell_type": "code",
   "execution_count": 33,
   "id": "7facca4f",
   "metadata": {},
   "outputs": [
    {
     "name": "stdout",
     "output_type": "stream",
     "text": [
      "* \n",
      "\n",
      "* * \n",
      "\n",
      "* * * \n",
      "\n",
      "* * * * \n",
      "\n",
      "* * * * * \n",
      "\n",
      "* * * * * * \n",
      "\n"
     ]
    }
   ],
   "source": [
    "for i in range(0, n):\n",
    "    for j in range(0, i+1):\n",
    "        print(\"*\", end=\" \")\n",
    "    print(\"\\n\")"
   ]
  },
  {
   "cell_type": "code",
   "execution_count": 34,
   "id": "19bbef1b",
   "metadata": {},
   "outputs": [
    {
     "name": "stdout",
     "output_type": "stream",
     "text": [
      "Sum of First 10 Natural Numbers : 55\n"
     ]
    }
   ],
   "source": [
    "num = 1\n",
    "sum = 0\n",
    "while(num<=10):\n",
    "    sum = sum+num\n",
    "    num = num+1\n",
    "\n",
    "print(\"Sum of First 10 Natural Numbers :\", sum)"
   ]
  },
  {
   "cell_type": "code",
   "execution_count": 35,
   "id": "8f69634d",
   "metadata": {},
   "outputs": [],
   "source": [
    "def intro(name):    \n",
    "    print(\"Hello, Good morning! I am\", name)\n",
    "\n"
   ]
  },
  {
   "cell_type": "code",
   "execution_count": 36,
   "id": "3aff4fae",
   "metadata": {},
   "outputs": [
    {
     "name": "stdout",
     "output_type": "stream",
     "text": [
      "Enter your nameSrini\n",
      "Hello, Good morning! I am Srini\n"
     ]
    }
   ],
   "source": [
    "user_name = input(\"Enter your name\")\n",
    "intro(user_name)"
   ]
  },
  {
   "cell_type": "code",
   "execution_count": null,
   "id": "bbbb5d78",
   "metadata": {},
   "outputs": [],
   "source": []
  }
 ],
 "metadata": {
  "kernelspec": {
   "display_name": "Python 3 (ipykernel)",
   "language": "python",
   "name": "python3"
  },
  "language_info": {
   "codemirror_mode": {
    "name": "ipython",
    "version": 3
   },
   "file_extension": ".py",
   "mimetype": "text/x-python",
   "name": "python",
   "nbconvert_exporter": "python",
   "pygments_lexer": "ipython3",
   "version": "3.11.7"
  }
 },
 "nbformat": 4,
 "nbformat_minor": 5
}
