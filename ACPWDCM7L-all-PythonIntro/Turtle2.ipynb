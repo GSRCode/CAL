{
 "cells": [
  {
   "cell_type": "code",
   "execution_count": 1,
   "id": "7a6e8da0",
   "metadata": {},
   "outputs": [],
   "source": [
    "import turtle"
   ]
  },
  {
   "cell_type": "code",
   "execution_count": 2,
   "id": "57e650b6",
   "metadata": {},
   "outputs": [],
   "source": [
    "# creating canvas\n",
    "turtle.Screen().bgcolor(\"Orange\")\n",
    "\n",
    "sc = turtle.Screen()\n",
    "sc.setup(400, 300)\n",
    "\n",
    "turtle.title(\"Welcome to Turtle Window\")\n",
    "\n",
    "# turtle object creation\n",
    "board = turtle.Turtle()"
   ]
  },
  {
   "cell_type": "code",
   "execution_count": 3,
   "id": "3204a460",
   "metadata": {},
   "outputs": [],
   "source": [
    "# first triangle for star\n",
    "board.forward(100) # draw base\n",
    " \n",
    "board.left(120)\n",
    "board.forward(100)\n",
    " \n",
    "board.left(120)\n",
    "board.forward(100)\n",
    " \n",
    "board.penup()\n",
    "board.right(150)\n",
    "board.forward(50)\n",
    " \n",
    "# second triangle for star\n",
    "board.pendown()\n",
    "board.right(90)\n",
    "board.forward(100)\n",
    " \n",
    "board.right(120)\n",
    "board.forward(100)\n",
    " \n",
    "board.right(120)\n",
    "board.forward(100)\n",
    " \n",
    "turtle.done()"
   ]
  },
  {
   "cell_type": "code",
   "execution_count": null,
   "id": "6f997df1",
   "metadata": {},
   "outputs": [],
   "source": []
  }
 ],
 "metadata": {
  "kernelspec": {
   "display_name": "Python 3 (ipykernel)",
   "language": "python",
   "name": "python3"
  },
  "language_info": {
   "codemirror_mode": {
    "name": "ipython",
    "version": 3
   },
   "file_extension": ".py",
   "mimetype": "text/x-python",
   "name": "python",
   "nbconvert_exporter": "python",
   "pygments_lexer": "ipython3",
   "version": "3.11.7"
  }
 },
 "nbformat": 4,
 "nbformat_minor": 5
}
