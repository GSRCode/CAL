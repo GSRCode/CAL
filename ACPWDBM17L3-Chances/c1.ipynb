{
 "cells": [
  {
   "cell_type": "code",
   "execution_count": 1,
   "id": "f84ef25b",
   "metadata": {},
   "outputs": [],
   "source": [
    "def a_and_b(a, b):\n",
    "    \n",
    "    if a==1:\n",
    "        prob_student = 0.3\n",
    "        if b ==1:\n",
    "            prob_dining = 0.75\n",
    "        else:\n",
    "            prob_dining = 0.25\n",
    "        print(\"Probability of dining given a:\", prob_dining)\n",
    "\n",
    "    if a==2:\n",
    "        prob_student=0.7\n",
    "        if b==1:\n",
    "            prob_dining = 0.6\n",
    "        else:\n",
    "            prob_dining = 0.4\n",
    "        print(\"Probability of dining given b:\", prob_dining)\n",
    "\n",
    "    prob_a_and_b = prob_student*prob_dining\n",
    "    return round(prob_a_and_b, 3)"
   ]
  },
  {
   "cell_type": "code",
   "execution_count": 2,
   "id": "77eae3e7",
   "metadata": {},
   "outputs": [
    {
     "name": "stdout",
     "output_type": "stream",
     "text": [
      "Check the probability of any event occuring. First enter your choices.\n",
      "Is the student a Freshman? \n",
      " 1. Yes \n",
      " 2. No\n",
      "Enter your choice (1/2): 1\n",
      "Is student eating in dining hall? \n",
      " 1. Yes \n",
      " 2. No\n",
      "Enter your choice (1/2): 1\n",
      "Probability of dining given a: 0.75\n",
      "Here is the probability of both the events occuring : 0.225\n"
     ]
    }
   ],
   "source": [
    "print(\"Check the probability of any event occuring. First enter your choices.\")\n",
    "\n",
    "print(\"Is the student a Freshman? \\n 1. Yes \\n 2. No\")\n",
    "a = int(input(\"Enter your choice (1/2): \"))\n",
    "\n",
    "print(\"Is student eating in dining hall? \\n 1. Yes \\n 2. No\")\n",
    "b = int(input(\"Enter your choice (1/2): \"))\n",
    "\n",
    "print(\"Here is the probability of both the events occuring :\", a_and_b(a, b))"
   ]
  },
  {
   "cell_type": "code",
   "execution_count": 3,
   "id": "56e853ea",
   "metadata": {},
   "outputs": [],
   "source": [
    "def prob_a_and_b(a, b, total):\n",
    "    # probability of event a\n",
    "    prob_a = orange/total\n",
    "    \n",
    "    # probability of event b\n",
    "    prob_bga = blue/(total-1)\n",
    "    \n",
    "    # probability of intersection of events a and b\n",
    "    prob_AandB = prob_a * prob_bga\n",
    "    \n",
    "    return round(prob_AandB,3)"
   ]
  },
  {
   "cell_type": "code",
   "execution_count": 4,
   "id": "40141b07",
   "metadata": {},
   "outputs": [
    {
     "name": "stdout",
     "output_type": "stream",
     "text": [
      "Enter number of orange balls 2\n",
      "Enter number of blue balls 3\n"
     ]
    }
   ],
   "source": [
    "orange = int(input(\"Enter number of orange balls \"))\n",
    "blue = int(input(\"Enter number of blue balls \"))\n",
    "total = orange+blue"
   ]
  },
  {
   "cell_type": "code",
   "execution_count": 5,
   "id": "cd47bdef",
   "metadata": {},
   "outputs": [
    {
     "name": "stdout",
     "output_type": "stream",
     "text": [
      "Probability of Getting 1st orange and 2nd blue ball: \n",
      "0.3\n"
     ]
    }
   ],
   "source": [
    "print('Probability of Getting 1st orange and 2nd blue ball: ')\n",
    "print(prob_a_and_b(orange, blue, total))"
   ]
  },
  {
   "cell_type": "code",
   "execution_count": 6,
   "id": "d9fb914e",
   "metadata": {},
   "outputs": [],
   "source": [
    "import numpy as np"
   ]
  },
  {
   "cell_type": "code",
   "execution_count": 9,
   "id": "f62008ec",
   "metadata": {},
   "outputs": [
    {
     "name": "stdout",
     "output_type": "stream",
     "text": [
      "enter number of sides for dice (6/12) : 6\n",
      "range(1, 7)\n"
     ]
    }
   ],
   "source": [
    "# create 6 sided \"die\"\n",
    "die_sides = int(input(\"enter number of sides for dice (6/12) : \"))\n",
    "die = range(1, (die_sides+1))\n",
    "print(die)"
   ]
  },
  {
   "cell_type": "code",
   "execution_count": 10,
   "id": "13e2a5ed",
   "metadata": {},
   "outputs": [
    {
     "name": "stdout",
     "output_type": "stream",
     "text": [
      "1\n",
      "2\n",
      "3\n",
      "4\n",
      "5\n",
      "6\n"
     ]
    }
   ],
   "source": [
    "for i in die:\n",
    "    print(i)"
   ]
  },
  {
   "cell_type": "code",
   "execution_count": 11,
   "id": "c6adc500",
   "metadata": {},
   "outputs": [
    {
     "name": "stdout",
     "output_type": "stream",
     "text": [
      "Enter number of times you want to roll the dice : 1000\n"
     ]
    }
   ],
   "source": [
    "# set number of rolls\n",
    "num_rolls = int(input(\"Enter number of times you want to roll the dice : \"))"
   ]
  },
  {
   "cell_type": "code",
   "execution_count": 12,
   "id": "eae4e092",
   "metadata": {},
   "outputs": [
    {
     "name": "stdout",
     "output_type": "stream",
     "text": [
      "1000\n"
     ]
    }
   ],
   "source": [
    "print(num_rolls)"
   ]
  },
  {
   "cell_type": "code",
   "execution_count": 13,
   "id": "29c82244",
   "metadata": {},
   "outputs": [
    {
     "name": "stdout",
     "output_type": "stream",
     "text": [
      "[6 3 3 3 1 5 4 6 3 3 5 2 6 3 6 5 2 4 6 5 3 3 6 3 4 1 2 2 6 6 2 5 3 3 5 6 1\n",
      " 5 2 2 3 6 5 3 1 3 3 6 6 5 6 2 6 6 6 4 1 1 1 6 5 5 4 1 1 3 5 3 5 4 6 4 2 5\n",
      " 3 4 5 3 2 2 2 6 2 2 1 5 5 4 2 1 4 1 3 4 5 2 2 6 3 6 3 1 1 1 4 3 4 6 4 2 6\n",
      " 6 2 1 6 5 4 1 6 3 1 3 3 5 3 2 3 4 6 6 3 5 2 4 4 1 5 6 5 5 6 5 5 1 4 1 3 5\n",
      " 2 6 6 1 4 2 2 3 3 6 4 2 5 3 5 5 1 3 1 1 6 1 3 1 6 4 5 5 6 4 5 1 1 5 3 3 1\n",
      " 3 4 1 3 2 6 6 4 6 6 3 2 3 3 2 5 2 1 1 5 2 5 1 5 3 3 1 2 5 6 5 3 5 1 5 1 2\n",
      " 3 3 1 2 6 3 5 6 6 3 5 5 1 2 2 1 6 5 5 6 5 3 2 5 5 3 2 3 2 6 2 2 4 5 2 3 5\n",
      " 5 4 2 2 4 5 1 1 4 5 6 3 5 2 5 6 1 2 3 1 3 4 1 6 3 6 6 1 1 4 5 3 4 5 1 1 4\n",
      " 6 3 6 3 3 1 5 4 4 4 3 2 1 4 2 2 4 1 6 5 1 2 5 6 4 1 1 1 6 2 5 5 6 5 3 1 3\n",
      " 1 4 2 2 2 4 4 6 2 6 2 4 3 6 2 1 3 3 6 2 3 5 2 6 5 5 1 1 2 5 3 1 5 6 4 4 3\n",
      " 1 1 1 6 2 6 5 4 5 4 4 6 3 4 6 5 6 2 6 1 4 5 4 1 3 3 1 4 4 6 4 1 1 3 3 4 3\n",
      " 1 2 2 2 2 5 3 4 3 3 2 5 3 4 4 5 1 5 5 1 4 5 3 6 6 2 6 4 2 6 2 6 1 2 3 3 2\n",
      " 6 2 3 2 6 1 1 3 3 3 3 1 1 3 1 5 2 3 3 4 4 2 2 1 6 5 2 1 3 2 1 2 5 5 5 3 1\n",
      " 2 1 2 4 6 5 6 2 5 4 2 6 1 6 6 2 6 2 1 4 1 3 3 6 4 5 2 2 4 2 5 3 2 3 5 3 4\n",
      " 6 3 2 5 3 1 4 2 1 6 1 6 3 2 3 2 4 2 2 1 6 6 3 2 2 5 1 6 2 5 2 3 3 2 3 1 6\n",
      " 6 1 3 1 2 3 6 2 1 4 4 5 2 6 5 3 3 3 3 5 1 1 2 6 5 1 4 5 5 2 6 2 5 6 3 1 2\n",
      " 4 6 2 6 6 5 5 3 5 3 6 6 2 1 5 2 3 2 4 5 4 6 4 3 1 5 1 2 3 1 4 1 1 6 5 6 1\n",
      " 5 2 1 2 1 3 2 2 2 6 2 1 4 2 6 5 6 5 3 4 4 3 2 4 3 5 6 5 2 5 6 3 5 1 2 3 5\n",
      " 5 3 4 2 3 4 4 3 1 2 4 2 3 6 5 4 4 4 5 3 3 5 6 5 1 5 3 6 6 6 3 5 5 4 3 4 2\n",
      " 5 1 1 4 6 6 5 2 3 5 4 2 2 5 4 1 5 6 5 5 3 4 3 6 5 4 5 4 4 4 4 2 4 3 3 3 2\n",
      " 2 1 3 5 1 5 1 5 5 6 2 2 4 3 1 3 6 1 4 4 3 1 2 2 2 2 5 2 4 2 3 4 2 3 2 4 6\n",
      " 3 5 3 6 3 1 2 4 2 5 4 4 2 1 4 3 5 5 4 4 5 1 4 3 4 1 3 3 6 3 5 2 1 4 3 2 2\n",
      " 3 2 5 6 2 5 3 5 1 4 4 6 4 4 1 5 2 1 4 5 5 6 2 6 3 5 1 6 1 1 6 2 6 3 5 5 5\n",
      " 1 5 2 4 3 2 4 5 3 4 5 5 4 3 1 4 3 6 6 4 3 3 4 2 2 6 6 5 5 5 3 3 3 5 2 6 4\n",
      " 2 6 5 5 3 2 4 4 4 1 5 6 2 5 1 2 2 5 1 4 3 1 3 1 1 3 3 1 1 6 2 4 6 4 3 6 5\n",
      " 5 3 2 2 1 6 6 6 6 2 4 1 5 6 3 3 1 4 5 1 1 3 5 6 2 3 4 1 1 4 5 3 6 5 2 4 4\n",
      " 4 3 1 2 2 1 5 6 4 3 4 3 5 3 6 4 3 3 4 1 5 3 2 6 3 6 3 1 6 1 2 1 3 4 5 4 5\n",
      " 6]\n"
     ]
    }
   ],
   "source": [
    "# roll the \"die\" the set amount of times\n",
    "results = np.random.choice(die, size = num_rolls, replace = True)\n",
    "print(results)"
   ]
  },
  {
   "cell_type": "code",
   "execution_count": 16,
   "id": "f86deaad",
   "metadata": {},
   "outputs": [],
   "source": [
    "num6 = list(results).count(6)"
   ]
  },
  {
   "cell_type": "code",
   "execution_count": 17,
   "id": "f3a08814",
   "metadata": {},
   "outputs": [
    {
     "name": "stdout",
     "output_type": "stream",
     "text": [
      "156\n"
     ]
    }
   ],
   "source": [
    "print(num6)"
   ]
  },
  {
   "cell_type": "code",
   "execution_count": 18,
   "id": "2d508ea2",
   "metadata": {},
   "outputs": [
    {
     "name": "stdout",
     "output_type": "stream",
     "text": [
      "Probability of rolling 6 = 0.156\n"
     ]
    }
   ],
   "source": [
    "print(f\"Probability of rolling 6 = {round(num6/num_rolls,3)}\")"
   ]
  },
  {
   "cell_type": "code",
   "execution_count": null,
   "id": "a0074bda",
   "metadata": {},
   "outputs": [],
   "source": []
  }
 ],
 "metadata": {
  "kernelspec": {
   "display_name": "Python 3 (ipykernel)",
   "language": "python",
   "name": "python3"
  },
  "language_info": {
   "codemirror_mode": {
    "name": "ipython",
    "version": 3
   },
   "file_extension": ".py",
   "mimetype": "text/x-python",
   "name": "python",
   "nbconvert_exporter": "python",
   "pygments_lexer": "ipython3",
   "version": "3.11.7"
  }
 },
 "nbformat": 4,
 "nbformat_minor": 5
}
