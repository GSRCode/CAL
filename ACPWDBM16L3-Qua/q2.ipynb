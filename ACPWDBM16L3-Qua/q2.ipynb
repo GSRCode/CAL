{
 "cells": [
  {
   "cell_type": "code",
   "execution_count": 1,
   "id": "45183829",
   "metadata": {},
   "outputs": [],
   "source": [
    "import pandas as pd\n",
    "import numpy as np\n",
    "import statistics as stats\n",
    "import matplotlib.pyplot as plt"
   ]
  },
  {
   "cell_type": "code",
   "execution_count": 2,
   "id": "7227f88c",
   "metadata": {},
   "outputs": [],
   "source": [
    "data = pd.read_csv('bestsellers with categories.csv')"
   ]
  },
  {
   "cell_type": "code",
   "execution_count": 3,
   "id": "e5809db8",
   "metadata": {},
   "outputs": [
    {
     "data": {
      "text/html": [
       "<div>\n",
       "<style scoped>\n",
       "    .dataframe tbody tr th:only-of-type {\n",
       "        vertical-align: middle;\n",
       "    }\n",
       "\n",
       "    .dataframe tbody tr th {\n",
       "        vertical-align: top;\n",
       "    }\n",
       "\n",
       "    .dataframe thead th {\n",
       "        text-align: right;\n",
       "    }\n",
       "</style>\n",
       "<table border=\"1\" class=\"dataframe\">\n",
       "  <thead>\n",
       "    <tr style=\"text-align: right;\">\n",
       "      <th></th>\n",
       "      <th>Name</th>\n",
       "      <th>Author</th>\n",
       "      <th>User Rating</th>\n",
       "      <th>Reviews</th>\n",
       "      <th>Price</th>\n",
       "      <th>Year</th>\n",
       "      <th>Genre</th>\n",
       "    </tr>\n",
       "  </thead>\n",
       "  <tbody>\n",
       "    <tr>\n",
       "      <th>0</th>\n",
       "      <td>10-Day Green Smoothie Cleanse</td>\n",
       "      <td>JJ Smith</td>\n",
       "      <td>4.7</td>\n",
       "      <td>17350</td>\n",
       "      <td>8</td>\n",
       "      <td>2016</td>\n",
       "      <td>Non Fiction</td>\n",
       "    </tr>\n",
       "    <tr>\n",
       "      <th>1</th>\n",
       "      <td>11/22/63: A Novel</td>\n",
       "      <td>Stephen King</td>\n",
       "      <td>4.6</td>\n",
       "      <td>2052</td>\n",
       "      <td>22</td>\n",
       "      <td>2011</td>\n",
       "      <td>Fiction</td>\n",
       "    </tr>\n",
       "    <tr>\n",
       "      <th>2</th>\n",
       "      <td>12 Rules for Life: An Antidote to Chaos</td>\n",
       "      <td>Jordan B. Peterson</td>\n",
       "      <td>4.7</td>\n",
       "      <td>18979</td>\n",
       "      <td>15</td>\n",
       "      <td>2018</td>\n",
       "      <td>Non Fiction</td>\n",
       "    </tr>\n",
       "    <tr>\n",
       "      <th>3</th>\n",
       "      <td>1984 (Signet Classics)</td>\n",
       "      <td>George Orwell</td>\n",
       "      <td>4.7</td>\n",
       "      <td>21424</td>\n",
       "      <td>6</td>\n",
       "      <td>2017</td>\n",
       "      <td>Fiction</td>\n",
       "    </tr>\n",
       "    <tr>\n",
       "      <th>4</th>\n",
       "      <td>5,000 Awesome Facts (About Everything!) (Natio...</td>\n",
       "      <td>National Geographic Kids</td>\n",
       "      <td>4.8</td>\n",
       "      <td>7665</td>\n",
       "      <td>12</td>\n",
       "      <td>2019</td>\n",
       "      <td>Non Fiction</td>\n",
       "    </tr>\n",
       "  </tbody>\n",
       "</table>\n",
       "</div>"
      ],
      "text/plain": [
       "                                                Name  \\\n",
       "0                      10-Day Green Smoothie Cleanse   \n",
       "1                                  11/22/63: A Novel   \n",
       "2            12 Rules for Life: An Antidote to Chaos   \n",
       "3                             1984 (Signet Classics)   \n",
       "4  5,000 Awesome Facts (About Everything!) (Natio...   \n",
       "\n",
       "                     Author  User Rating  Reviews  Price  Year        Genre  \n",
       "0                  JJ Smith          4.7    17350      8  2016  Non Fiction  \n",
       "1              Stephen King          4.6     2052     22  2011      Fiction  \n",
       "2        Jordan B. Peterson          4.7    18979     15  2018  Non Fiction  \n",
       "3             George Orwell          4.7    21424      6  2017      Fiction  \n",
       "4  National Geographic Kids          4.8     7665     12  2019  Non Fiction  "
      ]
     },
     "execution_count": 3,
     "metadata": {},
     "output_type": "execute_result"
    }
   ],
   "source": [
    "data.head()"
   ]
  },
  {
   "cell_type": "code",
   "execution_count": 4,
   "id": "3282ec70",
   "metadata": {},
   "outputs": [
    {
     "name": "stdout",
     "output_type": "stream",
     "text": [
      "<class 'pandas.core.frame.DataFrame'>\n",
      "RangeIndex: 550 entries, 0 to 549\n",
      "Data columns (total 7 columns):\n",
      " #   Column       Non-Null Count  Dtype  \n",
      "---  ------       --------------  -----  \n",
      " 0   Name         550 non-null    object \n",
      " 1   Author       550 non-null    object \n",
      " 2   User Rating  550 non-null    float64\n",
      " 3   Reviews      550 non-null    int64  \n",
      " 4   Price        550 non-null    int64  \n",
      " 5   Year         550 non-null    int64  \n",
      " 6   Genre        550 non-null    object \n",
      "dtypes: float64(1), int64(3), object(3)\n",
      "memory usage: 30.2+ KB\n"
     ]
    }
   ],
   "source": [
    "data.info()"
   ]
  },
  {
   "cell_type": "code",
   "execution_count": 5,
   "id": "b33213fe",
   "metadata": {},
   "outputs": [
    {
     "data": {
      "text/plain": [
       "Name           False\n",
       "Author         False\n",
       "User Rating    False\n",
       "Reviews        False\n",
       "Price          False\n",
       "Year           False\n",
       "Genre          False\n",
       "dtype: bool"
      ]
     },
     "execution_count": 5,
     "metadata": {},
     "output_type": "execute_result"
    }
   ],
   "source": [
    "data.isnull().any()"
   ]
  },
  {
   "cell_type": "code",
   "execution_count": 6,
   "id": "f1366ee7",
   "metadata": {},
   "outputs": [
    {
     "name": "stdout",
     "output_type": "stream",
     "text": [
      "Value that divides 10 Percent of Data : 5.0\n"
     ]
    }
   ],
   "source": [
    "ten_percentile_price = np.quantile(data['Price'], 0.1)\n",
    "print(\"Value that divides 10 Percent of Data :\", ten_percentile_price)"
   ]
  },
  {
   "cell_type": "code",
   "execution_count": 7,
   "id": "5a6dfd76",
   "metadata": {},
   "outputs": [],
   "source": [
    "Q1_price = np.quantile(data['Price'], 0.25) \n",
    "Q2_price = np.quantile(data['Price'], 0.5)\n",
    "Q3_price = np.quantile(data['Price'], 0.75)"
   ]
  },
  {
   "cell_type": "code",
   "execution_count": 8,
   "id": "a286ab5d",
   "metadata": {},
   "outputs": [
    {
     "name": "stdout",
     "output_type": "stream",
     "text": [
      "Quartiles for Price -\n",
      "First Quartile : 7.0\n",
      "Second Quartile : 11.0\n",
      "Third Quartile : 16.0\n"
     ]
    }
   ],
   "source": [
    "print(\"Quartiles for Price -\")\n",
    "print(\"First Quartile :\", Q1_price)\n",
    "print(\"Second Quartile :\", Q2_price)\n",
    "print(\"Third Quartile :\", Q3_price)"
   ]
  },
  {
   "cell_type": "code",
   "execution_count": 9,
   "id": "83371e93",
   "metadata": {},
   "outputs": [
    {
     "name": "stdout",
     "output_type": "stream",
     "text": [
      "Inter-Quartile Range : 9.0\n"
     ]
    }
   ],
   "source": [
    "IQR_price = Q3_price-Q1_price\n",
    "print(\"Inter-Quartile Range :\", IQR_price)"
   ]
  },
  {
   "cell_type": "code",
   "execution_count": 10,
   "id": "0258dd14",
   "metadata": {},
   "outputs": [],
   "source": [
    "Q1_rating = np.quantile(data['User Rating'], 0.25) \n",
    "Q2_rating = np.quantile(data['User Rating'], 0.5)\n",
    "Q3_rating = np.quantile(data['User Rating'], 0.75)"
   ]
  },
  {
   "cell_type": "code",
   "execution_count": 11,
   "id": "11d3bf98",
   "metadata": {},
   "outputs": [
    {
     "name": "stdout",
     "output_type": "stream",
     "text": [
      "Quartiles for User Rating -\n",
      "First Quartile : 4.5\n",
      "Second Quartile : 4.7\n",
      "Third Quartile : 4.8\n"
     ]
    }
   ],
   "source": [
    "print(\"Quartiles for User Rating -\")\n",
    "print(\"First Quartile :\", Q1_rating)\n",
    "print(\"Second Quartile :\", Q2_rating)\n",
    "print(\"Third Quartile :\", Q3_rating)"
   ]
  },
  {
   "cell_type": "code",
   "execution_count": 12,
   "id": "3e323036",
   "metadata": {},
   "outputs": [
    {
     "name": "stdout",
     "output_type": "stream",
     "text": [
      "Inter-Quartile Range : 0.2999999999999998\n"
     ]
    }
   ],
   "source": [
    "IQR_rating = Q3_rating-Q1_rating\n",
    "print(\"Inter-Quartile Range :\", IQR_rating)"
   ]
  },
  {
   "cell_type": "code",
   "execution_count": 13,
   "id": "1baa20b1",
   "metadata": {},
   "outputs": [
    {
     "data": {
      "image/png": "[encoded data removed]",
      "text/plain": [
       "<Figure size 640x480 with 1 Axes>"
      ]
     },
     "metadata": {},
     "output_type": "display_data"
    }
   ],
   "source": [
    "plt.boxplot(data['Price'])\n",
    "plt.ylabel('Price')\n",
    "plt.title(\"Distribution of Price\")\n",
    "plt.show()"
   ]
  },
  {
   "cell_type": "code",
   "execution_count": 14,
   "id": "26cf8a18",
   "metadata": {},
   "outputs": [
    {
     "data": {
      "image/png": "[encoded data removed]",
      "text/plain": [
       "<Figure size 640x480 with 1 Axes>"
      ]
     },
     "metadata": {},
     "output_type": "display_data"
    }
   ],
   "source": [
    "plt.boxplot(data['User Rating'])\n",
    "plt.ylabel('User Rating')\n",
    "plt.title(\"Distribution of User Rating\")\n",
    "plt.show()"
   ]
  },
  {
   "cell_type": "code",
   "execution_count": null,
   "id": "4a7f8d04",
   "metadata": {},
   "outputs": [],
   "source": []
  }
 ],
 "metadata": {
  "kernelspec": {
   "display_name": "Python 3 (ipykernel)",
   "language": "python",
   "name": "python3"
  },
  "language_info": {
   "codemirror_mode": {
    "name": "ipython",
    "version": 3
   },
   "file_extension": ".py",
   "mimetype": "text/x-python",
   "name": "python",
   "nbconvert_exporter": "python",
   "pygments_lexer": "ipython3",
   "version": "3.11.7"
  }
 },
 "nbformat": 4,
 "nbformat_minor": 5
}
