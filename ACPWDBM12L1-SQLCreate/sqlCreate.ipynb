{
 "cells": [
  {
   "cell_type": "code",
   "execution_count": 8,
   "id": "d7d47f7e",
   "metadata": {},
   "outputs": [],
   "source": [
    "import pandas as pd"
   ]
  },
  {
   "cell_type": "code",
   "execution_count": 9,
   "id": "54a8350a",
   "metadata": {},
   "outputs": [],
   "source": [
    "import sqlite3"
   ]
  },
  {
   "cell_type": "code",
   "execution_count": null,
   "id": "6c867f9d",
   "metadata": {},
   "outputs": [],
   "source": [
    "#pip install ipython-sql"
   ]
  },
  {
   "cell_type": "code",
   "execution_count": 10,
   "id": "9f183456",
   "metadata": {},
   "outputs": [],
   "source": [
    "tmpdb = sqlite3.connect('tmp1.db')"
   ]
  },
  {
   "cell_type": "code",
   "execution_count": 12,
   "id": "715f2988",
   "metadata": {},
   "outputs": [],
   "source": [
    "%load_ext sql"
   ]
  },
  {
   "cell_type": "code",
   "execution_count": 13,
   "id": "9623eb84",
   "metadata": {},
   "outputs": [],
   "source": [
    "%sql sqlite:///tmp1.db"
   ]
  },
  {
   "cell_type": "code",
   "execution_count": 14,
   "id": "ed7d96ec",
   "metadata": {},
   "outputs": [
    {
     "name": "stdout",
     "output_type": "stream",
     "text": [
      " * sqlite:///tmp1.db\n",
      "Done.\n"
     ]
    },
    {
     "data": {
      "text/plain": [
       "[]"
      ]
     },
     "execution_count": 14,
     "metadata": {},
     "output_type": "execute_result"
    }
   ],
   "source": [
    "%%sql \n",
    "CREATE TABLE IF NOT EXISTS Salesman (\n",
    "  Salesman_id TEXT PRIMARY KEY,\n",
    "  name TEXT,\n",
    "  city TEXT,\n",
    "  Comission REAL\n",
    ");"
   ]
  },
  {
   "cell_type": "code",
   "execution_count": 15,
   "id": "25340d29",
   "metadata": {},
   "outputs": [
    {
     "name": "stdout",
     "output_type": "stream",
     "text": [
      " * sqlite:///tmp1.db\n",
      "6 rows affected.\n"
     ]
    },
    {
     "data": {
      "text/plain": [
       "[]"
      ]
     },
     "execution_count": 15,
     "metadata": {},
     "output_type": "execute_result"
    }
   ],
   "source": [
    "%%sql \n",
    "\n",
    "INSERT INTO Salesman (Salesman_id, name, city, Comission) VALUES\n",
    "  ('5001', 'James Hoog', 'New York', 0.15),\n",
    "  ('5002', 'Nail Knite', 'Paris', 0.13),\n",
    "  ('5005', 'Pit Alex', 'London', 0.11),\n",
    "  ('5006', 'Mc Lyon', 'Paris', 0.14),\n",
    "  ('5007', 'Paul Adam', 'Rome', 0.13),\n",
    "  ('5003', 'Lauson Hen', 'San Jose', 0.12);"
   ]
  },
  {
   "cell_type": "code",
   "execution_count": 18,
   "id": "69433705",
   "metadata": {},
   "outputs": [],
   "source": [
    "%config SqlMagic.style = '_DEPRECATED_DEFAULT'"
   ]
  },
  {
   "cell_type": "code",
   "execution_count": 19,
   "id": "2a1b73b4",
   "metadata": {},
   "outputs": [
    {
     "name": "stdout",
     "output_type": "stream",
     "text": [
      " * sqlite:///tmp1.db\n",
      "Done.\n"
     ]
    },
    {
     "data": {
      "text/html": [
       "<table>\n",
       "    <thead>\n",
       "        <tr>\n",
       "            <th>Salesman_id</th>\n",
       "            <th>name</th>\n",
       "            <th>city</th>\n",
       "            <th>Comission</th>\n",
       "        </tr>\n",
       "    </thead>\n",
       "    <tbody>\n",
       "        <tr>\n",
       "            <td>5001</td>\n",
       "            <td>James Hoog</td>\n",
       "            <td>New York</td>\n",
       "            <td>0.15</td>\n",
       "        </tr>\n",
       "        <tr>\n",
       "            <td>5002</td>\n",
       "            <td>Nail Knite</td>\n",
       "            <td>Paris</td>\n",
       "            <td>0.13</td>\n",
       "        </tr>\n",
       "        <tr>\n",
       "            <td>5005</td>\n",
       "            <td>Pit Alex</td>\n",
       "            <td>London</td>\n",
       "            <td>0.11</td>\n",
       "        </tr>\n",
       "        <tr>\n",
       "            <td>5006</td>\n",
       "            <td>Mc Lyon</td>\n",
       "            <td>Paris</td>\n",
       "            <td>0.14</td>\n",
       "        </tr>\n",
       "        <tr>\n",
       "            <td>5007</td>\n",
       "            <td>Paul Adam</td>\n",
       "            <td>Rome</td>\n",
       "            <td>0.13</td>\n",
       "        </tr>\n",
       "        <tr>\n",
       "            <td>5003</td>\n",
       "            <td>Lauson Hen</td>\n",
       "            <td>San Jose</td>\n",
       "            <td>0.12</td>\n",
       "        </tr>\n",
       "    </tbody>\n",
       "</table>"
      ],
      "text/plain": [
       "[('5001', 'James Hoog', 'New York', 0.15),\n",
       " ('5002', 'Nail Knite', 'Paris', 0.13),\n",
       " ('5005', 'Pit Alex', 'London', 0.11),\n",
       " ('5006', 'Mc Lyon', 'Paris', 0.14),\n",
       " ('5007', 'Paul Adam', 'Rome', 0.13),\n",
       " ('5003', 'Lauson Hen', 'San Jose', 0.12)]"
      ]
     },
     "execution_count": 19,
     "metadata": {},
     "output_type": "execute_result"
    }
   ],
   "source": [
    "%%sql\n",
    "\n",
    "SELECT * \n",
    "FROM Salesman"
   ]
  },
  {
   "cell_type": "code",
   "execution_count": 20,
   "id": "04e2b834",
   "metadata": {},
   "outputs": [
    {
     "name": "stdout",
     "output_type": "stream",
     "text": [
      " * sqlite:///tmp1.db\n",
      "Done.\n"
     ]
    },
    {
     "data": {
      "text/plain": [
       "[]"
      ]
     },
     "execution_count": 20,
     "metadata": {},
     "output_type": "execute_result"
    }
   ],
   "source": [
    "%%sql\n",
    "\n",
    "CREATE TABLE IF NOT EXISTS Orders (\n",
    "  ord_no TEXT PRIMARY KEY,\n",
    "  purch_amt REAL,\n",
    "  ord_date TEXT,\n",
    "  customer_id TEXT,\n",
    "  Salesman_id TEXT\n",
    ");"
   ]
  },
  {
   "cell_type": "code",
   "execution_count": 21,
   "id": "e85af380",
   "metadata": {},
   "outputs": [
    {
     "name": "stdout",
     "output_type": "stream",
     "text": [
      " * sqlite:///tmp1.db\n",
      "6 rows affected.\n"
     ]
    },
    {
     "data": {
      "text/plain": [
       "[]"
      ]
     },
     "execution_count": 21,
     "metadata": {},
     "output_type": "execute_result"
    }
   ],
   "source": [
    "%%sql\n",
    "\n",
    "INSERT INTO Orders (ord_no, purch_amt, ord_date, customer_id, Salesman_id) VALUES\n",
    "  ('70001', 150.5, '2012-10-05', '3005', '5002'),\n",
    "  ('70009', 270.65, '2012-09-10', '3001', '5001'),\n",
    "  ('70002', 65.26, '2012-10-05', '3002', '5003'),\n",
    "  ('70004', 110.5, '2012-08-17', '3009', '5007'),\n",
    "  ('70007', 948.5, '2012-09-10', '3005', '5005'),\n",
    "  ('70005', 2400.6, '2012-07-27', '3007', '5006');"
   ]
  },
  {
   "cell_type": "code",
   "execution_count": 22,
   "id": "2aaf6f62",
   "metadata": {},
   "outputs": [
    {
     "name": "stdout",
     "output_type": "stream",
     "text": [
      " * sqlite:///tmp1.db\n",
      "Done.\n"
     ]
    },
    {
     "data": {
      "text/html": [
       "<table>\n",
       "    <thead>\n",
       "        <tr>\n",
       "            <th>ord_no</th>\n",
       "            <th>purch_amt</th>\n",
       "            <th>ord_date</th>\n",
       "            <th>customer_id</th>\n",
       "            <th>Salesman_id</th>\n",
       "        </tr>\n",
       "    </thead>\n",
       "    <tbody>\n",
       "        <tr>\n",
       "            <td>70001</td>\n",
       "            <td>150.5</td>\n",
       "            <td>2012-10-05</td>\n",
       "            <td>3005</td>\n",
       "            <td>5002</td>\n",
       "        </tr>\n",
       "        <tr>\n",
       "            <td>70009</td>\n",
       "            <td>270.65</td>\n",
       "            <td>2012-09-10</td>\n",
       "            <td>3001</td>\n",
       "            <td>5001</td>\n",
       "        </tr>\n",
       "        <tr>\n",
       "            <td>70002</td>\n",
       "            <td>65.26</td>\n",
       "            <td>2012-10-05</td>\n",
       "            <td>3002</td>\n",
       "            <td>5003</td>\n",
       "        </tr>\n",
       "        <tr>\n",
       "            <td>70004</td>\n",
       "            <td>110.5</td>\n",
       "            <td>2012-08-17</td>\n",
       "            <td>3009</td>\n",
       "            <td>5007</td>\n",
       "        </tr>\n",
       "        <tr>\n",
       "            <td>70007</td>\n",
       "            <td>948.5</td>\n",
       "            <td>2012-09-10</td>\n",
       "            <td>3005</td>\n",
       "            <td>5005</td>\n",
       "        </tr>\n",
       "        <tr>\n",
       "            <td>70005</td>\n",
       "            <td>2400.6</td>\n",
       "            <td>2012-07-27</td>\n",
       "            <td>3007</td>\n",
       "            <td>5006</td>\n",
       "        </tr>\n",
       "    </tbody>\n",
       "</table>"
      ],
      "text/plain": [
       "[('70001', 150.5, '2012-10-05', '3005', '5002'),\n",
       " ('70009', 270.65, '2012-09-10', '3001', '5001'),\n",
       " ('70002', 65.26, '2012-10-05', '3002', '5003'),\n",
       " ('70004', 110.5, '2012-08-17', '3009', '5007'),\n",
       " ('70007', 948.5, '2012-09-10', '3005', '5005'),\n",
       " ('70005', 2400.6, '2012-07-27', '3007', '5006')]"
      ]
     },
     "execution_count": 22,
     "metadata": {},
     "output_type": "execute_result"
    }
   ],
   "source": [
    "%%sql\n",
    "\n",
    "SELECT * FROM Orders;"
   ]
  },
  {
   "cell_type": "code",
   "execution_count": 23,
   "id": "9b788fe1",
   "metadata": {},
   "outputs": [
    {
     "name": "stdout",
     "output_type": "stream",
     "text": [
      " * sqlite:///tmp1.db\n",
      "Done.\n"
     ]
    },
    {
     "data": {
      "text/html": [
       "<table>\n",
       "    <thead>\n",
       "        <tr>\n",
       "            <th>name</th>\n",
       "            <th>Comission</th>\n",
       "        </tr>\n",
       "    </thead>\n",
       "    <tbody>\n",
       "        <tr>\n",
       "            <td>James Hoog</td>\n",
       "            <td>0.15</td>\n",
       "        </tr>\n",
       "        <tr>\n",
       "            <td>Nail Knite</td>\n",
       "            <td>0.13</td>\n",
       "        </tr>\n",
       "        <tr>\n",
       "            <td>Pit Alex</td>\n",
       "            <td>0.11</td>\n",
       "        </tr>\n",
       "        <tr>\n",
       "            <td>Mc Lyon</td>\n",
       "            <td>0.14</td>\n",
       "        </tr>\n",
       "        <tr>\n",
       "            <td>Paul Adam</td>\n",
       "            <td>0.13</td>\n",
       "        </tr>\n",
       "        <tr>\n",
       "            <td>Lauson Hen</td>\n",
       "            <td>0.12</td>\n",
       "        </tr>\n",
       "    </tbody>\n",
       "</table>"
      ],
      "text/plain": [
       "[('James Hoog', 0.15),\n",
       " ('Nail Knite', 0.13),\n",
       " ('Pit Alex', 0.11),\n",
       " ('Mc Lyon', 0.14),\n",
       " ('Paul Adam', 0.13),\n",
       " ('Lauson Hen', 0.12)]"
      ]
     },
     "execution_count": 23,
     "metadata": {},
     "output_type": "execute_result"
    }
   ],
   "source": [
    "%%sql\n",
    "\n",
    "SELECT name, Comission\n",
    "FROM Salesman;"
   ]
  },
  {
   "cell_type": "code",
   "execution_count": null,
   "id": "469c7038",
   "metadata": {},
   "outputs": [],
   "source": []
  }
 ],
 "metadata": {
  "kernelspec": {
   "display_name": "Python 3 (ipykernel)",
   "language": "python",
   "name": "python3"
  },
  "language_info": {
   "codemirror_mode": {
    "name": "ipython",
    "version": 3
   },
   "file_extension": ".py",
   "mimetype": "text/x-python",
   "name": "python",
   "nbconvert_exporter": "python",
   "pygments_lexer": "ipython3",
   "version": "3.11.7"
  }
 },
 "nbformat": 4,
 "nbformat_minor": 5
}
