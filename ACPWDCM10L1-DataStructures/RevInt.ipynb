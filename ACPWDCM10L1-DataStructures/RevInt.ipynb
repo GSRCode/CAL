{
 "cells": [
  {
   "cell_type": "code",
   "execution_count": 6,
   "id": "17b33601",
   "metadata": {},
   "outputs": [],
   "source": [
    "def RevInt(num):\n",
    "    sgn = -1 if num < 0 else 1\n",
    "    \n",
    "    num = num*sgn\n",
    "    \n",
    "    rev = 0\n",
    "    limit = ((2**31) - 1)//10\n",
    "    \n",
    "    while num > 0:\n",
    "        if rev > limit:\n",
    "            rev = 0\n",
    "            break\n",
    "        rev = rev*10 + num%10\n",
    "        num = num // 10\n",
    "        \n",
    "    return rev*sgn"
   ]
  },
  {
   "cell_type": "code",
   "execution_count": 7,
   "id": "b04d92cd",
   "metadata": {},
   "outputs": [
    {
     "name": "stdout",
     "output_type": "stream",
     "text": [
      "num to reverse: 32998867\n"
     ]
    }
   ],
   "source": [
    "n = int(input('num to reverse: '))"
   ]
  },
  {
   "cell_type": "code",
   "execution_count": 8,
   "id": "39a49390",
   "metadata": {},
   "outputs": [
    {
     "name": "stdout",
     "output_type": "stream",
     "text": [
      "76889923\n"
     ]
    }
   ],
   "source": [
    "print(RevInt(n))"
   ]
  },
  {
   "cell_type": "code",
   "execution_count": 9,
   "id": "038915b1",
   "metadata": {},
   "outputs": [],
   "source": [
    "def RevInt2(num):\n",
    "    sgn = -1 if num < 0 else 1\n",
    "    num = num*sgn\n",
    "    numsr = str(num)[::-1]\n",
    "    numr = int(numsr)\n",
    "    return numr*sgn"
   ]
  },
  {
   "cell_type": "code",
   "execution_count": 10,
   "id": "d3567686",
   "metadata": {},
   "outputs": [
    {
     "name": "stdout",
     "output_type": "stream",
     "text": [
      "76889923\n"
     ]
    }
   ],
   "source": [
    "print(RevInt2(n))"
   ]
  },
  {
   "cell_type": "code",
   "execution_count": 11,
   "id": "e613b124",
   "metadata": {},
   "outputs": [
    {
     "name": "stdout",
     "output_type": "stream",
     "text": [
      "-1\n",
      "-6539301\n",
      "4327891\n"
     ]
    }
   ],
   "source": [
    "print(RevInt2(-1))\n",
    "print(RevInt2(-1039356))\n",
    "print(RevInt2(1987234))"
   ]
  },
  {
   "cell_type": "code",
   "execution_count": 12,
   "id": "925b951f",
   "metadata": {},
   "outputs": [],
   "source": [
    "def IsPallindrome(n):\n",
    "    rn = RevInt2(n)\n",
    "    if (n == rn):\n",
    "        print('Is a Pallindrome')\n",
    "    else:\n",
    "        print('Is NOT a Pallindrome')"
   ]
  },
  {
   "cell_type": "code",
   "execution_count": 13,
   "id": "b71532bb",
   "metadata": {},
   "outputs": [
    {
     "name": "stdout",
     "output_type": "stream",
     "text": [
      "Is NOT a Pallindrome\n",
      "Is a Pallindrome\n",
      "Is a Pallindrome\n"
     ]
    }
   ],
   "source": [
    "IsPallindrome(123)\n",
    "IsPallindrome(123321)\n",
    "IsPallindrome(121121121)"
   ]
  },
  {
   "cell_type": "code",
   "execution_count": null,
   "id": "aac233fd",
   "metadata": {},
   "outputs": [],
   "source": []
  }
 ],
 "metadata": {
  "kernelspec": {
   "display_name": "Python 3 (ipykernel)",
   "language": "python",
   "name": "python3"
  },
  "language_info": {
   "codemirror_mode": {
    "name": "ipython",
    "version": 3
   },
   "file_extension": ".py",
   "mimetype": "text/x-python",
   "name": "python",
   "nbconvert_exporter": "python",
   "pygments_lexer": "ipython3",
   "version": "3.11.7"
  }
 },
 "nbformat": 4,
 "nbformat_minor": 5
}
