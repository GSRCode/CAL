{
 "cells": [
  {
   "cell_type": "code",
   "execution_count": 6,
   "id": "196e5635",
   "metadata": {},
   "outputs": [],
   "source": [
    "def RevInt(num):\n",
    "    sgn = -1 if num < 0 else 1\n",
    "    \n",
    "    num = num*sgn\n",
    "    \n",
    "    rev = 0\n",
    "    limit = ((2**31) - 1)//10\n",
    "    \n",
    "    while num > 0:\n",
    "        if rev > limit:\n",
    "            rev = 0\n",
    "            break\n",
    "        rev = rev*10 + num%10\n",
    "        num = num // 10\n",
    "        \n",
    "    return rev*sgn"
   ]
  },
  {
   "cell_type": "code",
   "execution_count": 7,
   "id": "e683d386",
   "metadata": {},
   "outputs": [
    {
     "name": "stdout",
     "output_type": "stream",
     "text": [
      "num to reverse: 32998867\n"
     ]
    }
   ],
   "source": [
    "n = int(input('num to reverse: '))"
   ]
  },
  {
   "cell_type": "code",
   "execution_count": 8,
   "id": "48bc870f",
   "metadata": {},
   "outputs": [
    {
     "name": "stdout",
     "output_type": "stream",
     "text": [
      "76889923\n"
     ]
    }
   ],
   "source": [
    "print(RevInt(n))"
   ]
  },
  {
   "cell_type": "code",
   "execution_count": 9,
   "id": "48b362da",
   "metadata": {},
   "outputs": [],
   "source": [
    "def RevInt2(num):\n",
    "    sgn = -1 if num < 0 else 1\n",
    "    num = num*sgn\n",
    "    numsr = str(num)[::-1]\n",
    "    numr = int(numsr)\n",
    "    return numr*sgn"
   ]
  },
  {
   "cell_type": "code",
   "execution_count": 10,
   "id": "69fba244",
   "metadata": {},
   "outputs": [
    {
     "name": "stdout",
     "output_type": "stream",
     "text": [
      "76889923\n"
     ]
    }
   ],
   "source": [
    "print(RevInt2(n))"
   ]
  },
  {
   "cell_type": "code",
   "execution_count": 11,
   "id": "01e288c5",
   "metadata": {},
   "outputs": [
    {
     "name": "stdout",
     "output_type": "stream",
     "text": [
      "-1\n",
      "-6539301\n",
      "4327891\n"
     ]
    }
   ],
   "source": [
    "print(RevInt2(-1))\n",
    "print(RevInt2(-1039356))\n",
    "print(RevInt2(1987234))"
   ]
  },
  {
   "cell_type": "code",
   "execution_count": 12,
   "id": "bc02644b",
   "metadata": {},
   "outputs": [],
   "source": [
    "def IsPallindrome(n):\n",
    "    rn = RevInt2(n)\n",
    "    if (n == rn):\n",
    "        print('Is a Pallindrome')\n",
    "    else:\n",
    "        print('Is NOT a Pallindrome')"
   ]
  },
  {
   "cell_type": "code",
   "execution_count": 13,
   "id": "40f40434",
   "metadata": {},
   "outputs": [
    {
     "name": "stdout",
     "output_type": "stream",
     "text": [
      "Is NOT a Pallindrome\n",
      "Is a Pallindrome\n",
      "Is a Pallindrome\n"
     ]
    }
   ],
   "source": [
    "IsPallindrome(123)\n",
    "IsPallindrome(123321)\n",
    "IsPallindrome(121121121)"
   ]
  },
  {
   "cell_type": "code",
   "execution_count": null,
   "id": "1a3213d5",
   "metadata": {},
   "outputs": [],
   "source": []
  }
 ],
 "metadata": {
  "kernelspec": {
   "display_name": "Python 3 (ipykernel)",
   "language": "python",
   "name": "python3"
  },
  "language_info": {
   "codemirror_mode": {
    "name": "ipython",
    "version": 3
   },
   "file_extension": ".py",
   "mimetype": "text/x-python",
   "name": "python",
   "nbconvert_exporter": "python",
   "pygments_lexer": "ipython3",
   "version": "3.11.7"
  }
 },
 "nbformat": 4,
 "nbformat_minor": 5
}
