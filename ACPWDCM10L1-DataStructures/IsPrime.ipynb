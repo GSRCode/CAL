{
 "cells": [
  {
   "cell_type": "code",
   "execution_count": 1,
   "id": "32175331",
   "metadata": {},
   "outputs": [],
   "source": [
    "import math"
   ]
  },
  {
   "cell_type": "code",
   "execution_count": 5,
   "id": "f0dc505a",
   "metadata": {},
   "outputs": [
    {
     "name": "stdout",
     "output_type": "stream",
     "text": [
      "Enter you number: 96\n"
     ]
    }
   ],
   "source": [
    "num = int(input('Enter you number: '))"
   ]
  },
  {
   "cell_type": "code",
   "execution_count": 6,
   "id": "a1dd4e75",
   "metadata": {},
   "outputs": [
    {
     "name": "stdout",
     "output_type": "stream",
     "text": [
      "is divisible by 2\n"
     ]
    }
   ],
   "source": [
    "isPrime = True\n",
    "if num > 1:\n",
    "    for i in range(2, int(math.sqrt(num))+1):\n",
    "        if num%i == 0:\n",
    "            print(f'is divisible by {i}')\n",
    "            isPrime = False\n",
    "            break\n",
    "else:\n",
    "    isPrime = True"
   ]
  },
  {
   "cell_type": "code",
   "execution_count": 7,
   "id": "03244cfa",
   "metadata": {},
   "outputs": [
    {
     "name": "stdout",
     "output_type": "stream",
     "text": [
      "Not a prime number\n"
     ]
    }
   ],
   "source": [
    "if isPrime:\n",
    "    print('Is a prime number')\n",
    "else:\n",
    "    print('Not a prime number')"
   ]
  },
  {
   "cell_type": "code",
   "execution_count": null,
   "id": "6d543075",
   "metadata": {},
   "outputs": [],
   "source": []
  }
 ],
 "metadata": {
  "kernelspec": {
   "display_name": "Python 3 (ipykernel)",
   "language": "python",
   "name": "python3"
  },
  "language_info": {
   "codemirror_mode": {
    "name": "ipython",
    "version": 3
   },
   "file_extension": ".py",
   "mimetype": "text/x-python",
   "name": "python",
   "nbconvert_exporter": "python",
   "pygments_lexer": "ipython3",
   "version": "3.11.7"
  }
 },
 "nbformat": 4,
 "nbformat_minor": 5
}
