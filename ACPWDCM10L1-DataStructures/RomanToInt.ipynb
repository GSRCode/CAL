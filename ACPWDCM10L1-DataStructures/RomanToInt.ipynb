{
 "cells": [
  {
   "cell_type": "code",
   "execution_count": 12,
   "id": "9f3f05ba",
   "metadata": {},
   "outputs": [],
   "source": [
    "def RomanToInt(romInp):\n",
    "    romDict = {'M':1000,'D':500,'C':100,'L':50,'X':10,'V':5,'I':1}\n",
    "    \n",
    "    retInt = 0\n",
    "    \n",
    "    for i in range(0, len(romInp)-1):\n",
    "        #print(i)\n",
    "        if romDict[romInp[i]] < romDict[romInp[i+1]] :\n",
    "            retInt -= romDict[romInp[i]]\n",
    "        else:\n",
    "            retInt += romDict[romInp[i]]\n",
    "            \n",
    "    retInt += romDict[romInp[len(romInp)-1]]\n",
    "    \n",
    "    return retInt"
   ]
  },
  {
   "cell_type": "code",
   "execution_count": 13,
   "id": "d3f4862b",
   "metadata": {},
   "outputs": [
    {
     "name": "stdout",
     "output_type": "stream",
     "text": [
      "1546\n"
     ]
    }
   ],
   "source": [
    "print(RomanToInt('MDXLVI'))"
   ]
  },
  {
   "cell_type": "code",
   "execution_count": 14,
   "id": "8e3cac0d",
   "metadata": {},
   "outputs": [
    {
     "name": "stdout",
     "output_type": "stream",
     "text": [
      "90\n"
     ]
    }
   ],
   "source": [
    "print(RomanToInt('XC'))"
   ]
  },
  {
   "cell_type": "code",
   "execution_count": 15,
   "id": "ad5396a7",
   "metadata": {},
   "outputs": [
    {
     "name": "stdout",
     "output_type": "stream",
     "text": [
      "80\n"
     ]
    }
   ],
   "source": [
    "print(RomanToInt('LXXX'))"
   ]
  },
  {
   "cell_type": "code",
   "execution_count": null,
   "id": "9b9549ab",
   "metadata": {},
   "outputs": [],
   "source": []
  }
 ],
 "metadata": {
  "kernelspec": {
   "display_name": "Python 3 (ipykernel)",
   "language": "python",
   "name": "python3"
  },
  "language_info": {
   "codemirror_mode": {
    "name": "ipython",
    "version": 3
   },
   "file_extension": ".py",
   "mimetype": "text/x-python",
   "name": "python",
   "nbconvert_exporter": "python",
   "pygments_lexer": "ipython3",
   "version": "3.11.7"
  }
 },
 "nbformat": 4,
 "nbformat_minor": 5
}
