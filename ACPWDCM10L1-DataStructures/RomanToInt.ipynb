{
 "cells": [
  {
   "cell_type": "code",
   "execution_count": 1,
   "id": "e3b517ea",
   "metadata": {},
   "outputs": [],
   "source": [
    "def RomanToInt(romInp):\n",
    "    romDict = {'M':1000,'D':500,'C':100,'L':50,'X':10,'V':5,'I':1}\n",
    "    \n",
    "    retInt = 0\n",
    "    \n",
    "    for i in range(0, len(romInp)-1):\n",
    "        #print(i)\n",
    "        if romDict[romInp[i]] < romDict[romInp[i+1]] :\n",
    "            retInt -= romDict[romInp[i]]\n",
    "        else:\n",
    "            retInt += romDict[romInp[i]]\n",
    "            \n",
    "    retInt += romDict[romInp[len(romInp)-1]]\n",
    "    \n",
    "    return retInt"
   ]
  },
  {
   "cell_type": "code",
   "execution_count": 2,
   "id": "fb0e03cb",
   "metadata": {},
   "outputs": [
    {
     "name": "stdout",
     "output_type": "stream",
     "text": [
      "1546\n"
     ]
    }
   ],
   "source": [
    "print(RomanToInt('MDXLVI'))"
   ]
  },
  {
   "cell_type": "code",
   "execution_count": 3,
   "id": "659f8ac7",
   "metadata": {},
   "outputs": [
    {
     "name": "stdout",
     "output_type": "stream",
     "text": [
      "90\n"
     ]
    }
   ],
   "source": [
    "print(RomanToInt('XC'))"
   ]
  },
  {
   "cell_type": "code",
   "execution_count": 4,
   "id": "0f042596",
   "metadata": {},
   "outputs": [
    {
     "name": "stdout",
     "output_type": "stream",
     "text": [
      "80\n"
     ]
    }
   ],
   "source": [
    "print(RomanToInt('LXXX'))"
   ]
  },
  {
   "cell_type": "code",
   "execution_count": 5,
   "id": "bbd888e2",
   "metadata": {},
   "outputs": [
    {
     "name": "stdout",
     "output_type": "stream",
     "text": [
      "120\n"
     ]
    }
   ],
   "source": [
    "print(RomanToInt('CXX'))"
   ]
  },
  {
   "cell_type": "code",
   "execution_count": 6,
   "id": "f04ffd8e",
   "metadata": {},
   "outputs": [
    {
     "name": "stdout",
     "output_type": "stream",
     "text": [
      "500\n"
     ]
    }
   ],
   "source": [
    "print(RomanToInt('DM'))"
   ]
  },
  {
   "cell_type": "code",
   "execution_count": 7,
   "id": "f808fb29",
   "metadata": {},
   "outputs": [
    {
     "name": "stdout",
     "output_type": "stream",
     "text": [
      "499\n"
     ]
    }
   ],
   "source": [
    "print(RomanToInt('ID'))"
   ]
  },
  {
   "cell_type": "code",
   "execution_count": 8,
   "id": "c9725e2f",
   "metadata": {},
   "outputs": [
    {
     "name": "stdout",
     "output_type": "stream",
     "text": [
      "28\n"
     ]
    }
   ],
   "source": [
    "print(RomanToInt('XXVIII'))"
   ]
  },
  {
   "cell_type": "code",
   "execution_count": 10,
   "id": "eba385b1",
   "metadata": {},
   "outputs": [
    {
     "name": "stdout",
     "output_type": "stream",
     "text": [
      "110\n"
     ]
    }
   ],
   "source": [
    "print(RomanToInt('XXXC'))"
   ]
  },
  {
   "cell_type": "code",
   "execution_count": 11,
   "id": "3e892d40",
   "metadata": {},
   "outputs": [
    {
     "name": "stdout",
     "output_type": "stream",
     "text": [
      "110\n"
     ]
    }
   ],
   "source": [
    "print(RomanToInt('CX'))"
   ]
  },
  {
   "cell_type": "code",
   "execution_count": null,
   "id": "6faaea11",
   "metadata": {},
   "outputs": [],
   "source": []
  }
 ],
 "metadata": {
  "kernelspec": {
   "display_name": "Python 3 (ipykernel)",
   "language": "python",
   "name": "python3"
  },
  "language_info": {
   "codemirror_mode": {
    "name": "ipython",
    "version": 3
   },
   "file_extension": ".py",
   "mimetype": "text/x-python",
   "name": "python",
   "nbconvert_exporter": "python",
   "pygments_lexer": "ipython3",
   "version": "3.11.7"
  }
 },
 "nbformat": 4,
 "nbformat_minor": 5
}
