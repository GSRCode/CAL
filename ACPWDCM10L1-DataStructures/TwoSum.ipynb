{
 "cells": [
  {
   "cell_type": "code",
   "execution_count": 1,
   "id": "f5044975",
   "metadata": {},
   "outputs": [],
   "source": [
    "def FindPairs (A, arrSz, sum):\n",
    "    st = 0\n",
    "    en = arrSz\n",
    "    \n",
    "    for i in range(st,en):\n",
    "        for j in range((i+1),en):\n",
    "            if( (A[i]+A[j]) == sum ):\n",
    "                print(f' {A[i]}, {A[j]} ')"
   ]
  },
  {
   "cell_type": "code",
   "execution_count": 2,
   "id": "7144f223",
   "metadata": {},
   "outputs": [
    {
     "name": "stdout",
     "output_type": "stream",
     "text": [
      "input array size: 8\n"
     ]
    }
   ],
   "source": [
    "sz = int(input('input array size: '))"
   ]
  },
  {
   "cell_type": "code",
   "execution_count": 3,
   "id": "a2b00129",
   "metadata": {},
   "outputs": [],
   "source": [
    "A = []"
   ]
  },
  {
   "cell_type": "code",
   "execution_count": 4,
   "id": "c7087192",
   "metadata": {},
   "outputs": [
    {
     "name": "stdout",
     "output_type": "stream",
     "text": [
      "-3\n",
      "-2\n",
      "-1\n",
      "4\n",
      "5\n",
      "6\n",
      "8\n",
      "9\n"
     ]
    }
   ],
   "source": [
    "for i in range(sz):\n",
    "    A.append(int(input()))"
   ]
  },
  {
   "cell_type": "code",
   "execution_count": 5,
   "id": "322f34af",
   "metadata": {},
   "outputs": [
    {
     "name": "stdout",
     "output_type": "stream",
     "text": [
      "input target sum: 3\n"
     ]
    }
   ],
   "source": [
    "tsum = int(input('input target sum: '))"
   ]
  },
  {
   "cell_type": "code",
   "execution_count": 6,
   "id": "48d589dc",
   "metadata": {},
   "outputs": [
    {
     "name": "stdout",
     "output_type": "stream",
     "text": [
      " -3, 6 \n",
      " -2, 5 \n",
      " -1, 4 \n"
     ]
    }
   ],
   "source": [
    "FindPairs(A,len(A),tsum)"
   ]
  },
  {
   "cell_type": "code",
   "execution_count": 7,
   "id": "6c1bdb11",
   "metadata": {},
   "outputs": [],
   "source": [
    "def FindPairsOpt (A, arrSz, summ):\n",
    "    st = 0\n",
    "    en = arrSz-1\n",
    "    \n",
    "    while st < en:\n",
    "        currSum = A[st]+A[en] \n",
    "        if( currSum == summ ):\n",
    "            print(f' {A[st]}, {A[en]} ')\n",
    "            st += 1\n",
    "            en -= 1\n",
    "        elif (currSum < summ):\n",
    "            st += 1\n",
    "        else:\n",
    "            en -= 1"
   ]
  },
  {
   "cell_type": "code",
   "execution_count": 8,
   "id": "cdd7a021",
   "metadata": {},
   "outputs": [
    {
     "name": "stdout",
     "output_type": "stream",
     "text": [
      " -3, 6 \n",
      " -2, 5 \n",
      " -1, 4 \n"
     ]
    }
   ],
   "source": [
    "FindPairsOpt(A,len(A),tsum)"
   ]
  },
  {
   "cell_type": "code",
   "execution_count": null,
   "id": "aa416d9e",
   "metadata": {},
   "outputs": [],
   "source": []
  }
 ],
 "metadata": {
  "kernelspec": {
   "display_name": "Python 3 (ipykernel)",
   "language": "python",
   "name": "python3"
  },
  "language_info": {
   "codemirror_mode": {
    "name": "ipython",
    "version": 3
   },
   "file_extension": ".py",
   "mimetype": "text/x-python",
   "name": "python",
   "nbconvert_exporter": "python",
   "pygments_lexer": "ipython3",
   "version": "3.11.7"
  }
 },
 "nbformat": 4,
 "nbformat_minor": 5
}
