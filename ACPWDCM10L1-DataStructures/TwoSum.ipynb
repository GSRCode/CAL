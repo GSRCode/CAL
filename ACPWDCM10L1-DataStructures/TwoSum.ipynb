{
 "cells": [
  {
   "cell_type": "code",
   "execution_count": 1,
   "id": "425ff030",
   "metadata": {},
   "outputs": [],
   "source": [
    "def FindPairs (A, arrSz, sum):\n",
    "    st = 0\n",
    "    en = arrSz\n",
    "    \n",
    "    for i in range(st,en):\n",
    "        for j in range((i+1),en):\n",
    "            if( (A[i]+A[j]) == sum ):\n",
    "                print(f' {A[i]}, {A[j]} ')"
   ]
  },
  {
   "cell_type": "code",
   "execution_count": 2,
   "id": "ada391cd",
   "metadata": {},
   "outputs": [
    {
     "name": "stdout",
     "output_type": "stream",
     "text": [
      "input array size: 8\n"
     ]
    }
   ],
   "source": [
    "sz = int(input('input array size: '))"
   ]
  },
  {
   "cell_type": "code",
   "execution_count": 3,
   "id": "079ccf4d",
   "metadata": {},
   "outputs": [],
   "source": [
    "A = []"
   ]
  },
  {
   "cell_type": "code",
   "execution_count": 4,
   "id": "91261230",
   "metadata": {},
   "outputs": [
    {
     "name": "stdout",
     "output_type": "stream",
     "text": [
      "-3\n",
      "-2\n",
      "-1\n",
      "4\n",
      "5\n",
      "6\n",
      "8\n",
      "9\n"
     ]
    }
   ],
   "source": [
    "for i in range(sz):\n",
    "    A.append(int(input()))"
   ]
  },
  {
   "cell_type": "code",
   "execution_count": 5,
   "id": "72dc909a",
   "metadata": {},
   "outputs": [
    {
     "name": "stdout",
     "output_type": "stream",
     "text": [
      "input target sum: 3\n"
     ]
    }
   ],
   "source": [
    "tsum = int(input('input target sum: '))"
   ]
  },
  {
   "cell_type": "code",
   "execution_count": 6,
   "id": "73d4bf12",
   "metadata": {},
   "outputs": [
    {
     "name": "stdout",
     "output_type": "stream",
     "text": [
      " -3, 6 \n",
      " -2, 5 \n",
      " -1, 4 \n"
     ]
    }
   ],
   "source": [
    "FindPairs(A,len(A),tsum)"
   ]
  },
  {
   "cell_type": "code",
   "execution_count": 7,
   "id": "b6cbf013",
   "metadata": {},
   "outputs": [],
   "source": [
    "def FindPairsOpt (A, arrSz, summ):\n",
    "    st = 0\n",
    "    en = arrSz-1\n",
    "    \n",
    "    while st < en:\n",
    "        currSum = A[st]+A[en] \n",
    "        if( currSum == summ ):\n",
    "            print(f' {A[st]}, {A[en]} ')\n",
    "            st += 1\n",
    "            en -= 1\n",
    "        elif (currSum < summ):\n",
    "            st += 1\n",
    "        else:\n",
    "            en -= 1"
   ]
  },
  {
   "cell_type": "code",
   "execution_count": 8,
   "id": "53475852",
   "metadata": {},
   "outputs": [
    {
     "name": "stdout",
     "output_type": "stream",
     "text": [
      " -3, 6 \n",
      " -2, 5 \n",
      " -1, 4 \n"
     ]
    }
   ],
   "source": [
    "FindPairsOpt(A,len(A),tsum)"
   ]
  },
  {
   "cell_type": "code",
   "execution_count": null,
   "id": "281306c4",
   "metadata": {},
   "outputs": [],
   "source": []
  }
 ],
 "metadata": {
  "kernelspec": {
   "display_name": "Python 3 (ipykernel)",
   "language": "python",
   "name": "python3"
  },
  "language_info": {
   "codemirror_mode": {
    "name": "ipython",
    "version": 3
   },
   "file_extension": ".py",
   "mimetype": "text/x-python",
   "name": "python",
   "nbconvert_exporter": "python",
   "pygments_lexer": "ipython3",
   "version": "3.11.7"
  }
 },
 "nbformat": 4,
 "nbformat_minor": 5
}
