{
 "cells": [
  {
   "cell_type": "code",
   "execution_count": 17,
   "id": "4e470a97",
   "metadata": {},
   "outputs": [
    {
     "name": "stdout",
     "output_type": "stream",
     "text": [
      "Enter larger num: 625\n",
      "Enter smaller num: 125\n"
     ]
    }
   ],
   "source": [
    "nl = int(input('Enter larger num: '))\n",
    "ns = int(input('Enter smaller num: '))\n",
    "nlo = nl\n",
    "nso = ns"
   ]
  },
  {
   "cell_type": "code",
   "execution_count": 18,
   "id": "768ed14d",
   "metadata": {},
   "outputs": [
    {
     "name": "stdout",
     "output_type": "stream",
     "text": [
      "HCF = 125\n"
     ]
    }
   ],
   "source": [
    "while ns > 0:\n",
    "    r = nl % ns\n",
    "    nl = ns\n",
    "    ns = r\n",
    "    #print(nl)\n",
    "    \n",
    "print(f'HCF = {nl}')"
   ]
  },
  {
   "cell_type": "code",
   "execution_count": 19,
   "id": "4a892f2e",
   "metadata": {},
   "outputs": [
    {
     "name": "stdout",
     "output_type": "stream",
     "text": [
      "LCM = 625.0\n"
     ]
    }
   ],
   "source": [
    "print(f'LCM = {(nlo*nso)/nl}')"
   ]
  },
  {
   "cell_type": "code",
   "execution_count": null,
   "id": "8cb35a36",
   "metadata": {},
   "outputs": [],
   "source": []
  }
 ],
 "metadata": {
  "kernelspec": {
   "display_name": "Python 3 (ipykernel)",
   "language": "python",
   "name": "python3"
  },
  "language_info": {
   "codemirror_mode": {
    "name": "ipython",
    "version": 3
   },
   "file_extension": ".py",
   "mimetype": "text/x-python",
   "name": "python",
   "nbconvert_exporter": "python",
   "pygments_lexer": "ipython3",
   "version": "3.11.7"
  }
 },
 "nbformat": 4,
 "nbformat_minor": 5
}
