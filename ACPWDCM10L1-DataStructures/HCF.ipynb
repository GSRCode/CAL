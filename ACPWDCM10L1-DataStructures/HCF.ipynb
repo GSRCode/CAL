{
 "cells": [
  {
   "cell_type": "code",
   "execution_count": 1,
   "id": "b65350dd",
   "metadata": {},
   "outputs": [
    {
     "name": "stdout",
     "output_type": "stream",
     "text": [
      "Enter larger num: 72\n",
      "Enter smaller num: 14\n"
     ]
    }
   ],
   "source": [
    "nl = int(input('Enter larger num: '))\n",
    "ns = int(input('Enter smaller num: '))\n",
    "nlo = nl\n",
    "nso = ns"
   ]
  },
  {
   "cell_type": "code",
   "execution_count": 2,
   "id": "49bee48c",
   "metadata": {},
   "outputs": [
    {
     "name": "stdout",
     "output_type": "stream",
     "text": [
      "HCF = 2\n"
     ]
    }
   ],
   "source": [
    "while ns > 0:\n",
    "    r = nl % ns\n",
    "    nl = ns\n",
    "    ns = r\n",
    "    #print(nl)\n",
    "    \n",
    "print(f'HCF = {nl}')"
   ]
  },
  {
   "cell_type": "code",
   "execution_count": 3,
   "id": "acfd065b",
   "metadata": {},
   "outputs": [
    {
     "name": "stdout",
     "output_type": "stream",
     "text": [
      "LCM = 504.0\n"
     ]
    }
   ],
   "source": [
    "print(f'LCM = {(nlo*nso)/nl}')"
   ]
  },
  {
   "cell_type": "code",
   "execution_count": null,
   "id": "f955c89f",
   "metadata": {},
   "outputs": [],
   "source": []
  }
 ],
 "metadata": {
  "kernelspec": {
   "display_name": "Python 3 (ipykernel)",
   "language": "python",
   "name": "python3"
  },
  "language_info": {
   "codemirror_mode": {
    "name": "ipython",
    "version": 3
   },
   "file_extension": ".py",
   "mimetype": "text/x-python",
   "name": "python",
   "nbconvert_exporter": "python",
   "pygments_lexer": "ipython3",
   "version": "3.11.7"
  }
 },
 "nbformat": 4,
 "nbformat_minor": 5
}
