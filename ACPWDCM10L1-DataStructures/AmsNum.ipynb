{
 "cells": [
  {
   "cell_type": "code",
   "execution_count": 40,
   "id": "e2131bae",
   "metadata": {},
   "outputs": [
    {
     "name": "stdout",
     "output_type": "stream",
     "text": [
      "Enter the number: 407\n"
     ]
    }
   ],
   "source": [
    "num = int(input('Enter the number: '))"
   ]
  },
  {
   "cell_type": "code",
   "execution_count": 41,
   "id": "cf003e89",
   "metadata": {},
   "outputs": [
    {
     "name": "stdout",
     "output_type": "stream",
     "text": [
      "3\n"
     ]
    }
   ],
   "source": [
    "numD = len(str(num))\n",
    "print(numD)"
   ]
  },
  {
   "cell_type": "code",
   "execution_count": 42,
   "id": "ca16a2e9",
   "metadata": {},
   "outputs": [],
   "source": [
    "resNum = 0\n",
    "tmpNum = num"
   ]
  },
  {
   "cell_type": "code",
   "execution_count": 43,
   "id": "633e9638",
   "metadata": {},
   "outputs": [],
   "source": [
    "while tmpNum > 0:\n",
    "    dig = tmpNum % 10\n",
    "    #print(dig)\n",
    "    resNum = resNum + dig**numD\n",
    "    #print(resNum)\n",
    "    tmpNum = tmpNum // 10"
   ]
  },
  {
   "cell_type": "code",
   "execution_count": 44,
   "id": "312cef03",
   "metadata": {},
   "outputs": [
    {
     "name": "stdout",
     "output_type": "stream",
     "text": [
      "orig num = 407, resNum = 407\n",
      "It is an Amstrong number\n"
     ]
    }
   ],
   "source": [
    "print(f'orig num = {num}, resNum = {resNum}')\n",
    "if(num == resNum):\n",
    "    print('It is an Amstrong number')\n",
    "else:\n",
    "    print('It is not an Amstrong number')"
   ]
  },
  {
   "cell_type": "code",
   "execution_count": null,
   "id": "14a67fce",
   "metadata": {},
   "outputs": [],
   "source": []
  }
 ],
 "metadata": {
  "kernelspec": {
   "display_name": "Python 3 (ipykernel)",
   "language": "python",
   "name": "python3"
  },
  "language_info": {
   "codemirror_mode": {
    "name": "ipython",
    "version": 3
   },
   "file_extension": ".py",
   "mimetype": "text/x-python",
   "name": "python",
   "nbconvert_exporter": "python",
   "pygments_lexer": "ipython3",
   "version": "3.11.7"
  }
 },
 "nbformat": 4,
 "nbformat_minor": 5
}
