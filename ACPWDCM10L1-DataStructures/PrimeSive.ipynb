{
 "cells": [
  {
   "cell_type": "code",
   "execution_count": null,
   "id": "1527844c",
   "metadata": {},
   "outputs": [],
   "source": []
  },
  {
   "cell_type": "code",
   "execution_count": 2,
   "id": "5c8f42d9",
   "metadata": {},
   "outputs": [],
   "source": [
    "def PrimeSeive(n):\n",
    "    prime = [True for i in range(n+1)]\n",
    "    \n",
    "    prime[0] = False\n",
    "    prime[1] = False\n",
    "    \n",
    "    currNum = 2\n",
    "    while( (currNum*currNum) <= n ):\n",
    "        if (prime[currNum] == True) :\n",
    "            for i in range(currNum*2,n+1,currNum):\n",
    "                prime[i] = False\n",
    "        currNum += 1\n",
    "        \n",
    "    for i in range(n+1):\n",
    "        if prime[i]:\n",
    "            print(i)"
   ]
  },
  {
   "cell_type": "code",
   "execution_count": 3,
   "id": "26b0802a",
   "metadata": {},
   "outputs": [
    {
     "name": "stdout",
     "output_type": "stream",
     "text": [
      "Input range till which you want prime nums: 1000\n"
     ]
    }
   ],
   "source": [
    "num = int(input('Input range till which you want prime nums: '))"
   ]
  },
  {
   "cell_type": "code",
   "execution_count": 5,
   "id": "390f3121",
   "metadata": {},
   "outputs": [
    {
     "name": "stdout",
     "output_type": "stream",
     "text": [
      "2\n",
      "3\n",
      "5\n",
      "7\n",
      "11\n",
      "13\n",
      "17\n",
      "19\n",
      "23\n",
      "29\n",
      "31\n",
      "37\n",
      "41\n",
      "43\n",
      "47\n",
      "53\n",
      "59\n",
      "61\n",
      "67\n",
      "71\n",
      "73\n",
      "79\n",
      "83\n",
      "89\n",
      "97\n"
     ]
    }
   ],
   "source": [
    "PrimeSeive(100)"
   ]
  },
  {
   "cell_type": "code",
   "execution_count": null,
   "id": "2239e4dd",
   "metadata": {},
   "outputs": [],
   "source": []
  }
 ],
 "metadata": {
  "kernelspec": {
   "display_name": "Python 3 (ipykernel)",
   "language": "python",
   "name": "python3"
  },
  "language_info": {
   "codemirror_mode": {
    "name": "ipython",
    "version": 3
   },
   "file_extension": ".py",
   "mimetype": "text/x-python",
   "name": "python",
   "nbconvert_exporter": "python",
   "pygments_lexer": "ipython3",
   "version": "3.11.7"
  }
 },
 "nbformat": 4,
 "nbformat_minor": 5
}
