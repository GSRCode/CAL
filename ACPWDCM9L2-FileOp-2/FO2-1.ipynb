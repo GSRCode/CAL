{
 "cells": [
  {
   "cell_type": "code",
   "execution_count": 3,
   "id": "b7ef6f51",
   "metadata": {},
   "outputs": [],
   "source": [
    "# write in file using with()function\n",
    "with open('Codingal.txt', 'w') as file:\n",
    "    file.write(\"Hi! I am Penguin and I am 1 yr old.\")"
   ]
  },
  {
   "cell_type": "code",
   "execution_count": 4,
   "id": "8cce5102",
   "metadata": {},
   "outputs": [
    {
     "name": "stdout",
     "output_type": "stream",
     "text": [
      "Words in this file are....\n",
      "['Hi!', 'I', 'am', 'Penguin', 'and', 'I', 'am', '1', 'yr', 'old.']\n"
     ]
    }
   ],
   "source": [
    "# split file into words\n",
    "with open('Codingal.txt', 'r') as file:\n",
    "    data = file.readlines()\n",
    "    print(\"Words in this file are....\")\n",
    "    for line in data:\n",
    "        word = line.split()\n",
    "        print (word)"
   ]
  },
  {
   "cell_type": "code",
   "execution_count": null,
   "id": "593cea9c",
   "metadata": {},
   "outputs": [],
   "source": []
  }
 ],
 "metadata": {
  "kernelspec": {
   "display_name": "Python 3 (ipykernel)",
   "language": "python",
   "name": "python3"
  },
  "language_info": {
   "codemirror_mode": {
    "name": "ipython",
    "version": 3
   },
   "file_extension": ".py",
   "mimetype": "text/x-python",
   "name": "python",
   "nbconvert_exporter": "python",
   "pygments_lexer": "ipython3",
   "version": "3.11.7"
  }
 },
 "nbformat": 4,
 "nbformat_minor": 5
}
