{
 "cells": [
  {
   "cell_type": "code",
   "execution_count": 5,
   "id": "1052daad",
   "metadata": {},
   "outputs": [],
   "source": [
    "import os"
   ]
  },
  {
   "cell_type": "code",
   "execution_count": 3,
   "id": "b7ef6f51",
   "metadata": {},
   "outputs": [],
   "source": [
    "# write in file using with()function\n",
    "with open('Codingal.txt', 'w') as file:\n",
    "    file.write(\"Hi! I am Penguin and I am 1 yr old.\")"
   ]
  },
  {
   "cell_type": "code",
   "execution_count": 4,
   "id": "8cce5102",
   "metadata": {},
   "outputs": [
    {
     "name": "stdout",
     "output_type": "stream",
     "text": [
      "Words in this file are....\n",
      "['Hi!', 'I', 'am', 'Penguin', 'and', 'I', 'am', '1', 'yr', 'old.']\n"
     ]
    }
   ],
   "source": [
    "# split file into words\n",
    "with open('Codingal.txt', 'r') as file:\n",
    "    data = file.readlines()\n",
    "    print(\"Words in this file are....\")\n",
    "    for line in data:\n",
    "        word = line.split()\n",
    "        print (word)"
   ]
  },
  {
   "cell_type": "code",
   "execution_count": 6,
   "id": "593cea9c",
   "metadata": {},
   "outputs": [
    {
     "name": "stdout",
     "output_type": "stream",
     "text": [
      "Checking if my_file exists or not....\n"
     ]
    }
   ],
   "source": [
    "print(\"Checking if my_file exists or not....\")\n",
    "if os.path.exists(\"Codingal.txt\"):\n",
    "  os.remove(\"Codingal.txt\")\n",
    "else:\n",
    "  print(\"The file does not exist\")"
   ]
  },
  {
   "cell_type": "code",
   "execution_count": 7,
   "id": "7b9be8e8",
   "metadata": {},
   "outputs": [],
   "source": [
    "#delete the folder\n",
    "os.rmdir('Folder')"
   ]
  },
  {
   "cell_type": "code",
   "execution_count": 8,
   "id": "be1b4cd2",
   "metadata": {},
   "outputs": [
    {
     "name": "stdout",
     "output_type": "stream",
     "text": [
      "Eliminating duplicate lines....\n"
     ]
    }
   ],
   "source": [
    "# creating the output file\n",
    "outputFile = open('UpdatedFile.txt', \"w\")\n",
    "\n",
    "# reading the input file\n",
    "inputFile = open('abc.txt', \"r\")\n",
    "\n",
    "# holds lines already seen\n",
    "lines_seen_so_far = set()\n",
    "print(\"Eliminating duplicate lines....\")\n",
    "# iterating each line in the file\n",
    "for line in inputFile:\n",
    "    # checking if line is unique\n",
    "    if line not in lines_seen_so_far:\n",
    "        # write unique lines in output file\n",
    "        outputFile.write(line)\n",
    "        \n",
    "        # adds unique lines to lines_seen_so_far\n",
    "        lines_seen_so_far.add(line)\n",
    "\n",
    "# closing the file\n",
    "inputFile.close()\n",
    "outputFile.close()"
   ]
  },
  {
   "cell_type": "code",
   "execution_count": 9,
   "id": "7a72fb38",
   "metadata": {},
   "outputs": [
    {
     "name": "stdout",
     "output_type": "stream",
     "text": [
      "Merging two files....\n"
     ]
    }
   ],
   "source": [
    "# Reading data from file1\n",
    "with open('1.txt') as fp:\n",
    "    data1 = fp.read()\n",
    "\n",
    "# Reading data from file2\n",
    "with open('2.txt') as fp:\n",
    "    data2 = fp.read()\n",
    "\n",
    "# Merging 2 files\n",
    "# To add the data of file2\n",
    "# from next line\n",
    "data1 += \"\\n\"\n",
    "data1 += data2\n",
    "print(\"Merging two files....\")\n",
    "with open ('MergedFile.txt', 'w') as fp:\n",
    "    fp.write(data1)"
   ]
  },
  {
   "cell_type": "code",
   "execution_count": null,
   "id": "4f78cf31",
   "metadata": {},
   "outputs": [],
   "source": []
  }
 ],
 "metadata": {
  "kernelspec": {
   "display_name": "Python 3 (ipykernel)",
   "language": "python",
   "name": "python3"
  },
  "language_info": {
   "codemirror_mode": {
    "name": "ipython",
    "version": 3
   },
   "file_extension": ".py",
   "mimetype": "text/x-python",
   "name": "python",
   "nbconvert_exporter": "python",
   "pygments_lexer": "ipython3",
   "version": "3.11.7"
  }
 },
 "nbformat": 4,
 "nbformat_minor": 5
}
