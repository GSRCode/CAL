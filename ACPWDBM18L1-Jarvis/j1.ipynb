{
 "cells": [
  {
   "cell_type": "code",
   "execution_count": 3,
   "id": "e3377915",
   "metadata": {},
   "outputs": [],
   "source": [
    "#pip install --user -U nltk"
   ]
  },
  {
   "cell_type": "code",
   "execution_count": 2,
   "id": "3fe90206",
   "metadata": {},
   "outputs": [],
   "source": [
    "import nltk\n",
    "from nltk.chat.util import Chat, reflections"
   ]
  },
  {
   "cell_type": "code",
   "execution_count": 4,
   "id": "490de6b7",
   "metadata": {},
   "outputs": [],
   "source": [
    "reflections = {\n",
    "  \"i am\"       : \"you are\",\n",
    "  \"i was\"      : \"you were\",\n",
    "  \"i\"          : \"you\",\n",
    "  \"i'm\"        : \"you are\",\n",
    "  \"i'd\"        : \"you would\",\n",
    "  \"i've\"       : \"you have\",\n",
    "  \"i'll\"       : \"you will\",\n",
    "  \"my\"         : \"your\",\n",
    "  \"you are\"    : \"I am\",\n",
    "  \"you were\"   : \"I was\",\n",
    "  \"you've\"     : \"I have\",\n",
    "  \"you'll\"     : \"I will\",\n",
    "  \"your\"       : \"my\",\n",
    "  \"yours\"      : \"mine\",\n",
    "  \"you\"        : \"me\",\n",
    "  \"me\"         : \"you\"\n",
    "}"
   ]
  },
  {
   "cell_type": "code",
   "execution_count": 5,
   "id": "1050e8d2",
   "metadata": {},
   "outputs": [],
   "source": [
    "pairs = [\n",
    "    [\n",
    "        r\"my name is (.*)\",\n",
    "        [\"Hello %1, how are you today?\"]\n",
    "    ],\n",
    "    [\n",
    "        r\"hi|hey|hello\",\n",
    "        [\"Hello\", \"Hey there\"]\n",
    "    ],\n",
    "    [\n",
    "        r\"what is your name ?\",\n",
    "        [\"I am a bot created by Codingal Edu. Pvt. Lim. You can call me Jarvis!\"]\n",
    "    ],\n",
    "    [\n",
    "        r\"how are you ?\",\n",
    "        [\"I'm doing good. How about you?\"]\n",
    "    ],\n",
    "    [\n",
    "        r\"sorry (.*)\",\n",
    "        [\"It's alright\", \"It's OK, never mind\"]\n",
    "    ],\n",
    "    [\n",
    "        r\"I am fine\",\n",
    "        [\"Great to hear that. How can I help you?\"]\n",
    "    ],\n",
    "    [\n",
    "        r\"i'm (.*) doing good\",\n",
    "        [\"Nice to hear that. How can I help you? :)\"]\n",
    "    ],\n",
    "    [\n",
    "        r\"(.*) age?\",\n",
    "        [\"I'm a computer program dude. Seriously, you are asking me this?\"]\n",
    "    ],\n",
    "    [\n",
    "        r\"what (.*) want ?\",\n",
    "        [\"Make me an offer I can't refuse\"]\n",
    "    ],\n",
    "    [\n",
    "        r\"(.*) created ?\",\n",
    "        [\"Shravan created me using Python's NLTK library\", \"Top secret ;)\"]\n",
    "    ],\n",
    "    [\n",
    "        r\"(.*) (location|city) ?\",\n",
    "        [\"Bangalore, Karnataka\"]\n",
    "    ],\n",
    "    [\n",
    "        r\"how is the weather in (.*)?\",\n",
    "        [\"The weather in %1 is awesome like always\", \"Too hot here in %1\", \"Too cold here in %1\", \"Never even heard about %1\"]\n",
    "    ],\n",
    "    [\n",
    "        r\"i work in (.*)?\",\n",
    "        [\"%1 is an amazing company, though I've heard they are facing some challenges lately.\"]\n",
    "    ],\n",
    "    [\n",
    "        r\"(.*) raining in (.*)\",\n",
    "        [\"No rain since last week here in %2\", \"Damn, it's raining too much here in %2\"]\n",
    "    ],\n",
    "    [\n",
    "        r\"how (.*) health(.*)\",\n",
    "        [\"I'm a computer program, so I'm always healthy\"]\n",
    "    ],\n",
    "    [\n",
    "        r\"(.*) (sports|game) ?\",\n",
    "        [\"I'm a very big fan of football and cricket.\"]\n",
    "    ],\n",
    "    [\n",
    "        r\"who (.*) sportsperson ?\",\n",
    "        [\"Messi\", \"Ronaldo\", \"Rooney\", \"Virat Kohli\", \"M.S. Dhoni\", \"Rohit Sharma\"]\n",
    "    ],\n",
    "    [\n",
    "        r\"who (.*) (moviestar|actor)?\",\n",
    "        [\"Benedict Cumberbatch\"]\n",
    "    ],\n",
    "    [\n",
    "        r\"i am looking for online guides and courses to learn data science, can you suggest?\",\n",
    "        [\"Jarvis_Tech has many great articles with detailed step-by-step explanations and code. You should definitely check it out.\"]\n",
    "    ],\n",
    "    [\n",
    "        r\"quit\",\n",
    "        [\"Bye, take care. See you soon :)\", \"It was nice talking to you. See you soon :)\"]\n",
    "    ],\n",
    "]"
   ]
  },
  {
   "cell_type": "code",
   "execution_count": 6,
   "id": "46d36df6",
   "metadata": {},
   "outputs": [
    {
     "name": "stdout",
     "output_type": "stream",
     "text": [
      "<class 'list'>\n"
     ]
    }
   ],
   "source": [
    "print(type(pairs))"
   ]
  },
  {
   "cell_type": "code",
   "execution_count": 7,
   "id": "96c2fbfc",
   "metadata": {},
   "outputs": [
    {
     "name": "stdout",
     "output_type": "stream",
     "text": [
      "20\n"
     ]
    }
   ],
   "source": [
    "print(len(pairs))"
   ]
  },
  {
   "cell_type": "code",
   "execution_count": 8,
   "id": "982b71c6",
   "metadata": {},
   "outputs": [
    {
     "name": "stdout",
     "output_type": "stream",
     "text": [
      "2\n"
     ]
    }
   ],
   "source": [
    "print(len(pairs[0]))"
   ]
  },
  {
   "cell_type": "code",
   "execution_count": 9,
   "id": "2a2c65fd",
   "metadata": {},
   "outputs": [
    {
     "name": "stdout",
     "output_type": "stream",
     "text": [
      "Hi! I am a chatbot created by Codingal Edu. Pvt. Lim. for your service.\n",
      ">hi how are you\n",
      "Hey there\n",
      ">how was your day\n",
      "None\n",
      ">My name is Srini\n",
      "Hello srini, how are you today?\n",
      ">I am ok\n",
      "None\n",
      ">tell me about data science\n",
      "None\n",
      ">Who is movie start\n",
      "Benedict Cumberbatch\n",
      ">Who is movie start\n",
      "Benedict Cumberbatch\n",
      ">which city\n",
      "Bangalore, Karnataka\n",
      ">which location\n",
      "Bangalore, Karnataka\n",
      ">which country\n",
      "None\n",
      ">quit\n",
      "Bye, take care. See you soon :)\n"
     ]
    }
   ],
   "source": [
    "def mychat():\n",
    "    print(\"Hi! I am a chatbot created by Codingal Edu. Pvt. Lim. for your service.\")\n",
    "    chatbot = Chat(pairs, reflections)\n",
    "    chatbot.converse()\n",
    "\n",
    "# Initiate the conversation\n",
    "if __name__ == \"__main__\":\n",
    "    mychat()"
   ]
  },
  {
   "cell_type": "code",
   "execution_count": null,
   "id": "90df535b",
   "metadata": {},
   "outputs": [],
   "source": []
  }
 ],
 "metadata": {
  "kernelspec": {
   "display_name": "Python 3 (ipykernel)",
   "language": "python",
   "name": "python3"
  },
  "language_info": {
   "codemirror_mode": {
    "name": "ipython",
    "version": 3
   },
   "file_extension": ".py",
   "mimetype": "text/x-python",
   "name": "python",
   "nbconvert_exporter": "python",
   "pygments_lexer": "ipython3",
   "version": "3.11.7"
  }
 },
 "nbformat": 4,
 "nbformat_minor": 5
}
