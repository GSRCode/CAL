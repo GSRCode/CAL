{
 "cells": [
  {
   "cell_type": "code",
   "execution_count": null,
   "id": "a7256c70",
   "metadata": {},
   "outputs": [],
   "source": [
    "def power2(number):\n",
    "  if number <= 0:\n",
    "      return False\n",
    "  return (number & (number - 1)) == 0"
   ]
  },
  {
   "cell_type": "code",
   "execution_count": null,
   "id": "b70adc09",
   "metadata": {},
   "outputs": [],
   "source": [
    "n = int(input(\"Enter a number: \"))\n",
    "if power2(n):\n",
    "    print(\"\\nThe number is a power of 2\")\n",
    "else:\n",
    "    print(\"\\nThe number is not a power of 2\")"
   ]
  },
  {
   "cell_type": "code",
   "execution_count": null,
   "id": "49701b8d",
   "metadata": {},
   "outputs": [],
   "source": [
    "def computePower(x, y):  \n",
    "    result = 1\n",
    "    while y>0:\n",
    "        if(y%2==0): \n",
    "            x=x*x\n",
    "            y>>=1\n",
    "        else:\n",
    "            result = result * x\n",
    "            y = y - 1\n",
    "    return result"
   ]
  },
  {
   "cell_type": "code",
   "execution_count": null,
   "id": "87f3c9f3",
   "metadata": {},
   "outputs": [],
   "source": [
    "x = int(input(\"Enter x for x^y : \"))\n",
    "y = int(input(\"Enter y for x^y : \"))\n",
    "print(\"Total : \",(computePower(x, y)))"
   ]
  },
  {
   "cell_type": "code",
   "execution_count": 1,
   "id": "8a99ed2e",
   "metadata": {},
   "outputs": [],
   "source": [
    "# Program to check if a number is power of 8\n",
    "\n",
    "def powerOf8(number):\n",
    "    # Variable i will denote the bit\n",
    "    # that we are currently at\n",
    "    bitPosition = 0\n",
    "    mask = 1\n",
    "    \n",
    "    while (bitPosition <= 63):\n",
    "        mask <<= bitPosition\n",
    "        \n",
    "        # If only set bit in n\n",
    "        # is at position i\n",
    "        if (mask == number):\n",
    "            return True\n",
    "    \n",
    "        # Get to next valid bit position\n",
    "        bitPosition += 3\n",
    "        mask = 1\n",
    "    \n",
    "    return False"
   ]
  },
  {
   "cell_type": "code",
   "execution_count": 4,
   "id": "c600e122",
   "metadata": {},
   "outputs": [
    {
     "name": "stdout",
     "output_type": "stream",
     "text": [
      "Enter your number : 513\n",
      "No  513 is not power of 8\n"
     ]
    }
   ],
   "source": [
    "number = int(input(\"Enter your number : \"))\n",
    "if (powerOf8(number)):\n",
    "    print(\"Yes \",number,\"is power of 8\")\n",
    "else:\n",
    "    print(\"No \",number,\"is not power of 8\")"
   ]
  },
  {
   "cell_type": "code",
   "execution_count": null,
   "id": "5db14d13",
   "metadata": {},
   "outputs": [],
   "source": []
  }
 ],
 "metadata": {
  "kernelspec": {
   "display_name": "Python 3 (ipykernel)",
   "language": "python",
   "name": "python3"
  },
  "language_info": {
   "codemirror_mode": {
    "name": "ipython",
    "version": 3
   },
   "file_extension": ".py",
   "mimetype": "text/x-python",
   "name": "python",
   "nbconvert_exporter": "python",
   "pygments_lexer": "ipython3",
   "version": "3.11.7"
  }
 },
 "nbformat": 4,
 "nbformat_minor": 5
}
