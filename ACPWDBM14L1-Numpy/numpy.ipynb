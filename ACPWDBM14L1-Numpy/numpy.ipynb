{
 "cells": [
  {
   "cell_type": "code",
   "execution_count": 1,
   "id": "541b9cc9",
   "metadata": {},
   "outputs": [],
   "source": [
    "import numpy as np"
   ]
  },
  {
   "cell_type": "code",
   "execution_count": 2,
   "id": "4757f48f",
   "metadata": {},
   "outputs": [],
   "source": [
    "data_type = [('name', 'S15'), ('class', int), ('height', float)]\n",
    "students_details = [('James', 5, 48.5), ('Nail', 6, 52.5),('Paul', 5, 42.10), ('Pit', 5, 40.11)]"
   ]
  },
  {
   "cell_type": "code",
   "execution_count": 3,
   "id": "f7c1a824",
   "metadata": {},
   "outputs": [
    {
     "name": "stdout",
     "output_type": "stream",
     "text": [
      "<class 'list'>\n"
     ]
    }
   ],
   "source": [
    "print(type(data_type))"
   ]
  },
  {
   "cell_type": "code",
   "execution_count": 4,
   "id": "94950878",
   "metadata": {},
   "outputs": [
    {
     "name": "stdout",
     "output_type": "stream",
     "text": [
      "<class 'tuple'>\n"
     ]
    }
   ],
   "source": [
    "print(type(data_type[0]))"
   ]
  },
  {
   "cell_type": "code",
   "execution_count": 5,
   "id": "9c22ce31",
   "metadata": {},
   "outputs": [
    {
     "name": "stdout",
     "output_type": "stream",
     "text": [
      "<class 'list'>\n"
     ]
    }
   ],
   "source": [
    "print(type(students_details))"
   ]
  },
  {
   "cell_type": "code",
   "execution_count": 6,
   "id": "1a1f77c1",
   "metadata": {},
   "outputs": [
    {
     "name": "stdout",
     "output_type": "stream",
     "text": [
      "<class 'tuple'>\n"
     ]
    }
   ],
   "source": [
    "print(type(students_details[0]))"
   ]
  },
  {
   "cell_type": "code",
   "execution_count": 7,
   "id": "b4230ff2",
   "metadata": {},
   "outputs": [
    {
     "name": "stdout",
     "output_type": "stream",
     "text": [
      "Original array:\n",
      "[(b'James', 5, 48.5 ) (b'Nail', 6, 52.5 ) (b'Paul', 5, 42.1 )\n",
      " (b'Pit', 5, 40.11)]\n"
     ]
    }
   ],
   "source": [
    "students = np.array(students_details, dtype=data_type)   \n",
    "print(\"Original array:\")\n",
    "print(students)"
   ]
  },
  {
   "cell_type": "code",
   "execution_count": 8,
   "id": "5d915a45",
   "metadata": {},
   "outputs": [
    {
     "name": "stdout",
     "output_type": "stream",
     "text": [
      "<class 'numpy.ndarray'>\n"
     ]
    }
   ],
   "source": [
    "print(type(students))"
   ]
  },
  {
   "cell_type": "code",
   "execution_count": 9,
   "id": "84fae50b",
   "metadata": {},
   "outputs": [
    {
     "name": "stdout",
     "output_type": "stream",
     "text": [
      "4\n"
     ]
    }
   ],
   "source": [
    "print(np.size(students))"
   ]
  },
  {
   "cell_type": "code",
   "execution_count": 10,
   "id": "6806a145",
   "metadata": {},
   "outputs": [
    {
     "name": "stdout",
     "output_type": "stream",
     "text": [
      "Sort by height\n",
      "[(b'Pit', 5, 40.11) (b'Paul', 5, 42.1 ) (b'James', 5, 48.5 )\n",
      " (b'Nail', 6, 52.5 )]\n"
     ]
    }
   ],
   "source": [
    "print(\"Sort by height\")\n",
    "print(np.sort(students, order='height'))"
   ]
  },
  {
   "cell_type": "code",
   "execution_count": 11,
   "id": "64233dc0",
   "metadata": {},
   "outputs": [
    {
     "name": "stdout",
     "output_type": "stream",
     "text": [
      "Matrix 'matrix_a':\n",
      "[[0. 1. 2.]\n",
      " [3. 4. 5.]\n",
      " [6. 7. 8.]]\n"
     ]
    }
   ],
   "source": [
    "matrix_a = np.arange(9, dtype=float).reshape(3, 3)\n",
    "print(\"Matrix 'matrix_a':\")\n",
    "print(matrix_a)"
   ]
  },
  {
   "cell_type": "code",
   "execution_count": 12,
   "id": "37129157",
   "metadata": {},
   "outputs": [
    {
     "name": "stdout",
     "output_type": "stream",
     "text": [
      "[0. 1. 2.]\n"
     ]
    }
   ],
   "source": [
    "print(matrix_a[0])"
   ]
  },
  {
   "cell_type": "code",
   "execution_count": 13,
   "id": "ab746a7d",
   "metadata": {},
   "outputs": [
    {
     "name": "stdout",
     "output_type": "stream",
     "text": [
      "1.0\n"
     ]
    }
   ],
   "source": [
    "print(matrix_a[0][1])"
   ]
  },
  {
   "cell_type": "code",
   "execution_count": 15,
   "id": "b6fcd65e",
   "metadata": {},
   "outputs": [
    {
     "name": "stdout",
     "output_type": "stream",
     "text": [
      "2.0\n"
     ]
    }
   ],
   "source": [
    "print(matrix_a[0,2])"
   ]
  },
  {
   "cell_type": "code",
   "execution_count": 18,
   "id": "a8eb06e8",
   "metadata": {},
   "outputs": [
    {
     "name": "stdout",
     "output_type": "stream",
     "text": [
      "\n",
      "Array 'array_b':\n",
      "[10 11 12]\n"
     ]
    }
   ],
   "source": [
    "array_b = np.array([10, 11, 12])\n",
    "print(\"\\nArray 'array_b':\")\n",
    "print(array_b)"
   ]
  },
  {
   "cell_type": "code",
   "execution_count": 19,
   "id": "f0d81ade",
   "metadata": {},
   "outputs": [
    {
     "name": "stdout",
     "output_type": "stream",
     "text": [
      "11\n"
     ]
    }
   ],
   "source": [
    "print(array_b[1])"
   ]
  },
  {
   "cell_type": "code",
   "execution_count": 20,
   "id": "e8c1f48b",
   "metadata": {},
   "outputs": [
    {
     "name": "stdout",
     "output_type": "stream",
     "text": [
      "\n",
      "Element-wise addition of 'matrix_a' and 'array_b':\n",
      "[[10. 12. 14.]\n",
      " [13. 15. 17.]\n",
      " [16. 18. 20.]]\n"
     ]
    }
   ],
   "source": [
    "print(\"\\nElement-wise addition of 'matrix_a' and 'array_b':\")\n",
    "print(np.add(matrix_a, array_b))"
   ]
  },
  {
   "cell_type": "code",
   "execution_count": 21,
   "id": "1e6eee26",
   "metadata": {},
   "outputs": [
    {
     "name": "stdout",
     "output_type": "stream",
     "text": [
      "\n",
      "Element-wise subtraction of 'array_b' from 'matrix_a':\n",
      "[[-10. -10. -10.]\n",
      " [ -7.  -7.  -7.]\n",
      " [ -4.  -4.  -4.]]\n"
     ]
    }
   ],
   "source": [
    "print(\"\\nElement-wise subtraction of 'array_b' from 'matrix_a':\")\n",
    "print(np.subtract(matrix_a, array_b))"
   ]
  },
  {
   "cell_type": "code",
   "execution_count": 22,
   "id": "057a6289",
   "metadata": {},
   "outputs": [
    {
     "name": "stdout",
     "output_type": "stream",
     "text": [
      "\n",
      "Element-wise multiplication of 'matrix_a' and 'array_b':\n",
      "[[ 0. 11. 24.]\n",
      " [30. 44. 60.]\n",
      " [60. 77. 96.]]\n"
     ]
    }
   ],
   "source": [
    "print(\"\\nElement-wise multiplication of 'matrix_a' and 'array_b':\")\n",
    "print(np.multiply(matrix_a, array_b))"
   ]
  },
  {
   "cell_type": "code",
   "execution_count": 23,
   "id": "acaceaec",
   "metadata": {},
   "outputs": [
    {
     "name": "stdout",
     "output_type": "stream",
     "text": [
      "\n",
      "Element-wise division of 'matrix_a' by 'array_b':\n",
      "[[0.         0.09090909 0.16666667]\n",
      " [0.3        0.36363636 0.41666667]\n",
      " [0.6        0.63636364 0.66666667]]\n"
     ]
    }
   ],
   "source": [
    "print(\"\\nElement-wise division of 'matrix_a' by 'array_b':\")\n",
    "print(np.divide(matrix_a, array_b))"
   ]
  },
  {
   "cell_type": "code",
   "execution_count": 24,
   "id": "85e11f12",
   "metadata": {},
   "outputs": [
    {
     "name": "stdout",
     "output_type": "stream",
     "text": [
      "9\n"
     ]
    }
   ],
   "source": [
    "print(np.size(matrix_a))"
   ]
  },
  {
   "cell_type": "code",
   "execution_count": 25,
   "id": "f56e4602",
   "metadata": {},
   "outputs": [],
   "source": [
    "matrix_a_2 = matrix_a.reshape(3, 3)"
   ]
  },
  {
   "cell_type": "code",
   "execution_count": 26,
   "id": "2fa8f595",
   "metadata": {},
   "outputs": [
    {
     "name": "stdout",
     "output_type": "stream",
     "text": [
      "9\n"
     ]
    }
   ],
   "source": [
    "print(np.size(matrix_a_2))"
   ]
  },
  {
   "cell_type": "code",
   "execution_count": 27,
   "id": "2770b397",
   "metadata": {},
   "outputs": [
    {
     "name": "stdout",
     "output_type": "stream",
     "text": [
      "(3, 3)\n"
     ]
    }
   ],
   "source": [
    "print(matrix_a_2.shape)"
   ]
  },
  {
   "cell_type": "code",
   "execution_count": 28,
   "id": "bb7286af",
   "metadata": {},
   "outputs": [
    {
     "name": "stdout",
     "output_type": "stream",
     "text": [
      "(3, 3)\n"
     ]
    }
   ],
   "source": [
    "print(matrix_a.shape)"
   ]
  },
  {
   "cell_type": "code",
   "execution_count": 29,
   "id": "717b30a7",
   "metadata": {},
   "outputs": [
    {
     "name": "stdout",
     "output_type": "stream",
     "text": [
      "(3,)\n"
     ]
    }
   ],
   "source": [
    "print(array_b.shape)"
   ]
  },
  {
   "cell_type": "code",
   "execution_count": 30,
   "id": "b88b05db",
   "metadata": {},
   "outputs": [
    {
     "name": "stdout",
     "output_type": "stream",
     "text": [
      "[[0. 1. 2.]\n",
      " [3. 4. 5.]\n",
      " [6. 7. 8.]]\n",
      "[10 11 12]\n"
     ]
    }
   ],
   "source": [
    "print(matrix_a)\n",
    "print(array_b)"
   ]
  },
  {
   "cell_type": "code",
   "execution_count": 31,
   "id": "a49e94d9",
   "metadata": {},
   "outputs": [
    {
     "name": "stdout",
     "output_type": "stream",
     "text": [
      "[ 35. 134. 233.]\n"
     ]
    }
   ],
   "source": [
    "mat_c = np.matmul(matrix_a,array_b)\n",
    "print(mat_c)"
   ]
  },
  {
   "cell_type": "code",
   "execution_count": 32,
   "id": "e38ada6a",
   "metadata": {},
   "outputs": [
    {
     "name": "stdout",
     "output_type": "stream",
     "text": [
      "(3,)\n"
     ]
    }
   ],
   "source": [
    "print(mat_c.shape)"
   ]
  },
  {
   "cell_type": "code",
   "execution_count": null,
   "id": "01b9eb14",
   "metadata": {},
   "outputs": [],
   "source": []
  }
 ],
 "metadata": {
  "kernelspec": {
   "display_name": "Python 3 (ipykernel)",
   "language": "python",
   "name": "python3"
  },
  "language_info": {
   "codemirror_mode": {
    "name": "ipython",
    "version": 3
   },
   "file_extension": ".py",
   "mimetype": "text/x-python",
   "name": "python",
   "nbconvert_exporter": "python",
   "pygments_lexer": "ipython3",
   "version": "3.11.7"
  }
 },
 "nbformat": 4,
 "nbformat_minor": 5
}
