{
 "cells": [
  {
   "cell_type": "code",
   "execution_count": 1,
   "id": "7e679855",
   "metadata": {},
   "outputs": [],
   "source": [
    "class Cat:\n",
    "    def __init__(self, name, age):\n",
    "        self.name = name\n",
    "        self.age = age\n",
    "\n",
    "    def info(self):\n",
    "        print(f\"I am a cat. My name is {self.name}. I am {self.age} years old.\")\n",
    "\n",
    "    def make_sound(self):\n",
    "        print(\"Meow\")"
   ]
  },
  {
   "cell_type": "code",
   "execution_count": 2,
   "id": "2e055ba8",
   "metadata": {},
   "outputs": [],
   "source": [
    "class Dog:\n",
    "    def __init__(self, name, age):\n",
    "        self.name = name\n",
    "        self.age = age\n",
    "\n",
    "    def info(self):\n",
    "        print(f\"I am a dog. My name is {self.name}. I am {self.age} years old.\")\n",
    "\n",
    "    def make_sound(self):\n",
    "        print(\"Bark\")"
   ]
  },
  {
   "cell_type": "code",
   "execution_count": 4,
   "id": "cb8701ce",
   "metadata": {},
   "outputs": [
    {
     "name": "stdout",
     "output_type": "stream",
     "text": [
      "Meow\n",
      "I am a cat. My name is Dodo. I am 2.5 years old.\n",
      "Bark\n",
      "I am a dog. My name is Tyson. I am 8 years old.\n"
     ]
    }
   ],
   "source": [
    "cat1 = Cat(\"Dodo\", 2.5)\n",
    "dog1 = Dog(\"Tyson\", 8)\n",
    "\n",
    "for animal in (cat1, dog1):\n",
    "    animal.make_sound()\n",
    "    animal.info()"
   ]
  },
  {
   "cell_type": "code",
   "execution_count": 5,
   "id": "2a5d0020",
   "metadata": {},
   "outputs": [],
   "source": [
    "class Computer:\n",
    "\n",
    "    def __init__(self):\n",
    "        self.__maxprice = 900\n",
    "\n",
    "    def sell(self):\n",
    "        print(\"Selling Price: {}\".format(self.__maxprice))\n",
    "\n",
    "    def setMaxPrice(self, price):\n",
    "        self.__maxprice = price"
   ]
  },
  {
   "cell_type": "code",
   "execution_count": 6,
   "id": "87b5fc60",
   "metadata": {},
   "outputs": [
    {
     "name": "stdout",
     "output_type": "stream",
     "text": [
      "Selling Price: 900\n"
     ]
    }
   ],
   "source": [
    "c = Computer()\n",
    "c.sell()"
   ]
  },
  {
   "cell_type": "code",
   "execution_count": 7,
   "id": "f31830cb",
   "metadata": {},
   "outputs": [
    {
     "name": "stdout",
     "output_type": "stream",
     "text": [
      "Selling Price: 900\n"
     ]
    }
   ],
   "source": [
    "# change the price\n",
    "c.__maxprice = 1000\n",
    "c.sell()"
   ]
  },
  {
   "cell_type": "code",
   "execution_count": 8,
   "id": "177c056b",
   "metadata": {},
   "outputs": [
    {
     "name": "stdout",
     "output_type": "stream",
     "text": [
      "Selling Price: 1100\n"
     ]
    }
   ],
   "source": [
    "# using setter function\n",
    "c.setMaxPrice(1100)\n",
    "c.sell()"
   ]
  },
  {
   "cell_type": "code",
   "execution_count": 9,
   "id": "993c60a0",
   "metadata": {},
   "outputs": [],
   "source": [
    "class EncapsulatedObject:\n",
    "    def __init__(self):\n",
    "       self.public_var = \"I am accessible\"\n",
    "       self.__private_var = \"I am not easily accessible\"\n",
    "        \n",
    "    def public_method(self):\n",
    "       return \"This is a public method\"\n",
    "\n",
    "    def __private_method(self):\n",
    "       return \"This is a private method\"\n",
    "\n",
    "    def ShowPrivateVar(self):\n",
    "        print(self.__private_var)\n",
    "        \n",
    "    def SetPrivateVar(self, vin):\n",
    "        self.__private_var = vin\n",
    "    "
   ]
  },
  {
   "cell_type": "code",
   "execution_count": 10,
   "id": "cd94b9e1",
   "metadata": {},
   "outputs": [],
   "source": [
    "obj = EncapsulatedObject()"
   ]
  },
  {
   "cell_type": "code",
   "execution_count": 11,
   "id": "7d2f4204",
   "metadata": {},
   "outputs": [
    {
     "name": "stdout",
     "output_type": "stream",
     "text": [
      "I am accessible\n",
      "This is a public method\n"
     ]
    }
   ],
   "source": [
    "print(obj.public_var)  # Accessible\n",
    "print(obj.public_method())  # Accessible"
   ]
  },
  {
   "cell_type": "code",
   "execution_count": 12,
   "id": "b60d7f7e",
   "metadata": {},
   "outputs": [
    {
     "ename": "AttributeError",
     "evalue": "'EncapsulatedObject' object has no attribute '__private_var'",
     "output_type": "error",
     "traceback": [
      "\u001b[1;31m---------------------------------------------------------------------------\u001b[0m",
      "\u001b[1;31mAttributeError\u001b[0m                            Traceback (most recent call last)",
      "Cell \u001b[1;32mIn[12], line 1\u001b[0m\n\u001b[1;32m----> 1\u001b[0m \u001b[38;5;28mprint\u001b[39m(obj\u001b[38;5;241m.\u001b[39m__private_var)\n",
      "\u001b[1;31mAttributeError\u001b[0m: 'EncapsulatedObject' object has no attribute '__private_var'"
     ]
    }
   ],
   "source": [
    "print(obj.__private_var)  # This will raise an error"
   ]
  },
  {
   "cell_type": "code",
   "execution_count": 13,
   "id": "8bc95b3f",
   "metadata": {},
   "outputs": [
    {
     "ename": "AttributeError",
     "evalue": "'EncapsulatedObject' object has no attribute '__private_method'",
     "output_type": "error",
     "traceback": [
      "\u001b[1;31m---------------------------------------------------------------------------\u001b[0m",
      "\u001b[1;31mAttributeError\u001b[0m                            Traceback (most recent call last)",
      "Cell \u001b[1;32mIn[13], line 1\u001b[0m\n\u001b[1;32m----> 1\u001b[0m \u001b[38;5;28mprint\u001b[39m(obj\u001b[38;5;241m.\u001b[39m__private_method())\n",
      "\u001b[1;31mAttributeError\u001b[0m: 'EncapsulatedObject' object has no attribute '__private_method'"
     ]
    }
   ],
   "source": [
    "print(obj.__private_method())  # This will raise an error"
   ]
  },
  {
   "cell_type": "code",
   "execution_count": 14,
   "id": "11c7519b",
   "metadata": {},
   "outputs": [
    {
     "name": "stdout",
     "output_type": "stream",
     "text": [
      "I am not easily accessible\n"
     ]
    }
   ],
   "source": [
    "obj.ShowPrivateVar()"
   ]
  },
  {
   "cell_type": "code",
   "execution_count": 15,
   "id": "f8a56303",
   "metadata": {},
   "outputs": [],
   "source": [
    "obj.SetPrivateVar(\"Private var changed value\")"
   ]
  },
  {
   "cell_type": "code",
   "execution_count": 16,
   "id": "52b59abd",
   "metadata": {},
   "outputs": [
    {
     "name": "stdout",
     "output_type": "stream",
     "text": [
      "Private var changed value\n"
     ]
    }
   ],
   "source": [
    "obj.ShowPrivateVar()"
   ]
  },
  {
   "cell_type": "code",
   "execution_count": null,
   "id": "3fe77e33",
   "metadata": {},
   "outputs": [],
   "source": []
  }
 ],
 "metadata": {
  "kernelspec": {
   "display_name": "Python 3 (ipykernel)",
   "language": "python",
   "name": "python3"
  },
  "language_info": {
   "codemirror_mode": {
    "name": "ipython",
    "version": 3
   },
   "file_extension": ".py",
   "mimetype": "text/x-python",
   "name": "python",
   "nbconvert_exporter": "python",
   "pygments_lexer": "ipython3",
   "version": "3.11.7"
  }
 },
 "nbformat": 4,
 "nbformat_minor": 5
}
