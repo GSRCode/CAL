{
 "cells": [
  {
   "cell_type": "code",
   "execution_count": 1,
   "id": "bd4caab7",
   "metadata": {},
   "outputs": [
    {
     "name": "stdout",
     "output_type": "stream",
     "text": [
      "Hi I am a student of grade 10\n"
     ]
    }
   ],
   "source": [
    "class student:\n",
    "    grade = 10\n",
    "    print(\"Hi I am a student of grade\", grade)"
   ]
  },
  {
   "cell_type": "code",
   "execution_count": 2,
   "id": "d08f1c5d",
   "metadata": {},
   "outputs": [],
   "source": [
    "ob = student()"
   ]
  },
  {
   "cell_type": "code",
   "execution_count": 3,
   "id": "f88f19b6",
   "metadata": {},
   "outputs": [
    {
     "name": "stdout",
     "output_type": "stream",
     "text": [
      "<__main__.student object at 0x000002A71DC1B3D0>\n"
     ]
    }
   ],
   "source": [
    "print(ob)"
   ]
  },
  {
   "cell_type": "code",
   "execution_count": 4,
   "id": "15cea0b5",
   "metadata": {},
   "outputs": [],
   "source": [
    "class student2:\n",
    "    grade = 10\n",
    "    name = \"Penguin\"\n",
    "    \n",
    "    def introduction(self):\n",
    "        print(\"Hi I am a student\")\n",
    "        \n",
    "    def details(self):\n",
    "        print(\"My name is\", self.name)\n",
    "        print(\"I study in Grade\", self.grade)"
   ]
  },
  {
   "cell_type": "code",
   "execution_count": 5,
   "id": "92023a7b",
   "metadata": {},
   "outputs": [],
   "source": [
    "ob2 = student2()"
   ]
  },
  {
   "cell_type": "code",
   "execution_count": 6,
   "id": "da103c49",
   "metadata": {},
   "outputs": [
    {
     "name": "stdout",
     "output_type": "stream",
     "text": [
      "<__main__.student2 object at 0x000002A71DC1BE90>\n"
     ]
    }
   ],
   "source": [
    "print(ob2)"
   ]
  },
  {
   "cell_type": "code",
   "execution_count": 8,
   "id": "56466c5c",
   "metadata": {},
   "outputs": [
    {
     "name": "stdout",
     "output_type": "stream",
     "text": [
      "Hi I am a student\n"
     ]
    }
   ],
   "source": [
    "ob2.introduction()"
   ]
  },
  {
   "cell_type": "code",
   "execution_count": 9,
   "id": "af33c3d1",
   "metadata": {},
   "outputs": [
    {
     "name": "stdout",
     "output_type": "stream",
     "text": [
      "My name is Penguin\n",
      "I study in Grade 10\n"
     ]
    }
   ],
   "source": [
    "ob2.details()"
   ]
  },
  {
   "cell_type": "code",
   "execution_count": 10,
   "id": "d2eb7728",
   "metadata": {},
   "outputs": [],
   "source": [
    "class Parrot:\n",
    "\n",
    "    # class attribute\n",
    "    species = \"bird\"\n",
    "\n",
    "    # instance attribute\n",
    "    def __init__(self, nm, ag):\n",
    "        self.name = nm\n",
    "        self.age = ag"
   ]
  },
  {
   "cell_type": "code",
   "execution_count": 11,
   "id": "157b1635",
   "metadata": {},
   "outputs": [],
   "source": [
    "# instantiate the Parrot class\n",
    "blu = Parrot(\"Blu\", 10)\n",
    "woo = Parrot(\"Woo\", 15)"
   ]
  },
  {
   "cell_type": "code",
   "execution_count": 12,
   "id": "81ec0db7",
   "metadata": {},
   "outputs": [
    {
     "name": "stdout",
     "output_type": "stream",
     "text": [
      "Blu is a bird\n",
      "Woo is also a bird\n"
     ]
    }
   ],
   "source": [
    "# access the class attributes\n",
    "print(\"Blu is a {}\".format(blu.species))\n",
    "print(\"Woo is also a {}\".format(woo.species))"
   ]
  },
  {
   "cell_type": "code",
   "execution_count": 14,
   "id": "adca8300",
   "metadata": {},
   "outputs": [
    {
     "name": "stdout",
     "output_type": "stream",
     "text": [
      "Blu is 10 years old\n",
      "Woo is 15 years old\n"
     ]
    }
   ],
   "source": [
    "# access the instance attributes\n",
    "print(f'{blu.name} is {blu.age} years old')\n",
    "print(f'{woo.name} is {woo.age} years old')"
   ]
  },
  {
   "cell_type": "code",
   "execution_count": 15,
   "id": "caba446f",
   "metadata": {},
   "outputs": [],
   "source": [
    "class Parrot2:\n",
    "    \n",
    "    # instance attributes\n",
    "    def __init__(self, name, age):\n",
    "        self.name = name\n",
    "        self.age = age\n",
    "    \n",
    "    # instance method\n",
    "    def sing(self, song):\n",
    "        return \"{} sings {}\".format(self.name, song)\n",
    "\n",
    "    def dance(self):\n",
    "        return \"{} is now dancing\".format(self.name)"
   ]
  },
  {
   "cell_type": "code",
   "execution_count": 16,
   "id": "49f7200b",
   "metadata": {},
   "outputs": [],
   "source": [
    "# instantiate the object\n",
    "blu = Parrot2(\"Blu\", 10)"
   ]
  },
  {
   "cell_type": "code",
   "execution_count": 17,
   "id": "f0d19205",
   "metadata": {},
   "outputs": [
    {
     "name": "stdout",
     "output_type": "stream",
     "text": [
      "Blu sings 'Happy'\n"
     ]
    }
   ],
   "source": [
    "# call our instance methods\n",
    "print(blu.sing(\"'Happy'\"))"
   ]
  },
  {
   "cell_type": "code",
   "execution_count": 18,
   "id": "24960c35",
   "metadata": {},
   "outputs": [
    {
     "name": "stdout",
     "output_type": "stream",
     "text": [
      "Blu is now dancing\n"
     ]
    }
   ],
   "source": [
    "print(blu.dance())"
   ]
  },
  {
   "cell_type": "code",
   "execution_count": null,
   "id": "c2ac0ba7",
   "metadata": {},
   "outputs": [],
   "source": []
  }
 ],
 "metadata": {
  "kernelspec": {
   "display_name": "Python 3 (ipykernel)",
   "language": "python",
   "name": "python3"
  },
  "language_info": {
   "codemirror_mode": {
    "name": "ipython",
    "version": 3
   },
   "file_extension": ".py",
   "mimetype": "text/x-python",
   "name": "python",
   "nbconvert_exporter": "python",
   "pygments_lexer": "ipython3",
   "version": "3.11.7"
  }
 },
 "nbformat": 4,
 "nbformat_minor": 5
}
