{
 "cells": [
  {
   "cell_type": "code",
   "execution_count": null,
   "id": "6a64ad39",
   "metadata": {},
   "outputs": [],
   "source": [
    "#!pip3 install pygame #run this if pygame is not yet installed"
   ]
  },
  {
   "cell_type": "code",
   "execution_count": null,
   "id": "09af06e3",
   "metadata": {},
   "outputs": [],
   "source": [
    "import pygame\n",
    "import sys"
   ]
  },
  {
   "cell_type": "code",
   "execution_count": null,
   "id": "02b582fe",
   "metadata": {},
   "outputs": [],
   "source": [
    "# Initialize Pygame\n",
    "pygame.init()"
   ]
  },
  {
   "cell_type": "code",
   "execution_count": null,
   "id": "ba3acca3",
   "metadata": {},
   "outputs": [],
   "source": [
    "# Screen settings\n",
    "screen = pygame.display.set_mode((800, 600))\n",
    "pygame.display.set_caption('Simple Robot Simulation')"
   ]
  },
  {
   "cell_type": "code",
   "execution_count": null,
   "id": "265e94fd",
   "metadata": {},
   "outputs": [],
   "source": [
    "# Colors\n",
    "WHITE = (255, 255, 255)\n",
    "RED = (255, 0, 0)"
   ]
  },
  {
   "cell_type": "code",
   "execution_count": null,
   "id": "76a0e275",
   "metadata": {},
   "outputs": [],
   "source": [
    "# Robot settings\n",
    "robot_pos = [400, 300]\n",
    "robot_size = 50\n",
    "robot_speed = 5"
   ]
  },
  {
   "cell_type": "code",
   "execution_count": null,
   "id": "9153d5fa",
   "metadata": {},
   "outputs": [],
   "source": [
    "running = True\n",
    "while running:\n",
    "    for event in pygame.event.get():\n",
    "        if event.type == pygame.QUIT:\n",
    "            pygame.quit()\n",
    "            sys.exit()\n",
    "\n",
    "    keys = pygame.key.get_pressed()\n",
    "    if keys[pygame.K_LEFT]:\n",
    "        robot_pos[0] -= robot_speed\n",
    "    if keys[pygame.K_RIGHT]:\n",
    "        robot_pos[0] += robot_speed\n",
    "    if keys[pygame.K_UP]:\n",
    "        robot_pos[1] -= robot_speed\n",
    "    if keys[pygame.K_DOWN]:\n",
    "        robot_pos[1] += robot_speed\n",
    "\n",
    "    # Clear screen\n",
    "    screen.fill(WHITE)\n",
    "\n",
    "    # Draw robot (a simple rectangle)\n",
    "    pygame.draw.rect(screen, RED, (*robot_pos, robot_size, robot_size))\n",
    "\n",
    "    # Update display\n",
    "    pygame.display.flip()\n",
    "\n",
    "    # Cap the frame rate\n",
    "    pygame.time.Clock().tick(30)"
   ]
  },
  {
   "cell_type": "code",
   "execution_count": null,
   "id": "8ae0e19d",
   "metadata": {},
   "outputs": [],
   "source": []
  }
 ],
 "metadata": {
  "kernelspec": {
   "display_name": "Python 3 (ipykernel)",
   "language": "python",
   "name": "python3"
  },
  "language_info": {
   "codemirror_mode": {
    "name": "ipython",
    "version": 3
   },
   "file_extension": ".py",
   "mimetype": "text/x-python",
   "name": "python",
   "nbconvert_exporter": "python",
   "pygments_lexer": "ipython3",
   "version": "3.11.7"
  }
 },
 "nbformat": 4,
 "nbformat_minor": 5
}
