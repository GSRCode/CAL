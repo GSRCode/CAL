{
 "cells": [
  {
   "cell_type": "code",
   "execution_count": 1,
   "id": "c1928755",
   "metadata": {},
   "outputs": [
    {
     "name": "stdout",
     "output_type": "stream",
     "text": [
      "num1 & num2 are: 10 4\n",
      "num1 | num2 are: 14\n",
      "num1 ^ num2 are: 14\n",
      "num1 << num2 are: 160\n",
      "num1 >> num2 are: 0\n",
      "~num1 are: -11\n",
      "~num2 are: -5\n"
     ]
    }
   ],
   "source": [
    "num1 = 10 #1010 in binary\n",
    "num2 = 4  #0100 in binary\n",
    "print(\"num1 & num2 are:\", num1, num2)\n",
    "print(\"num1 | num2 are:\", num1 | num2)\n",
    "print(\"num1 ^ num2 are:\", num1 ^ num2)\n",
    "print(\"num1 << num2 are:\", num1 << num2)\n",
    "print(\"num1 >> num2 are:\", num1 >> num2)\n",
    "print(\"~num1 are:\", ~num1)\n",
    "print(\"~num2 are:\", ~num2)"
   ]
  },
  {
   "cell_type": "code",
   "execution_count": 2,
   "id": "f751edb2",
   "metadata": {},
   "outputs": [],
   "source": [
    "def isEvenOdd(n):\n",
    "  if(n ^ 1 == n + 1 ):\n",
    "    return True;\n",
    "  else:\n",
    "    return False;"
   ]
  },
  {
   "cell_type": "code",
   "execution_count": 4,
   "id": "aba0546b",
   "metadata": {},
   "outputs": [
    {
     "name": "stdout",
     "output_type": "stream",
     "text": [
      "Enter your number: 93\n",
      "93 is odd\n"
     ]
    }
   ],
   "source": [
    "number = int(input(\"Enter your number: \"))\n",
    "if isEvenOdd(number):\n",
    "  print(number, \"is even\")\n",
    "\n",
    "else:\n",
    "  print(number, \"is odd\")"
   ]
  },
  {
   "cell_type": "code",
   "execution_count": 5,
   "id": "fb40e1c9",
   "metadata": {},
   "outputs": [],
   "source": [
    "def numberOfBits(n):\n",
    "    count = 0\n",
    "    while (n):\n",
    "        count += 1\n",
    "        n >>= 1\n",
    "    return count"
   ]
  },
  {
   "cell_type": "code",
   "execution_count": 9,
   "id": "1e60801c",
   "metadata": {},
   "outputs": [
    {
     "name": "stdout",
     "output_type": "stream",
     "text": [
      "Enter a number: 16\n",
      "Number of bits:  5\n"
     ]
    }
   ],
   "source": [
    "n = int(input(\"Enter a number: \"))\n",
    "print(\"Number of bits: \", numberOfBits(n))"
   ]
  },
  {
   "cell_type": "code",
   "execution_count": 10,
   "id": "9de0124f",
   "metadata": {},
   "outputs": [
    {
     "name": "stdout",
     "output_type": "stream",
     "text": [
      "q =  0\n"
     ]
    }
   ],
   "source": [
    "# Program to solve the circuit given\n",
    "\n",
    "# Initialize variables with default values\n",
    "a=1\n",
    "b=0\n",
    "c=0\n",
    "\n",
    "# Computing all bitwise operations\n",
    "aANDb = a & b\n",
    "bXORc = b ^ c\n",
    "bORc = b | c\n",
    "g = bXORc & bORc\n",
    "\n",
    "# Calculating final result\n",
    "final = aANDb ^ g\n",
    "\n",
    "# Printing final result\n",
    "print(\"q = \",final)"
   ]
  },
  {
   "cell_type": "code",
   "execution_count": null,
   "id": "914ec281",
   "metadata": {},
   "outputs": [],
   "source": []
  }
 ],
 "metadata": {
  "kernelspec": {
   "display_name": "Python 3 (ipykernel)",
   "language": "python",
   "name": "python3"
  },
  "language_info": {
   "codemirror_mode": {
    "name": "ipython",
    "version": 3
   },
   "file_extension": ".py",
   "mimetype": "text/x-python",
   "name": "python",
   "nbconvert_exporter": "python",
   "pygments_lexer": "ipython3",
   "version": "3.11.7"
  }
 },
 "nbformat": 4,
 "nbformat_minor": 5
}
