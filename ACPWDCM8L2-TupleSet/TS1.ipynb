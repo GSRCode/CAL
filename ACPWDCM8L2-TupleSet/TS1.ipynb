{
 "cells": [
  {
   "cell_type": "code",
   "execution_count": 1,
   "id": "9e6cbaa5",
   "metadata": {},
   "outputs": [
    {
     "name": "stdout",
     "output_type": "stream",
     "text": [
      "()\n"
     ]
    }
   ],
   "source": [
    "# Empty tuple\n",
    "my_tuple = ()\n",
    "print(my_tuple)"
   ]
  },
  {
   "cell_type": "code",
   "execution_count": 2,
   "id": "9451a58e",
   "metadata": {},
   "outputs": [
    {
     "name": "stdout",
     "output_type": "stream",
     "text": [
      "(1, 2, 3)\n"
     ]
    }
   ],
   "source": [
    "# Tuple having integers\n",
    "my_tuple = (1, 2, 3)\n",
    "print(my_tuple)"
   ]
  },
  {
   "cell_type": "code",
   "execution_count": 3,
   "id": "dbf7c329",
   "metadata": {},
   "outputs": [
    {
     "name": "stdout",
     "output_type": "stream",
     "text": [
      "(1, 'Hello', 3.4)\n"
     ]
    }
   ],
   "source": [
    "# tuple with mixed datatypes\n",
    "my_tuple = (1, \"Hello\", 3.4)\n",
    "print(my_tuple)"
   ]
  },
  {
   "cell_type": "code",
   "execution_count": 4,
   "id": "7db3905c",
   "metadata": {},
   "outputs": [
    {
     "name": "stdout",
     "output_type": "stream",
     "text": [
      "('mouse', [8, 4, 6], (1, 2, 3))\n"
     ]
    }
   ],
   "source": [
    "# nested tuple\n",
    "my_tuple = (\"mouse\", [8, 4, 6], (1, 2, 3))\n",
    "print(my_tuple)"
   ]
  },
  {
   "cell_type": "code",
   "execution_count": 5,
   "id": "2ac48f11",
   "metadata": {},
   "outputs": [
    {
     "name": "stdout",
     "output_type": "stream",
     "text": [
      "p\n",
      "t\n"
     ]
    }
   ],
   "source": [
    "# Accessing tuple elements using indexing\n",
    "my_tuple = ('p','e','r','m','i','t')\n",
    "print(my_tuple[0])   \n",
    "print(my_tuple[5])   "
   ]
  },
  {
   "cell_type": "code",
   "execution_count": 6,
   "id": "1116927c",
   "metadata": {},
   "outputs": [],
   "source": [
    "# nested tuple\n",
    "n_tuple = (\"mouse\", [8, 4, 6], (1, 2, 3))"
   ]
  },
  {
   "cell_type": "code",
   "execution_count": 7,
   "id": "4a2e7196",
   "metadata": {},
   "outputs": [
    {
     "name": "stdout",
     "output_type": "stream",
     "text": [
      "s\n",
      "4\n"
     ]
    }
   ],
   "source": [
    "# nested index\n",
    "print(n_tuple[0][3])       \n",
    "print(n_tuple[1][1])  "
   ]
  },
  {
   "cell_type": "code",
   "execution_count": 8,
   "id": "b5cef310",
   "metadata": {},
   "outputs": [
    {
     "name": "stdout",
     "output_type": "stream",
     "text": [
      "Sliced : ('e', 'r', 'm')\n"
     ]
    }
   ],
   "source": [
    "# Slicing\n",
    "print(\"Sliced :\", my_tuple[1:4])"
   ]
  },
  {
   "cell_type": "code",
   "execution_count": 9,
   "id": "43ad7840",
   "metadata": {},
   "outputs": [
    {
     "name": "stdout",
     "output_type": "stream",
     "text": [
      "Hello p\n",
      "Hello e\n",
      "Hello r\n",
      "Hello m\n",
      "Hello i\n",
      "Hello t\n"
     ]
    }
   ],
   "source": [
    "# Iterating through tuple\n",
    "for letter in (my_tuple):\n",
    "    print(\"Hello\", letter)"
   ]
  },
  {
   "cell_type": "code",
   "execution_count": 10,
   "id": "35a3ccde",
   "metadata": {},
   "outputs": [
    {
     "name": "stdout",
     "output_type": "stream",
     "text": [
      "Set : {1, 2, 3, 4}\n"
     ]
    }
   ],
   "source": [
    "my_set = {1,2,2,3,4,4,4}\n",
    "print(\"Set :\", my_set)"
   ]
  },
  {
   "cell_type": "code",
   "execution_count": 11,
   "id": "2ecd334b",
   "metadata": {},
   "outputs": [
    {
     "name": "stdout",
     "output_type": "stream",
     "text": [
      "Updated Set: {1, 2, 3, 4, 5}\n"
     ]
    }
   ],
   "source": [
    "my_set.add(5)\n",
    "print(\"Updated Set:\", my_set)"
   ]
  },
  {
   "cell_type": "code",
   "execution_count": 12,
   "id": "74aff64b",
   "metadata": {},
   "outputs": [],
   "source": [
    "set1 = my_set\n",
    "set2 = {2,4,4,6}"
   ]
  },
  {
   "cell_type": "code",
   "execution_count": 13,
   "id": "f9365491",
   "metadata": {},
   "outputs": [
    {
     "name": "stdout",
     "output_type": "stream",
     "text": [
      "\n",
      "Set 1 {1, 2, 3, 4, 5}\n",
      "Set 2 {2, 4, 6}\n",
      "Difference\n",
      "{1, 3, 5}\n",
      "Symmeteric Difference\n",
      "{1, 3, 5, 6}\n"
     ]
    }
   ],
   "source": [
    "print(\"\\nSet 1\", set1)\n",
    "print(\"Set 2\", set2)\n",
    "print(\"Difference\")\n",
    "print(set1.difference(set2))\n",
    "print(\"Symmeteric Difference\")\n",
    "print(set1.symmetric_difference(set2))"
   ]
  },
  {
   "cell_type": "code",
   "execution_count": 14,
   "id": "e01ba4f1",
   "metadata": {},
   "outputs": [
    {
     "name": "stdout",
     "output_type": "stream",
     "text": [
      "Original sets:\n",
      "{'green', 'blue'}\n",
      "{'yellow', 'blue'}\n"
     ]
    }
   ],
   "source": [
    "setc1 = {\"green\", \"blue\"}\n",
    "setc2 = {\"blue\", \"yellow\"}\n",
    "print(\"Original sets:\")\n",
    "print(setc1)\n",
    "print(setc2)"
   ]
  },
  {
   "cell_type": "code",
   "execution_count": 15,
   "id": "cd9e5d89",
   "metadata": {},
   "outputs": [
    {
     "name": "stdout",
     "output_type": "stream",
     "text": [
      "\n",
      "Union of above sets:\n",
      "{'yellow', 'green', 'blue'}\n"
     ]
    }
   ],
   "source": [
    "setc = setc1.union(setc2)\n",
    "print(\"\\nUnion of above sets:\")\n",
    "print(setc)"
   ]
  },
  {
   "cell_type": "code",
   "execution_count": 16,
   "id": "af02adb3",
   "metadata": {},
   "outputs": [
    {
     "name": "stdout",
     "output_type": "stream",
     "text": [
      "{2, 4}\n"
     ]
    }
   ],
   "source": [
    "setz = set1.intersection(set2)\n",
    "print(setz)"
   ]
  },
  {
   "cell_type": "code",
   "execution_count": 17,
   "id": "40a7f7c4",
   "metadata": {},
   "outputs": [],
   "source": [
    "# Define a tuple\n",
    "GFG_tuple = (1, 2, 3)"
   ]
  },
  {
   "cell_type": "code",
   "execution_count": 18,
   "id": "fa3a2da7",
   "metadata": {},
   "outputs": [
    {
     "name": "stdout",
     "output_type": "stream",
     "text": [
      "[1, 2, 3]\n"
     ]
    }
   ],
   "source": [
    "# Convert the tuple to a list\n",
    "GFG_list = list(GFG_tuple)\n",
    "print(GFG_list)"
   ]
  },
  {
   "cell_type": "code",
   "execution_count": null,
   "id": "5c8f2fa0",
   "metadata": {},
   "outputs": [],
   "source": []
  }
 ],
 "metadata": {
  "kernelspec": {
   "display_name": "Python 3 (ipykernel)",
   "language": "python",
   "name": "python3"
  },
  "language_info": {
   "codemirror_mode": {
    "name": "ipython",
    "version": 3
   },
   "file_extension": ".py",
   "mimetype": "text/x-python",
   "name": "python",
   "nbconvert_exporter": "python",
   "pygments_lexer": "ipython3",
   "version": "3.11.7"
  }
 },
 "nbformat": 4,
 "nbformat_minor": 5
}
