{
 "cells": [
  {
   "cell_type": "code",
   "execution_count": 1,
   "id": "e85f62bf",
   "metadata": {},
   "outputs": [],
   "source": [
    "# open file and store file object in a variable\n",
    "file = open('Codingal.txt')"
   ]
  },
  {
   "cell_type": "code",
   "execution_count": 2,
   "id": "0a606e62",
   "metadata": {},
   "outputs": [
    {
     "name": "stdout",
     "output_type": "stream",
     "text": [
      "Codingal is on a mission to inspire school kids to fall in love with coding. \n",
      "Coding helps develop logical thinking and problem-solving skills. \n",
      "Coding jobs are the future. \n",
      "They already constitute more than 60% of all the jobs in Science, Technology, Engineering, and Math. \n",
      "While still in school, those who start young will be ahead of everyone by the time they get into college. \n",
      "They will be creators of the future.\n",
      "Do you want to join us too?\n"
     ]
    }
   ],
   "source": [
    "# read the contents of file\n",
    "print(file.read())"
   ]
  },
  {
   "cell_type": "code",
   "execution_count": 3,
   "id": "98876cc2",
   "metadata": {},
   "outputs": [],
   "source": [
    "# close the file\n",
    "file.close()"
   ]
  },
  {
   "cell_type": "code",
   "execution_count": 4,
   "id": "28963085",
   "metadata": {},
   "outputs": [
    {
     "name": "stdout",
     "output_type": "stream",
     "text": [
      "File in Read Mode -\n",
      "Codingal is on a mission to inspire school kids to fall in love with coding. \n",
      "Coding helps develop logical thinking and problem-solving skills. \n",
      "Coding jobs are the future. \n",
      "They already constitute more than 60% of all the jobs in Science, Technology, Engineering, and Math. \n",
      "While still in school, those who start young will be ahead of everyone by the time they get into college. \n",
      "They will be creators of the future.\n",
      "Do you want to join us too?\n"
     ]
    }
   ],
   "source": [
    "# open the file in read mode\n",
    "file_read = open('Codingal.txt','r')\n",
    "print(\"File in Read Mode -\")\n",
    "print(file_read.read())\n",
    "file_read.close()"
   ]
  },
  {
   "cell_type": "code",
   "execution_count": 5,
   "id": "3be080eb",
   "metadata": {},
   "outputs": [],
   "source": [
    "# open the file in write mode\n",
    "file_write = open('Codingal2.txt', 'w')\n",
    "# write in the file \n",
    "file_write.write(\" File in write mode ....\")\n",
    "file_write.write(\"Hi! I am Penguin. I am 1 yr. old \")\n",
    "file_write.close()"
   ]
  },
  {
   "cell_type": "code",
   "execution_count": 6,
   "id": "62b1d9da",
   "metadata": {},
   "outputs": [],
   "source": [
    "# open the file in append mode\n",
    "file_append = open('Codingal3.txt', 'a')\n",
    "# append in the file \n",
    "file_append.write(\"\\n File in append mode ....\")\n",
    "file_append.write(\"Hi! I am Penguin. I am 1 yr. old\")\n",
    "file_append.close()"
   ]
  },
  {
   "cell_type": "code",
   "execution_count": 7,
   "id": "f1862a0b",
   "metadata": {},
   "outputs": [],
   "source": [
    "# open the file in append mode\n",
    "file_append = open('Codingal3.txt', 'a')\n",
    "# append in the file \n",
    "file_append.write(\"\\n adding more lines - 1\")\n",
    "file_append.write(\"\\n adding more lines - 2\")\n",
    "file_append.close()"
   ]
  },
  {
   "cell_type": "code",
   "execution_count": 8,
   "id": "eac38e1a",
   "metadata": {},
   "outputs": [
    {
     "name": "stdout",
     "output_type": "stream",
     "text": [
      "0\n",
      "Codingal is on a mission to inspire school kids to fall in love with coding. \n",
      "1\n",
      "Coding helps develop logical thinking and problem-solving skills. \n",
      "2\n",
      "Coding jobs are the future. \n",
      "3\n",
      "They already constitute more than 60% of all the jobs in Science, Technology, Engineering, and Math. \n",
      "4\n",
      "While still in school, those who start young will be ahead of everyone by the time they get into college. \n",
      "5\n",
      "They will be creators of the future.\n",
      "6\n",
      "Do you want to join us too?\n",
      "This is the number of lines in the file\n",
      "7\n"
     ]
    }
   ],
   "source": [
    "# Program to count number of lines in this file\n",
    "# Opening a file\n",
    "file = open(\"Codingal.txt\",\"r\")\n",
    "\n",
    "# Reading from file\n",
    "Content = file.read()\n",
    "# splitting content into lines\n",
    "# and storing them in a list\n",
    "CoList = Content.split(\"\\n\")\n",
    "\n",
    "Counter = 0\n",
    "for i in CoList:\n",
    "    print(Counter)\n",
    "    print(i)\n",
    "    if i:\n",
    "        Counter += 1\n",
    "\n",
    "print(\"This is the number of lines in the file\")\n",
    "print(Counter)"
   ]
  },
  {
   "cell_type": "code",
   "execution_count": null,
   "id": "61233179",
   "metadata": {},
   "outputs": [],
   "source": []
  }
 ],
 "metadata": {
  "kernelspec": {
   "display_name": "Python 3 (ipykernel)",
   "language": "python",
   "name": "python3"
  },
  "language_info": {
   "codemirror_mode": {
    "name": "ipython",
    "version": 3
   },
   "file_extension": ".py",
   "mimetype": "text/x-python",
   "name": "python",
   "nbconvert_exporter": "python",
   "pygments_lexer": "ipython3",
   "version": "3.11.7"
  }
 },
 "nbformat": 4,
 "nbformat_minor": 5
}
