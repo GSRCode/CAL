{
 "cells": [
  {
   "cell_type": "code",
   "execution_count": 1,
   "id": "8fdf953d",
   "metadata": {},
   "outputs": [
    {
     "name": "stdout",
     "output_type": "stream",
     "text": [
      "Enter the name of first file Codingal.txt\n",
      "Enter the name of second file Codingal3.txt\n"
     ]
    }
   ],
   "source": [
    "# entering the file names\n",
    "firstfile = input(\"Enter the name of first file \")\n",
    "secondfile = input(\"Enter the name of second file \")"
   ]
  },
  {
   "cell_type": "code",
   "execution_count": 2,
   "id": "612256ef",
   "metadata": {},
   "outputs": [],
   "source": [
    "# opening both files in read only mode to read initial contents\n",
    "f1 = open(firstfile, 'r')\n",
    "f2 = open(secondfile, 'r')"
   ]
  },
  {
   "cell_type": "code",
   "execution_count": 3,
   "id": "2bcb8337",
   "metadata": {},
   "outputs": [
    {
     "name": "stdout",
     "output_type": "stream",
     "text": [
      "content of first file before appending -\n",
      " Codingal is on a mission to inspire school kids to fall in love with coding. \n",
      "Coding helps develop logical thinking and problem-solving skills. \n",
      "Coding jobs are the future. \n",
      "They already constitute more than 60% of all the jobs in Science, Technology, Engineering, and Math. \n",
      "While still in school, those who start young will be ahead of everyone by the time they get into college. \n",
      "They will be creators of the future.\n",
      "Do you want to join us too?\n",
      "content of second file before appending - \n",
      " \n",
      " File in append mode ....Hi! I am Penguin. I am 1 yr. old\n",
      " adding more lines - 1\n",
      " adding more lines - 2\n"
     ]
    }
   ],
   "source": [
    "# printing the contens of the file before appending\n",
    "print('content of first file before appending -\\n', f1.read())\n",
    "print('content of second file before appending - \\n', f2.read())\n",
    "\n",
    "# closing the files\n",
    "f1.close()\n",
    "f2.close()"
   ]
  },
  {
   "cell_type": "code",
   "execution_count": 4,
   "id": "bc88473a",
   "metadata": {},
   "outputs": [
    {
     "name": "stdout",
     "output_type": "stream",
     "text": [
      "content of first file after appending - \n",
      " Codingal is on a mission to inspire school kids to fall in love with coding. \n",
      "Coding helps develop logical thinking and problem-solving skills. \n",
      "Coding jobs are the future. \n",
      "They already constitute more than 60% of all the jobs in Science, Technology, Engineering, and Math. \n",
      "While still in school, those who start young will be ahead of everyone by the time they get into college. \n",
      "They will be creators of the future.\n",
      "Do you want to join us too?\n",
      "content of second file after appending - \n",
      " \n",
      " File in append mode ....Hi! I am Penguin. I am 1 yr. old\n",
      " adding more lines - 1\n",
      " adding more lines - 2Codingal is on a mission to inspire school kids to fall in love with coding. \n",
      "Coding helps develop logical thinking and problem-solving skills. \n",
      "Coding jobs are the future. \n",
      "They already constitute more than 60% of all the jobs in Science, Technology, Engineering, and Math. \n",
      "While still in school, those who start young will be ahead of everyone by the time they get into college. \n",
      "They will be creators of the future.\n",
      "Do you want to join us too?\n"
     ]
    }
   ],
   "source": [
    "# opening first file in append mode and second file in read mode\n",
    "f2 = open(secondfile, 'a+')\n",
    "f1 = open(firstfile, 'r')\n",
    "\n",
    "# appending the contents of the second file to the first file\n",
    "f2.write(f1.read())\n",
    "\n",
    "# relocating the cursor of the files at the beginning\n",
    "f1.seek(0)\n",
    "f2.seek(0)\n",
    "\n",
    "# printing the contents of the files after appendng\n",
    "print('content of first file after appending - \\n', f1.read())\n",
    "print('content of second file after appending - \\n', f2.read())\n",
    "\n",
    "# closing the files\n",
    "f1.close()\n",
    "f2.close()"
   ]
  },
  {
   "cell_type": "code",
   "execution_count": 6,
   "id": "d068fdb6",
   "metadata": {},
   "outputs": [
    {
     "name": "stdout",
     "output_type": "stream",
     "text": [
      "File in Read Mode -\n",
      "\n"
     ]
    }
   ],
   "source": [
    "# open the file in read mode\n",
    "file_read = open('Sample_File.txt','r')\n",
    "print(\"File in Read Mode -\")\n",
    "print(file_read.read())\n",
    "file_read.close()"
   ]
  },
  {
   "cell_type": "code",
   "execution_count": 7,
   "id": "68dc3dcc",
   "metadata": {},
   "outputs": [],
   "source": [
    "# open the file in write mode\n",
    "file_write = open('Sample_File.txt', 'w')\n",
    "# write in the file \n",
    "file_write.write(\" File in write mode ....\")\n",
    "file_write.write(\"Hi! I am Penguin. I am a class 8 student from Pune\")\n",
    "file_write.close()"
   ]
  },
  {
   "cell_type": "code",
   "execution_count": 8,
   "id": "a41de12c",
   "metadata": {},
   "outputs": [],
   "source": [
    "# open the file in append mode\n",
    "file_append = open('Sample_File.txt', 'a')\n",
    "# append in the file \n",
    "file_append.write(\"\\n File in append mode ....\")\n",
    "file_append.write(\"Hi! My favourite subject is Mathematics\")\n",
    "file_append.close()"
   ]
  },
  {
   "cell_type": "code",
   "execution_count": 9,
   "id": "e2c698ca",
   "metadata": {},
   "outputs": [
    {
     "name": "stdout",
     "output_type": "stream",
     "text": [
      "File in Read Mode -\n",
      " File in write mode ....Hi! I am Penguin. I am a class 8 student from Pune\n",
      " File in append mode ....Hi! My favourite subject is Mathematics\n"
     ]
    }
   ],
   "source": [
    "file_read = open('Sample_File.txt','r')\n",
    "print(\"File in Read Mode -\")\n",
    "print(file_read.read())\n",
    "file_read.close()"
   ]
  },
  {
   "cell_type": "code",
   "execution_count": null,
   "id": "da7e7db3",
   "metadata": {},
   "outputs": [],
   "source": []
  }
 ],
 "metadata": {
  "kernelspec": {
   "display_name": "Python 3 (ipykernel)",
   "language": "python",
   "name": "python3"
  },
  "language_info": {
   "codemirror_mode": {
    "name": "ipython",
    "version": 3
   },
   "file_extension": ".py",
   "mimetype": "text/x-python",
   "name": "python",
   "nbconvert_exporter": "python",
   "pygments_lexer": "ipython3",
   "version": "3.11.7"
  }
 },
 "nbformat": 4,
 "nbformat_minor": 5
}
