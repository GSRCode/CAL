{
 "cells": [
  {
   "cell_type": "code",
   "execution_count": 1,
   "id": "8fdf953d",
   "metadata": {},
   "outputs": [
    {
     "name": "stdout",
     "output_type": "stream",
     "text": [
      "Enter the name of first file 1.txt\n",
      "Enter the name of second file 2.txt\n"
     ]
    }
   ],
   "source": [
    "# entering the file names\n",
    "firstfile = input(\"Enter the name of first file \")\n",
    "secondfile = input(\"Enter the name of second file \")"
   ]
  },
  {
   "cell_type": "code",
   "execution_count": 2,
   "id": "612256ef",
   "metadata": {},
   "outputs": [],
   "source": [
    "# opening both files in read only mode to read initial contents\n",
    "f1 = open(firstfile, 'r')\n",
    "f2 = open(secondfile, 'r')"
   ]
  },
  {
   "cell_type": "code",
   "execution_count": 3,
   "id": "2bcb8337",
   "metadata": {},
   "outputs": [
    {
     "name": "stdout",
     "output_type": "stream",
     "text": [
      "content of first file before appending -\n",
      " a-1\n",
      "b-2\n",
      "c-3\n",
      "content of second file before appending - \n",
      " d-4\n",
      "e-5\n",
      "f-6\n",
      "g-7\n"
     ]
    }
   ],
   "source": [
    "# printing the contens of the file before appending\n",
    "print('content of first file before appending -\\n', f1.read())\n",
    "print('content of second file before appending - \\n', f2.read())\n",
    "\n",
    "# closing the files\n",
    "f1.close()\n",
    "f2.close()"
   ]
  },
  {
   "cell_type": "code",
   "execution_count": 4,
   "id": "bc88473a",
   "metadata": {},
   "outputs": [
    {
     "name": "stdout",
     "output_type": "stream",
     "text": [
      "content of first file after appending - \n",
      " a-1\n",
      "b-2\n",
      "c-3\n",
      "content of second file after appending - \n",
      " d-4\n",
      "e-5\n",
      "f-6\n",
      "g-7a-1\n",
      "b-2\n",
      "c-3\n"
     ]
    }
   ],
   "source": [
    "# opening first file in append mode and second file in read mode\n",
    "f2 = open(secondfile, 'a+')\n",
    "f1 = open(firstfile, 'r')\n",
    "\n",
    "# appending the contents of the second file to the first file\n",
    "f2.write(f1.read())\n",
    "\n",
    "# relocating the cursor of the files at the beginning\n",
    "f1.seek(0)\n",
    "f2.seek(0)\n",
    "\n",
    "# printing the contents of the files after appendng\n",
    "print('content of first file after appending - \\n', f1.read())\n",
    "print('content of second file after appending - \\n', f2.read())\n",
    "\n",
    "# closing the files\n",
    "f1.close()\n",
    "f2.close()"
   ]
  },
  {
   "cell_type": "code",
   "execution_count": 6,
   "id": "d068fdb6",
   "metadata": {},
   "outputs": [
    {
     "name": "stdout",
     "output_type": "stream",
     "text": [
      "File in Read Mode -\n",
      "line1 = aaaa\n",
      "line2 - bbb\n",
      "line3 -cc\n"
     ]
    }
   ],
   "source": [
    "# open the file in read mode\n",
    "file_read = open('Sample_File.txt','r')\n",
    "print(\"File in Read Mode -\")\n",
    "print(file_read.read())\n",
    "file_read.close()"
   ]
  },
  {
   "cell_type": "code",
   "execution_count": 7,
   "id": "68dc3dcc",
   "metadata": {},
   "outputs": [],
   "source": [
    "# open the file in write mode\n",
    "file_write = open('Sample_File.txt', 'w')\n",
    "# write in the file \n",
    "file_write.write(\" File in write mode ....\")\n",
    "file_write.write(\"Hi! I am Penguin. I am a class 8 student from Pune\")\n",
    "file_write.close()"
   ]
  },
  {
   "cell_type": "code",
   "execution_count": 8,
   "id": "a41de12c",
   "metadata": {},
   "outputs": [],
   "source": [
    "# open the file in append mode\n",
    "file_append = open('Sample_File.txt', 'a')\n",
    "# append in the file \n",
    "file_append.write(\"\\n File in append mode ....\")\n",
    "file_append.write(\"Hi! My favourite subject is Mathematics\")\n",
    "file_append.close()"
   ]
  },
  {
   "cell_type": "code",
   "execution_count": 9,
   "id": "e2c698ca",
   "metadata": {},
   "outputs": [
    {
     "name": "stdout",
     "output_type": "stream",
     "text": [
      "File in Read Mode -\n",
      " File in write mode ....Hi! I am Penguin. I am a class 8 student from Pune\n",
      " File in append mode ....Hi! My favourite subject is Mathematics\n"
     ]
    }
   ],
   "source": [
    "file_read = open('Sample_File.txt','r')\n",
    "print(\"File in Read Mode -\")\n",
    "print(file_read.read())\n",
    "file_read.close()"
   ]
  },
  {
   "cell_type": "code",
   "execution_count": null,
   "id": "da7e7db3",
   "metadata": {},
   "outputs": [],
   "source": []
  }
 ],
 "metadata": {
  "kernelspec": {
   "display_name": "Python 3 (ipykernel)",
   "language": "python",
   "name": "python3"
  },
  "language_info": {
   "codemirror_mode": {
    "name": "ipython",
    "version": 3
   },
   "file_extension": ".py",
   "mimetype": "text/x-python",
   "name": "python",
   "nbconvert_exporter": "python",
   "pygments_lexer": "ipython3",
   "version": "3.11.7"
  }
 },
 "nbformat": 4,
 "nbformat_minor": 5
}
