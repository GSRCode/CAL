{
 "cells": [
  {
   "cell_type": "code",
   "execution_count": 1,
   "id": "98b35ced",
   "metadata": {},
   "outputs": [],
   "source": [
    "def OnTime(n):\n",
    "    iteration=0\n",
    "    for i in range(1,n+1):\n",
    "        iteration+=1\n",
    "    print(\"When n is \",n,\" Iterations = \",iteration)"
   ]
  },
  {
   "cell_type": "code",
   "execution_count": 2,
   "id": "b1aea981",
   "metadata": {},
   "outputs": [
    {
     "name": "stdout",
     "output_type": "stream",
     "text": [
      "When n is  10  Iterations =  10\n",
      "When n is  20  Iterations =  20\n",
      "When n is  42  Iterations =  42\n",
      "\n",
      "With every 'n' the time taken and iterations will increase linearly\n"
     ]
    }
   ],
   "source": [
    "OnTime(10)\n",
    "OnTime(20)\n",
    "OnTime(42)\n",
    "\n",
    "print(\"\\nWith every 'n' the time taken and iterations will increase linearly\")"
   ]
  },
  {
   "cell_type": "code",
   "execution_count": 3,
   "id": "f0440525",
   "metadata": {},
   "outputs": [],
   "source": [
    "def test(n):\n",
    "    iteration = 0\n",
    "    for i in range(0,n):\n",
    "        for j in range(0,n):\n",
    "            print(\"*\",end=\"\")\n",
    "            iteration+=1\n",
    "        print(\"\")\n",
    "    print(\"\\nwhen n is\",n,\"iteration =\",iteration)"
   ]
  },
  {
   "cell_type": "code",
   "execution_count": 4,
   "id": "8e29d77b",
   "metadata": {},
   "outputs": [
    {
     "name": "stdout",
     "output_type": "stream",
     "text": [
      "*****\n",
      "*****\n",
      "*****\n",
      "*****\n",
      "*****\n",
      "\n",
      "when n is 5 iteration = 25\n",
      "****\n",
      "****\n",
      "****\n",
      "****\n",
      "\n",
      "when n is 4 iteration = 16\n",
      "***\n",
      "***\n",
      "***\n",
      "\n",
      "when n is 3 iteration = 9\n",
      "\n",
      " with every 'n' the taken = n^2\n",
      "(n^2)\n"
     ]
    }
   ],
   "source": [
    "test(5)\n",
    "test(4)\n",
    "test(3)\n",
    "\n",
    "print(\"\\n with every 'n' the taken = n^2\")\n",
    "print(\"(n^2)\")"
   ]
  },
  {
   "cell_type": "code",
   "execution_count": 5,
   "id": "3286e7ea",
   "metadata": {},
   "outputs": [],
   "source": [
    "def myfunction(n):\n",
    "    # Loop 1  \n",
    "    for i in range(0,n+1):\n",
    "        print(\"First Loop\")\n",
    "        \n",
    "    # Loop 2\n",
    "    j=1\n",
    "    while(j<=n+1):\n",
    "        print(\"Second Loop \",j)\n",
    "        j=j*2\n",
    "        \n",
    "    # Loop 3\n",
    "    for i in range(0,100):\n",
    "        print(\"Third loop\")"
   ]
  },
  {
   "cell_type": "code",
   "execution_count": 6,
   "id": "dd3c1ba7",
   "metadata": {},
   "outputs": [
    {
     "name": "stdout",
     "output_type": "stream",
     "text": [
      "Function above will take time :\n",
      " O(N) +  O(log N) + O(1)\n"
     ]
    }
   ],
   "source": [
    "print(\"Function above will take time :\")\n",
    "print(\" O(N) +  O(log N) + O(1)\")"
   ]
  },
  {
   "cell_type": "code",
   "execution_count": 7,
   "id": "4feacbd1",
   "metadata": {},
   "outputs": [
    {
     "name": "stdout",
     "output_type": "stream",
     "text": [
      "First Loop\n",
      "First Loop\n",
      "First Loop\n",
      "First Loop\n",
      "First Loop\n",
      "First Loop\n",
      "First Loop\n",
      "First Loop\n",
      "First Loop\n",
      "First Loop\n",
      "First Loop\n",
      "Second Loop  1\n",
      "Second Loop  2\n",
      "Second Loop  4\n",
      "Second Loop  8\n",
      "Third loop\n",
      "Third loop\n",
      "Third loop\n",
      "Third loop\n",
      "Third loop\n",
      "Third loop\n",
      "Third loop\n",
      "Third loop\n",
      "Third loop\n",
      "Third loop\n",
      "Third loop\n",
      "Third loop\n",
      "Third loop\n",
      "Third loop\n",
      "Third loop\n",
      "Third loop\n",
      "Third loop\n",
      "Third loop\n",
      "Third loop\n",
      "Third loop\n",
      "Third loop\n",
      "Third loop\n",
      "Third loop\n",
      "Third loop\n",
      "Third loop\n",
      "Third loop\n",
      "Third loop\n",
      "Third loop\n",
      "Third loop\n",
      "Third loop\n",
      "Third loop\n",
      "Third loop\n",
      "Third loop\n",
      "Third loop\n",
      "Third loop\n",
      "Third loop\n",
      "Third loop\n",
      "Third loop\n",
      "Third loop\n",
      "Third loop\n",
      "Third loop\n",
      "Third loop\n",
      "Third loop\n",
      "Third loop\n",
      "Third loop\n",
      "Third loop\n",
      "Third loop\n",
      "Third loop\n",
      "Third loop\n",
      "Third loop\n",
      "Third loop\n",
      "Third loop\n",
      "Third loop\n",
      "Third loop\n",
      "Third loop\n",
      "Third loop\n",
      "Third loop\n",
      "Third loop\n",
      "Third loop\n",
      "Third loop\n",
      "Third loop\n",
      "Third loop\n",
      "Third loop\n",
      "Third loop\n",
      "Third loop\n",
      "Third loop\n",
      "Third loop\n",
      "Third loop\n",
      "Third loop\n",
      "Third loop\n",
      "Third loop\n",
      "Third loop\n",
      "Third loop\n",
      "Third loop\n",
      "Third loop\n",
      "Third loop\n",
      "Third loop\n",
      "Third loop\n",
      "Third loop\n",
      "Third loop\n",
      "Third loop\n",
      "Third loop\n",
      "Third loop\n",
      "Third loop\n",
      "Third loop\n",
      "Third loop\n",
      "Third loop\n",
      "Third loop\n",
      "Third loop\n",
      "Third loop\n",
      "Third loop\n",
      "Third loop\n",
      "Third loop\n",
      "Third loop\n",
      "Third loop\n",
      "Third loop\n",
      "Third loop\n",
      "Third loop\n",
      "Third loop\n",
      "Third loop\n"
     ]
    }
   ],
   "source": [
    "myfunction(10)"
   ]
  },
  {
   "cell_type": "code",
   "execution_count": null,
   "id": "e2ee4d9c",
   "metadata": {},
   "outputs": [],
   "source": []
  }
 ],
 "metadata": {
  "kernelspec": {
   "display_name": "Python 3 (ipykernel)",
   "language": "python",
   "name": "python3"
  },
  "language_info": {
   "codemirror_mode": {
    "name": "ipython",
    "version": 3
   },
   "file_extension": ".py",
   "mimetype": "text/x-python",
   "name": "python",
   "nbconvert_exporter": "python",
   "pygments_lexer": "ipython3",
   "version": "3.11.7"
  }
 },
 "nbformat": 4,
 "nbformat_minor": 5
}
