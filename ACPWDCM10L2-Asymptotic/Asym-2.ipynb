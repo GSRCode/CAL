{
 "cells": [
  {
   "cell_type": "code",
   "execution_count": 7,
   "id": "db3199cf",
   "metadata": {},
   "outputs": [],
   "source": [
    "def myfunction1(n):\n",
    "    print(n)\n",
    "    if(n<=0):\n",
    "        return\n",
    "    for i in range (0,n):\n",
    "        print(\"Codingal\")\n",
    "    myfunction1(n//2)\n",
    "    myfunction1(n//3)"
   ]
  },
  {
   "cell_type": "code",
   "execution_count": 10,
   "id": "9741e7f6",
   "metadata": {},
   "outputs": [],
   "source": [
    "# Funciton 2\n",
    "def myfunction2(n):\n",
    "    if(n<=0):\n",
    "        return\n",
    "    print(\"Codingal\")\n",
    "    myfunction2(n-1)\n",
    "\n"
   ]
  },
  {
   "cell_type": "code",
   "execution_count": 3,
   "id": "a6378b28",
   "metadata": {},
   "outputs": [
    {
     "name": "stdout",
     "output_type": "stream",
     "text": [
      "For first funciton : \n",
      "T(n) = T(n/2) + T(n/3) + N\n",
      "\n",
      "For second funciton : \n",
      "T(n) = T(n-1) + 1\n"
     ]
    }
   ],
   "source": [
    "# Printing the recurrence relations\n",
    "print(\"For first funciton : \")\n",
    "print(\"T(n) = T(n/2) + T(n/3) + N\")\n",
    "\n",
    "print(\"\\nFor second funciton : \")\n",
    "print(\"T(n) = T(n-1) + 1\")"
   ]
  },
  {
   "cell_type": "code",
   "execution_count": 8,
   "id": "2f8c623f",
   "metadata": {},
   "outputs": [
    {
     "name": "stdout",
     "output_type": "stream",
     "text": [
      "10\n",
      "Codingal\n",
      "Codingal\n",
      "Codingal\n",
      "Codingal\n",
      "Codingal\n",
      "Codingal\n",
      "Codingal\n",
      "Codingal\n",
      "Codingal\n",
      "Codingal\n",
      "5\n",
      "Codingal\n",
      "Codingal\n",
      "Codingal\n",
      "Codingal\n",
      "Codingal\n",
      "2\n",
      "Codingal\n",
      "Codingal\n",
      "1\n",
      "Codingal\n",
      "0\n",
      "0\n",
      "0\n",
      "1\n",
      "Codingal\n",
      "0\n",
      "0\n",
      "3\n",
      "Codingal\n",
      "Codingal\n",
      "Codingal\n",
      "1\n",
      "Codingal\n",
      "0\n",
      "0\n",
      "1\n",
      "Codingal\n",
      "0\n",
      "0\n"
     ]
    }
   ],
   "source": [
    "myfunction1(10)"
   ]
  },
  {
   "cell_type": "code",
   "execution_count": 11,
   "id": "00f69410",
   "metadata": {},
   "outputs": [
    {
     "name": "stdout",
     "output_type": "stream",
     "text": [
      "Codingal\n",
      "Codingal\n",
      "Codingal\n",
      "Codingal\n",
      "Codingal\n",
      "Codingal\n",
      "Codingal\n",
      "Codingal\n",
      "Codingal\n",
      "Codingal\n"
     ]
    }
   ],
   "source": [
    "myfunction2(10)"
   ]
  },
  {
   "cell_type": "code",
   "execution_count": null,
   "id": "df6210a4",
   "metadata": {},
   "outputs": [],
   "source": []
  }
 ],
 "metadata": {
  "kernelspec": {
   "display_name": "Python 3 (ipykernel)",
   "language": "python",
   "name": "python3"
  },
  "language_info": {
   "codemirror_mode": {
    "name": "ipython",
    "version": 3
   },
   "file_extension": ".py",
   "mimetype": "text/x-python",
   "name": "python",
   "nbconvert_exporter": "python",
   "pygments_lexer": "ipython3",
   "version": "3.11.7"
  }
 },
 "nbformat": 4,
 "nbformat_minor": 5
}
