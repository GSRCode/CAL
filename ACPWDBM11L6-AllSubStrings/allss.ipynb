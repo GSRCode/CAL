{
 "cells": [
  {
   "cell_type": "code",
   "execution_count": 1,
   "id": "7d10e234",
   "metadata": {},
   "outputs": [],
   "source": [
    "def flips(num1,num2):\n",
    "    flip = 0\n",
    "    while (num1 > 0 or num2 > 0):\n",
    "        t1 = num1 & 1\n",
    "        t2 = num2 & 1\n",
    "        \n",
    "        if t1 != t2:\n",
    "            flip += 1\n",
    "            \n",
    "        num1 >>= 1\n",
    "        num2 >>= 1\n",
    "    return flip"
   ]
  },
  {
   "cell_type": "code",
   "execution_count": 3,
   "id": "cf741550",
   "metadata": {},
   "outputs": [
    {
     "name": "stdout",
     "output_type": "stream",
     "text": [
      "Enter first number: 15\n",
      "Enter second number: 16\n",
      "Number of flips needed:  5\n"
     ]
    }
   ],
   "source": [
    "num1 = int(input(\"Enter first number: \"))\n",
    "num2 = int(input(\"Enter second number: \"))\n",
    "print(\"Number of flips needed: \", flips(num1, num2))"
   ]
  },
  {
   "cell_type": "markdown",
   "id": "d1b450f4",
   "metadata": {},
   "source": [
    "Power set is a curious name for a simple concept. We talk about the power set “of\" another set, which is the set of all subsets of that other set. Example: suppose A = { Dad, Lizzy }. Then the power set of A, which is written as “P(A)\" is: { { Dad, Lizzy }, { Dad }, { Lizzy }, ∅ }."
   ]
  },
  {
   "cell_type": "code",
   "execution_count": 4,
   "id": "29f1f6e6",
   "metadata": {},
   "outputs": [],
   "source": [
    "import math;\n",
    "\n",
    "def printPowerSet(set,set_size):\n",
    "    # Find total elements possible in the power set\n",
    "    pow_set_size = (int) (math.pow(2, set_size));\n",
    "    counter = 0;\n",
    "    j = 0;\n",
    "    \n",
    "    for counter in range(0, pow_set_size):\n",
    "        for j in range(0, set_size):\n",
    "            # Check if jth bit in the counter is set If set then print jth element from set\n",
    "            if((counter & (1 << j)) > 0):\n",
    "                print(set[j], end = \"\");\n",
    "                \n",
    "        print(\"\");"
   ]
  },
  {
   "cell_type": "code",
   "execution_count": 6,
   "id": "866fd023",
   "metadata": {},
   "outputs": [
    {
     "name": "stdout",
     "output_type": "stream",
     "text": [
      "Enter string : abc\n",
      "\n",
      "a\n",
      "b\n",
      "ab\n",
      "c\n",
      "ac\n",
      "bc\n",
      "abc\n"
     ]
    }
   ],
   "source": [
    "str = input(\"Enter string : \")\n",
    "printPowerSet(str, len(str));"
   ]
  },
  {
   "cell_type": "code",
   "execution_count": null,
   "id": "f0141461",
   "metadata": {},
   "outputs": [],
   "source": []
  }
 ],
 "metadata": {
  "kernelspec": {
   "display_name": "Python 3 (ipykernel)",
   "language": "python",
   "name": "python3"
  },
  "language_info": {
   "codemirror_mode": {
    "name": "ipython",
    "version": 3
   },
   "file_extension": ".py",
   "mimetype": "text/x-python",
   "name": "python",
   "nbconvert_exporter": "python",
   "pygments_lexer": "ipython3",
   "version": "3.11.7"
  }
 },
 "nbformat": 4,
 "nbformat_minor": 5
}
