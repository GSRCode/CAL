{
 "cells": [
  {
   "cell_type": "code",
   "execution_count": 1,
   "id": "cec49e62",
   "metadata": {},
   "outputs": [],
   "source": [
    "def find_prob(a,b):\n",
    "    \n",
    "    if a==1:\n",
    "        prob_a = 0.2\n",
    "        if b==1:\n",
    "            prob_bga = 0.85\n",
    "        elif b==2:\n",
    "            prob_bga = 0.15\n",
    "        prob_a_and_b = prob_a * prob_bga\n",
    "        print(\"Proability of b given a:\", prob_bga)\n",
    "        print(\"Probability of both the events occuring:\", prob_a_and_b)\n",
    "        \n",
    "    elif a==2:\n",
    "        prob_a = 0.8\n",
    "        if b==1:\n",
    "            prob_bga = 0.02\n",
    "        elif b==2:\n",
    "            prob_bga = 0.98\n",
    "        prob_a_and_b = prob_a * prob_bga\n",
    "        print(\"Proability of b given a:\", prob_bga)\n",
    "        print(\"Probability of both the events occuring:\", prob_a_and_b)\n",
    "\n",
    "    else:\n",
    "        print(\"Invalid Choice\")"
   ]
  },
  {
   "cell_type": "code",
   "execution_count": 2,
   "id": "2e600002",
   "metadata": {},
   "outputs": [
    {
     "name": "stdout",
     "output_type": "stream",
     "text": [
      "Let's calculate probability. Please enter choices for the events...\n",
      "Person has step throat? \n",
      " 1. Yes \n",
      " 2. No\n",
      "Enter your choice (1/2): 1\n",
      "Person has tested positive? \n",
      " 1. Yes \n",
      " 2. No\n",
      "Enter your choice (1/2): 2\n",
      "Probabilities for event a and b:\n",
      "Proability of b given a: 0.15\n",
      "Probability of both the events occuring: 0.03\n"
     ]
    }
   ],
   "source": [
    "print(\"Let's calculate probability. Please enter choices for the events...\")\n",
    "\n",
    "print(\"Person has step throat? \\n 1. Yes \\n 2. No\")\n",
    "a = int(input(\"Enter your choice (1/2): \"))\n",
    "\n",
    "print(\"Person has tested positive? \\n 1. Yes \\n 2. No\")\n",
    "b = int(input(\"Enter your choice (1/2): \"))\n",
    "\n",
    "print(\"Probabilities for event a and b:\")\n",
    "find_prob(a,b)"
   ]
  },
  {
   "cell_type": "code",
   "execution_count": 3,
   "id": "603b8f25",
   "metadata": {},
   "outputs": [
    {
     "name": "stdout",
     "output_type": "stream",
     "text": [
      "Probability of person testing positive having step throat is : 0.914\n"
     ]
    }
   ],
   "source": [
    "prob_st = 0.2\n",
    "\n",
    "prob_test_pos_case_st = 0.2*0.85\n",
    "prob_test_pos_case_nst = 0.8*0.02\n",
    "prob_test_positive = prob_test_pos_case_st + prob_test_pos_case_nst \n",
    "\n",
    "prob_test_pos_given_st = 0.85\n",
    "\n",
    "prob_having_st_if_test_pos = (prob_st*prob_test_pos_given_st)/prob_test_positive\n",
    "\n",
    "print(\"Probability of person testing positive having step throat is :\", round((prob_having_st_if_test_pos),3))"
   ]
  },
  {
   "cell_type": "code",
   "execution_count": null,
   "id": "751f07ab",
   "metadata": {},
   "outputs": [],
   "source": []
  }
 ],
 "metadata": {
  "kernelspec": {
   "display_name": "Python 3 (ipykernel)",
   "language": "python",
   "name": "python3"
  },
  "language_info": {
   "codemirror_mode": {
    "name": "ipython",
    "version": 3
   },
   "file_extension": ".py",
   "mimetype": "text/x-python",
   "name": "python",
   "nbconvert_exporter": "python",
   "pygments_lexer": "ipython3",
   "version": "3.11.7"
  }
 },
 "nbformat": 4,
 "nbformat_minor": 5
}
