{
 "cells": [
  {
   "cell_type": "code",
   "execution_count": 1,
   "id": "ad1b44a8",
   "metadata": {},
   "outputs": [],
   "source": [
    "def  checkIfSame(number1,number2):\n",
    "  if((number1 ^ number2)!= 0):\n",
    "    print(\"numbers are not equal\")\n",
    "\n",
    "  else:\n",
    "    print(\"both numbers are equal\")"
   ]
  },
  {
   "cell_type": "code",
   "execution_count": 2,
   "id": "9aa779ee",
   "metadata": {},
   "outputs": [
    {
     "name": "stdout",
     "output_type": "stream",
     "text": [
      "Enter first number to compare5\n",
      "Enter second number to compare5\n",
      "both numbers are equal\n"
     ]
    }
   ],
   "source": [
    "number1 = int(input(\"Enter first number to compare\"))\n",
    "number2 = int(input(\"Enter second number to compare\"))\n",
    "checkIfSame(number1,number2)"
   ]
  },
  {
   "cell_type": "markdown",
   "id": "f25d424a",
   "metadata": {},
   "source": [
    "Given an array of positive integers. All numbers occur an even number of times except one number which occurs an odd number of times. Find the number in O(n) time & constant space. Ex - Input : arr = {1, 2, 3, 2, 3, 1, 3} Output : 3"
   ]
  },
  {
   "cell_type": "code",
   "execution_count": 7,
   "id": "279c6c63",
   "metadata": {},
   "outputs": [],
   "source": [
    "def OddOccuring(arr):\n",
    "  res = 0\n",
    "  for element in arr:\n",
    "    res = res ^ element\n",
    "  return res"
   ]
  },
  {
   "cell_type": "code",
   "execution_count": 8,
   "id": "f38382f8",
   "metadata": {},
   "outputs": [
    {
     "name": "stdout",
     "output_type": "stream",
     "text": [
      "Enter array size:7\n",
      "Enter number:5\n",
      "Enter number:2\n",
      "Enter number:7\n",
      "Enter number:7\n",
      "Enter number:5\n",
      "Enter number:2\n",
      "Enter number:5\n",
      "OddOccuring number is 5\n"
     ]
    }
   ],
   "source": [
    "arr = []\n",
    "n = int(input(\"Enter array size:\"))\n",
    "while(n):\n",
    "  num = int(input(\"Enter number:\"))\n",
    "  arr.append(num)\n",
    "  n-=1\n",
    "\n",
    "print(\"OddOccuring number is\",OddOccuring(arr))"
   ]
  },
  {
   "cell_type": "markdown",
   "id": "16e69d03",
   "metadata": {},
   "source": [
    "Given an unsorted array, Arr[] of size N and that contains even number of occurrences for all numbers except two numbers. Find the two numbers in decreasing order which has odd occurrences."
   ]
  },
  {
   "cell_type": "markdown",
   "id": "116e40a5",
   "metadata": {},
   "source": [
    "Example-\n",
    "Input:\n",
    "N = 8\n",
    "Arr = {4, 2, 4, 5, 2, 3, 3, 1}\n",
    "Output: {5, 1} \n",
    "Explanation: 5 and 1 have odd occurrences."
   ]
  },
  {
   "cell_type": "code",
   "execution_count": 10,
   "id": "4e195d58",
   "metadata": {},
   "outputs": [],
   "source": [
    "def TwoOdd(arr, size):\n",
    "  xorof2 = arr[0]\n",
    "  x = 0\n",
    "  y = 0\n",
    "  SetBit = 0\n",
    "  for i in range(1,size):\n",
    "    xorof2 = xorof2 ^ arr[i]\n",
    "  SetBit = xorof2 & ~(xorof2-1)\n",
    "  for i in range(size):\n",
    "    if(arr[i]& SetBit):\n",
    "      x = x ^ arr[i]\n",
    "    else:\n",
    "      y = y ^ arr[i]\n",
    "\n",
    "  print(\"TwoOdd elements are\",x,\"&\",y)"
   ]
  },
  {
   "cell_type": "code",
   "execution_count": 12,
   "id": "b515d3fc",
   "metadata": {},
   "outputs": [
    {
     "name": "stdout",
     "output_type": "stream",
     "text": [
      "Enter the size of the array8\n",
      "Enter element4\n",
      "Enter element2\n",
      "Enter element4\n",
      "Enter element5\n",
      "Enter element2\n",
      "Enter element3\n",
      "Enter element3\n",
      "Enter element1\n",
      "TwoOdd elements are 5 & 1\n"
     ]
    }
   ],
   "source": [
    "arr = []\n",
    "arr_size = int(input(\"Enter the size of the array\"))\n",
    "for i in range(0,arr_size):\n",
    "  z = int(input(\"Enter element\"))\n",
    "  arr.append(z)\n",
    "\n",
    "TwoOdd(arr, arr_size)"
   ]
  },
  {
   "cell_type": "code",
   "execution_count": 13,
   "id": "c120668e",
   "metadata": {},
   "outputs": [],
   "source": [
    "def reverseBits(number) :\n",
    "    # Below variable will hold the reversed bit number \n",
    "    reversed = 0\n",
    "     \n",
    "    # While number is not 0\n",
    "    while (number > 0) :\n",
    "         \n",
    "        # Shift reversed number to left\n",
    "        reversed = reversed << 1\n",
    "         \n",
    "        # Check if last bit is 0 or 1\n",
    "        # If 1 add it using OR operator else leave \n",
    "        if (number & 1 == 1) :\n",
    "            reversed = reversed ^ 1\n",
    "         \n",
    "        # Right shift the orignal number\n",
    "        number = number >> 1\n",
    "         \n",
    "    return reversed"
   ]
  },
  {
   "cell_type": "code",
   "execution_count": 16,
   "id": "0af8dffa",
   "metadata": {},
   "outputs": [
    {
     "name": "stdout",
     "output_type": "stream",
     "text": [
      "Enter your number : 17\n",
      "Number with reversed bits :  17\n"
     ]
    }
   ],
   "source": [
    "number = int(input(\"Enter your number : \"))\n",
    "print(\"Number with reversed bits : \",reverseBits(number))"
   ]
  },
  {
   "cell_type": "code",
   "execution_count": null,
   "id": "3a45021b",
   "metadata": {},
   "outputs": [],
   "source": []
  }
 ],
 "metadata": {
  "kernelspec": {
   "display_name": "Python 3 (ipykernel)",
   "language": "python",
   "name": "python3"
  },
  "language_info": {
   "codemirror_mode": {
    "name": "ipython",
    "version": 3
   },
   "file_extension": ".py",
   "mimetype": "text/x-python",
   "name": "python",
   "nbconvert_exporter": "python",
   "pygments_lexer": "ipython3",
   "version": "3.11.7"
  }
 },
 "nbformat": 4,
 "nbformat_minor": 5
}
