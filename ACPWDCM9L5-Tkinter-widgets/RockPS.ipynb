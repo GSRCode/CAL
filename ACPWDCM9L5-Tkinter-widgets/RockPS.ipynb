{
 "cells": [
  {
   "cell_type": "code",
   "execution_count": 1,
   "id": "7e5c9373",
   "metadata": {},
   "outputs": [],
   "source": [
    "import random\n",
    "import os\n",
    "import re"
   ]
  },
  {
   "cell_type": "code",
   "execution_count": 2,
   "id": "1bb6c3af",
   "metadata": {},
   "outputs": [
    {
     "data": {
      "text/plain": [
       "0"
      ]
     },
     "execution_count": 2,
     "metadata": {},
     "output_type": "execute_result"
    }
   ],
   "source": [
    "os.system('cls' if os.name=='nt' else 'clear')"
   ]
  },
  {
   "cell_type": "code",
   "execution_count": 3,
   "id": "d4fb754f",
   "metadata": {},
   "outputs": [
    {
     "name": "stdout",
     "output_type": "stream",
     "text": [
      "\n",
      "\n",
      "Rock, Paper, Scissors - Shoot!\n",
      "Choose your weapon [R]ock], [P]aper, or [S]cissors or [Q]uit: S\n",
      "You chose: S\n",
      "I chose: P\n",
      "You win!\n",
      "\n",
      "\n",
      "Rock, Paper, Scissors - Shoot!\n",
      "Choose your weapon [R]ock], [P]aper, or [S]cissors or [Q]uit: S\n",
      "You chose: S\n",
      "I chose: S\n",
      "Tie! \n",
      "\n",
      "\n",
      "Rock, Paper, Scissors - Shoot!\n",
      "Choose your weapon [R]ock], [P]aper, or [S]cissors or [Q]uit: q\n"
     ]
    }
   ],
   "source": [
    "while True:\n",
    "    print('\\n')\n",
    "    print(\"Rock, Paper, Scissors - Shoot!\")\n",
    "    userChoice = input(\"Choose your weapon [R]ock], [P]aper, or [S]cissors or [Q]uit: \")\n",
    "    if not re.match(\"[SsRrPpQq]\", userChoice):\n",
    "        print(\"Please choose a letter:\")\n",
    "        print(\"[R]ock, [S]cissors or [P]aper.\")\n",
    "        continue\n",
    "    if userChoice.upper() == 'Q':\n",
    "        break\n",
    "    # Echo the user's choice\n",
    "    print(\"You chose: \" + userChoice)\n",
    "    choices = ['R', 'P', 'S']\n",
    "    opponenetChoice = random.choice(choices)\n",
    "    print(\"I chose: \" + opponenetChoice)\n",
    "    if opponenetChoice == str.upper(userChoice):\n",
    "        print(\"Tie! \")\n",
    "    #if opponenetChoice == str(\"R\") and str.upper(userChoice) == \"P\"\n",
    "    elif opponenetChoice == 'R' and userChoice.upper() == 'S':      \n",
    "        print(\"Scissors beats rock, I win! \")\n",
    "        continue\n",
    "    elif opponenetChoice == 'S' and userChoice.upper() == 'P':      \n",
    "        print(\"Scissors beats paper! I win! \")\n",
    "        continue\n",
    "    elif opponenetChoice == 'P' and userChoice.upper() == 'R':      \n",
    "        print(\"Paper beat rock, I win! \")\n",
    "        continue\n",
    "    else:       \n",
    "        print(\"You win!\")"
   ]
  },
  {
   "cell_type": "code",
   "execution_count": null,
   "id": "2313e2ba",
   "metadata": {},
   "outputs": [],
   "source": []
  }
 ],
 "metadata": {
  "kernelspec": {
   "display_name": "Python 3 (ipykernel)",
   "language": "python",
   "name": "python3"
  },
  "language_info": {
   "codemirror_mode": {
    "name": "ipython",
    "version": 3
   },
   "file_extension": ".py",
   "mimetype": "text/x-python",
   "name": "python",
   "nbconvert_exporter": "python",
   "pygments_lexer": "ipython3",
   "version": "3.11.7"
  }
 },
 "nbformat": 4,
 "nbformat_minor": 5
}
