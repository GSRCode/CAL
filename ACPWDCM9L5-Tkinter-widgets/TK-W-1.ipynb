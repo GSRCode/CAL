{
 "cells": [
  {
   "cell_type": "code",
   "execution_count": 1,
   "id": "bd117398",
   "metadata": {},
   "outputs": [],
   "source": [
    "from tkinter import *\n",
    "from PIL import Image, ImageTk"
   ]
  },
  {
   "cell_type": "code",
   "execution_count": 2,
   "id": "25488880",
   "metadata": {},
   "outputs": [],
   "source": [
    "# Create a window with a title bar and set its geometry as well\n",
    "root = Tk()\n",
    "root.title('image')\n",
    "root.geometry('400x400')\n",
    "\n",
    "# Now use Image.open to open and identify the given image file. \n",
    "upload = Image.open(\"img.jpeg\")\n",
    "\n",
    "# Convert this Image to Tkinter compatible image\n",
    "image = ImageTk.PhotoImage(upload)\n",
    "\n",
    "# Add image to Tkinter Label\n",
    "label = Label(root, image=image, height=350, width=300)\n",
    "label.place(x=50, y=0)\n",
    "label2 = Label(root, text=\"This is how you add image in Tkinter Window\")\n",
    "label2.place(x=40, y=360)\n",
    "\n",
    "# Run the application\n",
    "root.mainloop()"
   ]
  },
  {
   "cell_type": "code",
   "execution_count": 4,
   "id": "9f14f262",
   "metadata": {},
   "outputs": [],
   "source": [
    "from tkinter import messagebox"
   ]
  },
  {
   "cell_type": "code",
   "execution_count": 5,
   "id": "b460d58a",
   "metadata": {},
   "outputs": [],
   "source": [
    "root = Tk()\n",
    "root.geometry(\"200x200\")\n",
    "\n",
    "# Function for Displaying Warning Message\n",
    "# This will be called once the button is clicked\n",
    "# messagebox.showwarning(\"Window Name\", \"Text to be displayed\")\n",
    "def msg():\n",
    "    messagebox.showwarning(\"Alert\", \"Stop! Virus Found.\")\n",
    "\n",
    "# Adding Button Widget to Window\n",
    "button = Button(root, text=\"Scan for Virus\", command=msg)\n",
    "button.place(x=40, y=80)\n",
    "\n",
    "# Entering main event loop\n",
    "root.mainloop()"
   ]
  },
  {
   "cell_type": "code",
   "execution_count": 7,
   "id": "c3d01bea",
   "metadata": {},
   "outputs": [],
   "source": [
    "# Function to open New (Top Level) Window\n",
    "def topwin():\n",
    "    # Setting up Top Window\n",
    "    top = Toplevel()\n",
    "    top.geometry(\"180x100\")\n",
    "    top.title(\"toplevel\")\n",
    "    # Adding a label widget to Top Window\n",
    "    l2 = Label(top, text = \"This is toplevel window\")\n",
    "    l2.pack()\n",
    "    \n",
    "    top.mainloop()\n"
   ]
  },
  {
   "cell_type": "code",
   "execution_count": 9,
   "id": "fb562204",
   "metadata": {},
   "outputs": [],
   "source": [
    "# Setting up Main Window\n",
    "root = Tk()\n",
    "root.geometry(\"400x300\")\n",
    "root.title(\"main\")\n",
    "\n",
    "\n",
    "# Adding a label and button Widget to Root (Main) Window\n",
    "l = Label(root, text = \"This is root window\")\n",
    "btn = Button(root, text = \"Click here to open another window\", command = topwin)\n",
    "\n",
    "# Arranging widgets\n",
    "l.pack()\n",
    "btn.pack()\n",
    "\n",
    "root.mainloop()"
   ]
  },
  {
   "cell_type": "code",
   "execution_count": null,
   "id": "ae7d186f",
   "metadata": {},
   "outputs": [],
   "source": []
  }
 ],
 "metadata": {
  "kernelspec": {
   "display_name": "Python 3 (ipykernel)",
   "language": "python",
   "name": "python3"
  },
  "language_info": {
   "codemirror_mode": {
    "name": "ipython",
    "version": 3
   },
   "file_extension": ".py",
   "mimetype": "text/x-python",
   "name": "python",
   "nbconvert_exporter": "python",
   "pygments_lexer": "ipython3",
   "version": "3.11.7"
  }
 },
 "nbformat": 4,
 "nbformat_minor": 5
}
