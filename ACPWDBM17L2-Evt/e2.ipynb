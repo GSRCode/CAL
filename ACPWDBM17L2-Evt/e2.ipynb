{
 "cells": [
  {
   "cell_type": "code",
   "execution_count": 1,
   "id": "5e7189b1",
   "metadata": {},
   "outputs": [],
   "source": [
    "import random"
   ]
  },
  {
   "cell_type": "code",
   "execution_count": 2,
   "id": "0b1106be",
   "metadata": {},
   "outputs": [],
   "source": [
    "Dependence= \"We pick out two cards from a standard deck of 52 cards without replacement. Event A is that we pick an Ace on the first draw. Event B is that we pick an Ace on the second draw.\"\n",
    "#it is dependent \n",
    "\n",
    "mutually_exclusive= \"Suppose we flip a coin ten times. Event A is that we flip all heads on the first five flips. Event B is that we flip all heads on the second five flips.\" \n",
    "\n",
    "#mutually exclusive\n",
    "\n",
    "notmutuallyexclusive= \"We roll a dice once. Event A is rolling an odd number. Event B is rolling a number greater than four.\"\n",
    "\n",
    "#notmutuallyexclusive\n",
    "\n",
    "indipendent = \"We have a bag of five marbles: three are green and two are blue. Suppose that we pick one marble from the bag. Event A is that the marble is green. Event B is that the marble is blue.\"\n",
    "#not dependence\n",
    "\n",
    "event_lst = [Dependence, mutually_exclusive,notmutuallyexclusive,indipendent]"
   ]
  },
  {
   "cell_type": "code",
   "execution_count": 3,
   "id": "86d6f81f",
   "metadata": {},
   "outputs": [],
   "source": [
    "def guess_the_type(event):\n",
    "  \n",
    "    print(\n",
    "        \"Guess whether this is a \\n 1)dependent \\n 2)independent \\n 3)mutually exclusive \\n 4)not mutually exclusive event \\n\"\n",
    "    )\n",
    "    print(event)\n",
    "    answer = int(input(\"Enter your answer : \"))\n",
    "    if event == Dependence:\n",
    "        if answer == 1:\n",
    "            print(\"\\n You guessed it right! \\n \\n \\n\")\n",
    "            return 'correct'\n",
    "        else:\n",
    "            print(\"\\n Your answer is wrong... \\n \\n \\n\")\n",
    "            return 'wrong'\n",
    "    if event == mutually_exclusive:\n",
    "        if answer == 3:\n",
    "            print(\"\\n You guessed it right! \\n \\n \\n\")\n",
    "            return 'correct'\n",
    "        else:\n",
    "            print(\"\\n Your answer is wrong... \\n \\n \\n\")\n",
    "            return 'wrong'\n",
    "    if event == notmutuallyexclusive:\n",
    "        if answer == 4:\n",
    "            print(\"\\n You guessed it right! \\n \\n \\n\")\n",
    "            return 'correct'\n",
    "        else:\n",
    "            print(\"\\n Your answer is wrong... \\n \\n \\n\")\n",
    "            return 'wrong'\n",
    "    if event == indipendent:\n",
    "        if answer == 2:\n",
    "            print(\"\\n You guessed it right! \\n \\n \\n\")\n",
    "            return 'correct'\n",
    "\n",
    "        else:\n",
    "            print(\"\\n Your answer is wrong... \\n \\n \\n\")\n",
    "            return 'wrong'"
   ]
  },
  {
   "cell_type": "code",
   "execution_count": 4,
   "id": "c429610e",
   "metadata": {},
   "outputs": [
    {
     "name": "stdout",
     "output_type": "stream",
     "text": [
      "Guess whether this is a \n",
      " 1)dependent \n",
      " 2)independent \n",
      " 3)mutually exclusive \n",
      " 4)not mutually exclusive event \n",
      "\n",
      "We pick out two cards from a standard deck of 52 cards without replacement. Event A is that we pick an Ace on the first draw. Event B is that we pick an Ace on the second draw.\n",
      "Enter your answer : 1\n",
      "\n",
      " You guessed it right! \n",
      " \n",
      " \n",
      "\n",
      "Guess whether this is a \n",
      " 1)dependent \n",
      " 2)independent \n",
      " 3)mutually exclusive \n",
      " 4)not mutually exclusive event \n",
      "\n",
      "Suppose we flip a coin ten times. Event A is that we flip all heads on the first five flips. Event B is that we flip all heads on the second five flips.\n",
      "Enter your answer : 2\n",
      "\n",
      " Your answer is wrong... \n",
      " \n",
      " \n",
      "\n",
      "Guess whether this is a \n",
      " 1)dependent \n",
      " 2)independent \n",
      " 3)mutually exclusive \n",
      " 4)not mutually exclusive event \n",
      "\n",
      "We roll a dice once. Event A is rolling an odd number. Event B is rolling a number greater than four.\n",
      "Enter your answer : 4\n",
      "\n",
      " You guessed it right! \n",
      " \n",
      " \n",
      "\n",
      "Guess whether this is a \n",
      " 1)dependent \n",
      " 2)independent \n",
      " 3)mutually exclusive \n",
      " 4)not mutually exclusive event \n",
      "\n",
      "We have a bag of five marbles: three are green and two are blue. Suppose that we pick one marble from the bag. Event A is that the marble is green. Event B is that the marble is blue.\n",
      "Enter your answer : 2\n",
      "\n",
      " You guessed it right! \n",
      " \n",
      " \n",
      "\n"
     ]
    }
   ],
   "source": [
    "firstanswer=guess_the_type(Dependence)\n",
    "secondanswer=guess_the_type(mutually_exclusive)\n",
    "thirdanswer=guess_the_type(notmutuallyexclusive)\n",
    "fourthanswer=guess_the_type(indipendent)\n",
    "if firstanswer=='correct' and secondanswer=='correct' and thirdanswer=='correct' and fourthanswer=='correct':\n",
    "      print(\"\\n \\n \\n You have guessed all the events correctly! Here's some cookies: 🍪🍪🍪 \\n \\n \\n\")"
   ]
  },
  {
   "cell_type": "code",
   "execution_count": null,
   "id": "10aad059",
   "metadata": {},
   "outputs": [],
   "source": []
  }
 ],
 "metadata": {
  "kernelspec": {
   "display_name": "Python 3 (ipykernel)",
   "language": "python",
   "name": "python3"
  },
  "language_info": {
   "codemirror_mode": {
    "name": "ipython",
    "version": 3
   },
   "file_extension": ".py",
   "mimetype": "text/x-python",
   "name": "python",
   "nbconvert_exporter": "python",
   "pygments_lexer": "ipython3",
   "version": "3.11.7"
  }
 },
 "nbformat": 4,
 "nbformat_minor": 5
}
