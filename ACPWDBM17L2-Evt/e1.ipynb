{
 "cells": [
  {
   "cell_type": "code",
   "execution_count": 1,
   "id": "ad8bad23",
   "metadata": {},
   "outputs": [],
   "source": [
    "# Create the two sets of two guest lists\n",
    "set1 = {'A', 'B', 'C', 'D', 'E'}\n",
    "set2 = {'B', 'D', 'V', 'X', 'Y', 'Z'}"
   ]
  },
  {
   "cell_type": "code",
   "execution_count": 2,
   "id": "70569bc4",
   "metadata": {},
   "outputs": [],
   "source": [
    "# Find union of two sets\n",
    "set3 = set1.union(set2)"
   ]
  },
  {
   "cell_type": "code",
   "execution_count": 3,
   "id": "a4acff91",
   "metadata": {},
   "outputs": [],
   "source": [
    "# Converting set into list \n",
    "# to find total guests to be invited in party\n",
    "total_guests = list(set3)"
   ]
  },
  {
   "cell_type": "code",
   "execution_count": 4,
   "id": "69b2dab1",
   "metadata": {},
   "outputs": [
    {
     "name": "stdout",
     "output_type": "stream",
     "text": [
      "Total guests to be invited in party are : 9\n",
      "Guest List : ['C', 'Y', 'B', 'E', 'V', 'A', 'Z', 'D', 'X']\n"
     ]
    }
   ],
   "source": [
    "print(\"Total guests to be invited in party are :\", len(total_guests))\n",
    "print(\"Guest List :\", total_guests)"
   ]
  },
  {
   "cell_type": "code",
   "execution_count": 5,
   "id": "c8e36621",
   "metadata": {},
   "outputs": [],
   "source": [
    "set4 = set1.intersection(set2)\n",
    "set4lst = list(set4)"
   ]
  },
  {
   "cell_type": "code",
   "execution_count": 6,
   "id": "93c276f8",
   "metadata": {},
   "outputs": [
    {
     "name": "stdout",
     "output_type": "stream",
     "text": [
      "intersection\n",
      "['D', 'B']\n",
      "2\n"
     ]
    }
   ],
   "source": [
    "print(\"intersection\")\n",
    "print(set4lst)\n",
    "print(len(set4lst))"
   ]
  },
  {
   "cell_type": "code",
   "execution_count": 7,
   "id": "2f07c173",
   "metadata": {},
   "outputs": [],
   "source": [
    "def prob_a_or_b(a, b, all_possible_outcomes):\n",
    "    # probability of event a\n",
    "    prob_a = len(a)/len(all_possible_outcomes)\n",
    "    \n",
    "    # probability of event b\n",
    "    prob_b = len(b)/len(all_possible_outcomes)\n",
    "    \n",
    "    # intersection of events a and b\n",
    "    inter = a.intersection(b)\n",
    "    \n",
    "    # probability of intersection of events a and b\n",
    "    prob_inter = len(inter)/len(all_possible_outcomes)\n",
    "    \n",
    "    # add return statement here\n",
    "    return (prob_a + prob_b - prob_inter)"
   ]
  },
  {
   "cell_type": "code",
   "execution_count": 8,
   "id": "93d53fec",
   "metadata": {},
   "outputs": [],
   "source": [
    "evens = {2, 4, 6}\n",
    "greater_than_two = {3, 4, 5, 6}\n",
    "all_possible_rolls = {1, 2, 3, 4, 5, 6}"
   ]
  },
  {
   "cell_type": "code",
   "execution_count": 9,
   "id": "9c453f63",
   "metadata": {},
   "outputs": [
    {
     "name": "stdout",
     "output_type": "stream",
     "text": [
      "Probability of Getting an even number or a number greater than 2\n",
      "0.8333333333333333\n"
     ]
    }
   ],
   "source": [
    "print('Probability of Getting an even number or a number greater than 2')\n",
    "print(prob_a_or_b(evens, greater_than_two, all_possible_rolls))"
   ]
  },
  {
   "cell_type": "code",
   "execution_count": null,
   "id": "759611e5",
   "metadata": {},
   "outputs": [],
   "source": []
  }
 ],
 "metadata": {
  "kernelspec": {
   "display_name": "Python 3 (ipykernel)",
   "language": "python",
   "name": "python3"
  },
  "language_info": {
   "codemirror_mode": {
    "name": "ipython",
    "version": 3
   },
   "file_extension": ".py",
   "mimetype": "text/x-python",
   "name": "python",
   "nbconvert_exporter": "python",
   "pygments_lexer": "ipython3",
   "version": "3.11.7"
  }
 },
 "nbformat": 4,
 "nbformat_minor": 5
}
