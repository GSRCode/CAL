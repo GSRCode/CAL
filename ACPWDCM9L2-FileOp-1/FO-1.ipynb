{
 "cells": [
  {
   "cell_type": "code",
   "execution_count": 14,
   "id": "49fde48a",
   "metadata": {},
   "outputs": [
    {
     "name": "stdout",
     "output_type": "stream",
     "text": [
      "Codingal is on a mission to inspire school kids to fall in love with coding. \n",
      "Coding helps develop logical thinking and problem-solving skills. \n",
      "Coding jobs are the future. \n",
      "They already constitute more than 60% of all the jobs in Science, Technology, Engineering, and Math. \n",
      "While still in school, those who start young will be ahead of everyone by the time they get into college. \n",
      "They will be creators of the future.\n",
      "Do you want to join us too?\n",
      " Hi! I am Penguin and I am 1 yr old.\n",
      " Hi! I am Penguin and I am 1 yr old.\n"
     ]
    }
   ],
   "source": [
    "#open file and read its contents\n",
    "file = open('Codingal.txt','r')\n",
    "print(file.read())\n",
    "file.close()"
   ]
  },
  {
   "cell_type": "code",
   "execution_count": 15,
   "id": "663e01d4",
   "metadata": {},
   "outputs": [
    {
     "name": "stdout",
     "output_type": "stream",
     "text": [
      "\n",
      " Read in parts \n",
      "\n",
      "Codingal\n"
     ]
    }
   ],
   "source": [
    "#open file and read its beginning 8 characters\n",
    "file = open('Codingal.txt','r')\n",
    "print(\"\\n Read in parts \\n\")\n",
    "print(file.read(8))\n",
    "file.close()"
   ]
  },
  {
   "cell_type": "code",
   "execution_count": 16,
   "id": "cb3b0a6f",
   "metadata": {},
   "outputs": [],
   "source": [
    "#append your name and age in the file\n",
    "file = open('Codingal.txt','a')\n",
    "file.write(\"\\n Hi! I am Penguin and I am 1 yr old.\")\n",
    "file.close()"
   ]
  },
  {
   "cell_type": "code",
   "execution_count": 17,
   "id": "45c95c4f",
   "metadata": {},
   "outputs": [
    {
     "name": "stdout",
     "output_type": "stream",
     "text": [
      "Reading first line...\n",
      "Codingal is on a mission to inspire school kids to fall in love with coding. \n",
      "\n"
     ]
    }
   ],
   "source": [
    "#read first line of file\n",
    "file = open('Codingal.txt','r')\n",
    "print(\"Reading first line...\")\n",
    "print(file.readline())\n",
    "file.close()"
   ]
  },
  {
   "cell_type": "code",
   "execution_count": 18,
   "id": "9f343231",
   "metadata": {},
   "outputs": [
    {
     "name": "stdout",
     "output_type": "stream",
     "text": [
      "Reading multiple lines...\n",
      "Codingal is on a mission to inspire school kids to fall in love with coding. \n",
      "\n",
      "Coding helps develop logical thinking and problem-solving skills. \n",
      "\n",
      "Coding jobs are the future. \n",
      "\n"
     ]
    }
   ],
   "source": [
    "#read first three lines of file\n",
    "file = open('Codingal.txt','r')\n",
    "print(\"Reading multiple lines...\")\n",
    "print(file.readline())\n",
    "print(file.readline())\n",
    "print(file.readline())\n",
    "file.close()"
   ]
  },
  {
   "cell_type": "code",
   "execution_count": 19,
   "id": "7c1af23b",
   "metadata": {},
   "outputs": [
    {
     "name": "stdout",
     "output_type": "stream",
     "text": [
      "Looping through the lines...\n",
      "Codingal is on a mission to inspire school kids to fall in love with coding. \n",
      "\n",
      "Coding helps develop logical thinking and problem-solving skills. \n",
      "\n",
      "Coding jobs are the future. \n",
      "\n",
      "They already constitute more than 60% of all the jobs in Science, Technology, Engineering, and Math. \n",
      "\n",
      "While still in school, those who start young will be ahead of everyone by the time they get into college. \n",
      "\n",
      "They will be creators of the future.\n",
      "\n",
      "Do you want to join us too?\n",
      "\n",
      " Hi! I am Penguin and I am 1 yr old.\n",
      "\n",
      " Hi! I am Penguin and I am 1 yr old.\n",
      "\n",
      " Hi! I am Penguin and I am 1 yr old.\n"
     ]
    }
   ],
   "source": [
    "#looping through all the lines of the file\n",
    "file = open('Codingal.txt','r')\n",
    "print(\"Looping through the lines...\")\n",
    "for line in file:\n",
    "  print(line)\n",
    "file.close()"
   ]
  },
  {
   "cell_type": "code",
   "execution_count": 20,
   "id": "74daf32e",
   "metadata": {},
   "outputs": [
    {
     "name": "stdout",
     "output_type": "stream",
     "text": [
      "They already constitute more than 60% of all the jobs in Science, Technology, Engineering, and Math. \n",
      "\n",
      "While still in school, those who start young will be ahead of everyone by the time they get into college. \n",
      "\n",
      "They will be creators of the future.\n",
      "\n",
      "Do you want to join us too?\n",
      "\n",
      " Hi! I am Penguin and I am 1 yr old.\n",
      "\n",
      " Hi! I am Penguin and I am 1 yr old.\n",
      "\n",
      " Hi! I am Penguin and I am 1 yr old.\n"
     ]
    }
   ],
   "source": [
    "# Program to remove lines starting with any prefix\n",
    "\n",
    "file1 = open('Codingal.txt','r')\n",
    "file2 = open('CodingalUpdated.txt','w')\n",
    "\n",
    "# reading each line from original\n",
    "# text file\n",
    "for line in file1.readlines():\n",
    "    # reading all lines that do not\n",
    "    # begin with \"Coding\"\n",
    "    if not (line.startswith('Coding')):\n",
    "        print(line)\n",
    "        file2.write(line)\n",
    "\n",
    "# close and save the files\n",
    "file2.close()\n",
    "file1.close()"
   ]
  },
  {
   "cell_type": "code",
   "execution_count": 21,
   "id": "d10124a9",
   "metadata": {},
   "outputs": [],
   "source": [
    "# Program to copy odd lines of one file to another\n",
    "# open file in read mode\n",
    "fn = open('Codingal.txt', 'r')\n",
    "\n",
    "# open other file in write mode\n",
    "fn1 = open('CodingalUpdated.txt', 'w')"
   ]
  },
  {
   "cell_type": "code",
   "execution_count": 22,
   "id": "d6febc8a",
   "metadata": {},
   "outputs": [
    {
     "data": {
      "text/plain": [
       "['Codingal is on a mission to inspire school kids to fall in love with coding. \\n',\n",
       " 'Coding helps develop logical thinking and problem-solving skills. \\n',\n",
       " 'Coding jobs are the future. \\n',\n",
       " 'They already constitute more than 60% of all the jobs in Science, Technology, Engineering, and Math. \\n',\n",
       " 'While still in school, those who start young will be ahead of everyone by the time they get into college. \\n',\n",
       " 'They will be creators of the future.\\n',\n",
       " 'Do you want to join us too?\\n',\n",
       " ' Hi! I am Penguin and I am 1 yr old.\\n',\n",
       " ' Hi! I am Penguin and I am 1 yr old.\\n',\n",
       " ' Hi! I am Penguin and I am 1 yr old.']"
      ]
     },
     "execution_count": 22,
     "metadata": {},
     "output_type": "execute_result"
    }
   ],
   "source": [
    "# read the content of the file line by line\n",
    "cont = fn.readlines()\n",
    "cont"
   ]
  },
  {
   "cell_type": "code",
   "execution_count": 23,
   "id": "7c9eb9fb",
   "metadata": {},
   "outputs": [
    {
     "data": {
      "text/plain": [
       "list"
      ]
     },
     "execution_count": 23,
     "metadata": {},
     "output_type": "execute_result"
    }
   ],
   "source": [
    "type(cont)"
   ]
  },
  {
   "cell_type": "code",
   "execution_count": 24,
   "id": "5365e4a6",
   "metadata": {},
   "outputs": [],
   "source": [
    "fn.close()"
   ]
  },
  {
   "cell_type": "code",
   "execution_count": 25,
   "id": "323e89a4",
   "metadata": {},
   "outputs": [],
   "source": [
    "for i in range(1, len(cont)+1):\n",
    "    if(i % 2 != 0):\n",
    "        fn1.write(cont[i-1])\n",
    "    else:\n",
    "        pass\n",
    "\n",
    "# close the file\n",
    "fn1.close()"
   ]
  },
  {
   "cell_type": "code",
   "execution_count": 26,
   "id": "d1a00dfa",
   "metadata": {},
   "outputs": [
    {
     "name": "stdout",
     "output_type": "stream",
     "text": [
      "Codingal is on a mission to inspire school kids to fall in love with coding. \n",
      "Coding jobs are the future. \n",
      "While still in school, those who start young will be ahead of everyone by the time they get into college. \n",
      "Do you want to join us too?\n",
      " Hi! I am Penguin and I am 1 yr old.\n",
      "\n"
     ]
    }
   ],
   "source": [
    "# open file in read mode\n",
    "fn1 = open('CodingalUpdated.txt', 'r')\n",
    "\n",
    "# read the content of the file\n",
    "cont1 = fn1.read()\n",
    "\n",
    "# print the content of the file\n",
    "print(cont1)"
   ]
  },
  {
   "cell_type": "code",
   "execution_count": 27,
   "id": "be6568d1",
   "metadata": {},
   "outputs": [
    {
     "name": "stdout",
     "output_type": "stream",
     "text": [
      "Coding is basically the computer language used to develop apps, websites, and software. \n",
      "Without it, weâ€™d have none of the most popular technology weâ€™ve come to rely on such as Facebook, our smartphones, the browser. \n",
      "It all runs on code.\n",
      "To put it very simply, the code is what tells your computer what to do. \n",
      "To go a bit deeper, computers donâ€™t understand words. \n",
      "They only understand the concepts of on and off.  \n",
      "Binary code represents these on and off signals as the digits 1 and 0. \n",
      "In order to make binary code manageable, computer programming languages were formed. \n"
     ]
    }
   ],
   "source": [
    "#open file and read its contents\n",
    "file = open('Sample_File.txt','r')\n",
    "print(file.read())\n",
    "file.close()"
   ]
  },
  {
   "cell_type": "code",
   "execution_count": 28,
   "id": "e2d4169d",
   "metadata": {},
   "outputs": [
    {
     "name": "stdout",
     "output_type": "stream",
     "text": [
      "\n",
      " Read in parts \n",
      "\n",
      "Coding i\n"
     ]
    }
   ],
   "source": [
    "#open file and read its beginning 8 characters\n",
    "file = open('Sample_File.txt','r')\n",
    "print(\"\\n Read in parts \\n\")\n",
    "print(file.read(8))\n",
    "file.close()"
   ]
  },
  {
   "cell_type": "code",
   "execution_count": 29,
   "id": "992050d6",
   "metadata": {},
   "outputs": [
    {
     "name": "stdout",
     "output_type": "stream",
     "text": [
      "\n",
      " Reading first line...\n",
      "Coding is basically the computer language used to develop apps, websites, and software. \n",
      "\n"
     ]
    }
   ],
   "source": [
    "#read first line of file\n",
    "file = open('Sample_File.txt','r')\n",
    "print(\"\\n Reading first line...\")\n",
    "print(file.readline())\n",
    "file.close()"
   ]
  },
  {
   "cell_type": "code",
   "execution_count": 32,
   "id": "4154b2ed",
   "metadata": {},
   "outputs": [
    {
     "name": "stdout",
     "output_type": "stream",
     "text": [
      "\n",
      " Reading multiple lines...\n",
      "Coding is basically the computer language used to develop apps, websites, and software. \n",
      "\n",
      "Without it, we’d have none of the most popular technology we’ve come to rely on such as Facebook, our smartphones, the browser. \n",
      "\n",
      "It all runs on code.\n",
      "\n",
      "To put it very simply, the code is what tells your computer what to do. \n",
      "\n"
     ]
    }
   ],
   "source": [
    "#read first three lines of file\n",
    "file = open('Sample_File.txt','r',encoding='utf-8')\n",
    "print(\"\\n Reading multiple lines...\")\n",
    "print(file.readline())\n",
    "print(file.readline())\n",
    "print(file.readline())\n",
    "print(file.readline())\n",
    "file.close()"
   ]
  },
  {
   "cell_type": "code",
   "execution_count": 33,
   "id": "dc647c13",
   "metadata": {},
   "outputs": [
    {
     "name": "stdout",
     "output_type": "stream",
     "text": [
      "\n",
      " Looping through the lines...\n",
      "Coding is basically the computer language used to develop apps, websites, and software. \n",
      "\n",
      "Without it, we’d have none of the most popular technology we’ve come to rely on such as Facebook, our smartphones, the browser. \n",
      "\n",
      "It all runs on code.\n",
      "\n",
      "To put it very simply, the code is what tells your computer what to do. \n",
      "\n",
      "To go a bit deeper, computers don’t understand words. \n",
      "\n",
      "They only understand the concepts of on and off.  \n",
      "\n",
      "Binary code represents these on and off signals as the digits 1 and 0. \n",
      "\n",
      "In order to make binary code manageable, computer programming languages were formed. \n"
     ]
    }
   ],
   "source": [
    "#looping through all the lines of the file\n",
    "file = open('Sample_File.txt','r',encoding='utf-8')\n",
    "print(\"\\n Looping through the lines...\")\n",
    "for line in file:\n",
    "  print(line)\n",
    "file.close()"
   ]
  },
  {
   "cell_type": "code",
   "execution_count": null,
   "id": "f0edaf89",
   "metadata": {},
   "outputs": [],
   "source": []
  }
 ],
 "metadata": {
  "kernelspec": {
   "display_name": "Python 3 (ipykernel)",
   "language": "python",
   "name": "python3"
  },
  "language_info": {
   "codemirror_mode": {
    "name": "ipython",
    "version": 3
   },
   "file_extension": ".py",
   "mimetype": "text/x-python",
   "name": "python",
   "nbconvert_exporter": "python",
   "pygments_lexer": "ipython3",
   "version": "3.11.7"
  }
 },
 "nbformat": 4,
 "nbformat_minor": 5
}
