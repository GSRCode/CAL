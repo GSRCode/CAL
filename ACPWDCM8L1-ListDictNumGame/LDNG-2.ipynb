{
 "cells": [
  {
   "cell_type": "code",
   "execution_count": 1,
   "id": "b4514ed2",
   "metadata": {},
   "outputs": [],
   "source": [
    "import random"
   ]
  },
  {
   "cell_type": "code",
   "execution_count": 2,
   "id": "92c5b07b",
   "metadata": {},
   "outputs": [],
   "source": [
    "lower_bound = 1\n",
    "upper_bound = 5\n",
    "max_attempts = 12\n",
    "secret_number = 0"
   ]
  },
  {
   "cell_type": "code",
   "execution_count": 3,
   "id": "845d762b",
   "metadata": {},
   "outputs": [],
   "source": [
    "def get_guess():\n",
    "    while True:\n",
    "        guess = int(input(\"Guess a number between 1 and 5: \"))\n",
    "        if lower_bound <= guess <= upper_bound:\n",
    "            return guess\n",
    "        else:\n",
    "            print(\"Invalid input. Please enter a number within the specified range.\")"
   ]
  },
  {
   "cell_type": "code",
   "execution_count": 4,
   "id": "71c3956d",
   "metadata": {},
   "outputs": [],
   "source": [
    "def check_guess(guess, secret_number):\n",
    "    if guess == secret_number:\n",
    "      return \"Correct\"\n",
    "    elif guess < secret_number:\n",
    "        return \"Too low\"\n",
    "    else:\n",
    "        return \"Too high\""
   ]
  },
  {
   "cell_type": "code",
   "execution_count": 5,
   "id": "90110e90",
   "metadata": {},
   "outputs": [],
   "source": [
    "def play_game():\n",
    "    attempts = 0\n",
    "    won = False\n",
    "\n",
    "    while attempts < max_attempts:\n",
    "        attempts += 1\n",
    "        guess = get_guess()\n",
    "        result = check_guess(guess, secret_number)\n",
    "        if result == \"Correct\":\n",
    "            print(f\"Congratulations! You guessed the secret number {secret_number} in {attempts} attempts.\")\n",
    "            won = True\n",
    "            break\n",
    "        else:\n",
    "            print(f\"{result}. Try again!\")\n",
    "    if not won:\n",
    "        print(f\"Sorry, you ran out of attempts! The secret number is {secret_number}.\")"
   ]
  },
  {
   "cell_type": "code",
   "execution_count": 7,
   "id": "072cea53",
   "metadata": {},
   "outputs": [
    {
     "name": "stdout",
     "output_type": "stream",
     "text": [
      "Welcome to the Number Guessing Game!\n",
      "Guess a number between 1 and 5: 3\n",
      "Too low. Try again!\n",
      "Guess a number between 1 and 5: 4\n",
      "Congratulations! You guessed the secret number 4 in 2 attempts.\n"
     ]
    }
   ],
   "source": [
    "if __name__ == \"__main__\":\n",
    "    secret_number = random.randint(lower_bound, upper_bound)\n",
    "    print(\"Welcome to the Number Guessing Game!\")\n",
    "    play_game()"
   ]
  },
  {
   "cell_type": "code",
   "execution_count": null,
   "id": "88d15b00",
   "metadata": {},
   "outputs": [],
   "source": []
  }
 ],
 "metadata": {
  "kernelspec": {
   "display_name": "Python 3 (ipykernel)",
   "language": "python",
   "name": "python3"
  },
  "language_info": {
   "codemirror_mode": {
    "name": "ipython",
    "version": 3
   },
   "file_extension": ".py",
   "mimetype": "text/x-python",
   "name": "python",
   "nbconvert_exporter": "python",
   "pygments_lexer": "ipython3",
   "version": "3.11.7"
  }
 },
 "nbformat": 4,
 "nbformat_minor": 5
}
