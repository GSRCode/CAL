{
 "cells": [
  {
   "cell_type": "code",
   "execution_count": 1,
   "id": "8838c045",
   "metadata": {},
   "outputs": [],
   "source": [
    "lst = ['Apple', 'Guava', 'Mango', 'Banana', 'Kiwi']"
   ]
  },
  {
   "cell_type": "code",
   "execution_count": 2,
   "id": "68916605",
   "metadata": {},
   "outputs": [
    {
     "name": "stdout",
     "output_type": "stream",
     "text": [
      "Length of list: 5\n",
      "First Element: Apple\n",
      "Last Element: Kiwi\n"
     ]
    }
   ],
   "source": [
    "print(\"Length of list:\", len(lst))\n",
    "print(\"First Element:\", lst[0])\n",
    "print(\"Last Element:\", lst[-1])"
   ]
  },
  {
   "cell_type": "code",
   "execution_count": 3,
   "id": "3e3c2a30",
   "metadata": {},
   "outputs": [
    {
     "name": "stdout",
     "output_type": "stream",
     "text": [
      "Updated List : ['Apple', 'Guava', 'Mango', 'Banana', 'Kiwi', 'Papaya']\n"
     ]
    }
   ],
   "source": [
    "lst.append('Papaya')\n",
    "print(\"Updated List :\", lst)"
   ]
  },
  {
   "cell_type": "code",
   "execution_count": 4,
   "id": "6ad1ee8b",
   "metadata": {},
   "outputs": [
    {
     "name": "stdout",
     "output_type": "stream",
     "text": [
      "Updated List : ['Apple', 'Mango', 'Banana', 'Kiwi', 'Papaya']\n"
     ]
    }
   ],
   "source": [
    "lst.remove('Guava')\n",
    "print(\"Updated List :\", lst)"
   ]
  },
  {
   "cell_type": "code",
   "execution_count": 5,
   "id": "27ea8e54",
   "metadata": {},
   "outputs": [
    {
     "name": "stdout",
     "output_type": "stream",
     "text": [
      "Sorted List: ['Apple', 'Banana', 'Kiwi', 'Mango', 'Papaya']\n"
     ]
    }
   ],
   "source": [
    "lst.sort()\n",
    "print(\"Sorted List:\", lst)"
   ]
  },
  {
   "cell_type": "code",
   "execution_count": 6,
   "id": "d8f789a6",
   "metadata": {},
   "outputs": [
    {
     "name": "stdout",
     "output_type": "stream",
     "text": [
      "Updated List : ['Apple', 'Kiwi', 'Mango', 'Papaya']\n"
     ]
    }
   ],
   "source": [
    "lst.pop(1)\n",
    "print(\"Updated List :\", lst)"
   ]
  },
  {
   "cell_type": "code",
   "execution_count": 7,
   "id": "965b1fcf",
   "metadata": {},
   "outputs": [
    {
     "name": "stdout",
     "output_type": "stream",
     "text": [
      "Reversed List : ['Papaya', 'Mango', 'Kiwi', 'Apple']\n"
     ]
    }
   ],
   "source": [
    "lst.reverse()\n",
    "print(\"Reversed List :\", lst)"
   ]
  },
  {
   "cell_type": "code",
   "execution_count": 8,
   "id": "53bdce95",
   "metadata": {},
   "outputs": [
    {
     "name": "stdout",
     "output_type": "stream",
     "text": [
      "Multiplication on List : ['Papaya', 'Mango', 'Kiwi', 'Apple', 'Papaya', 'Mango', 'Kiwi', 'Apple']\n"
     ]
    }
   ],
   "source": [
    "print(\"Multiplication on List :\", lst*2)"
   ]
  },
  {
   "cell_type": "code",
   "execution_count": 10,
   "id": "efbbedfd",
   "metadata": {},
   "outputs": [
    {
     "name": "stdout",
     "output_type": "stream",
     "text": [
      "Sliced List : ['Papaya', 'Mango', 'Kiwi']\n"
     ]
    }
   ],
   "source": [
    "lst = lst[:3]\n",
    "print(\"Sliced List :\", lst)"
   ]
  },
  {
   "cell_type": "code",
   "execution_count": 11,
   "id": "11da2226",
   "metadata": {},
   "outputs": [
    {
     "name": "stdout",
     "output_type": "stream",
     "text": [
      "Updated List : []\n"
     ]
    }
   ],
   "source": [
    "lst.clear()\n",
    "print(\"Updated List :\", lst)"
   ]
  },
  {
   "cell_type": "code",
   "execution_count": 13,
   "id": "dfc8022f",
   "metadata": {},
   "outputs": [
    {
     "name": "stdout",
     "output_type": "stream",
     "text": [
      "{}\n"
     ]
    }
   ],
   "source": [
    "my_dict = {}\n",
    "print(my_dict)"
   ]
  },
  {
   "cell_type": "code",
   "execution_count": 14,
   "id": "d2cdfa6d",
   "metadata": {},
   "outputs": [
    {
     "name": "stdout",
     "output_type": "stream",
     "text": [
      "{1: 'apple', 2: 'ball'}\n"
     ]
    }
   ],
   "source": [
    "my_dict = {1: 'apple', 2: 'ball'}\n",
    "print(my_dict)"
   ]
  },
  {
   "cell_type": "code",
   "execution_count": 15,
   "id": "82b39ae1",
   "metadata": {},
   "outputs": [
    {
     "name": "stdout",
     "output_type": "stream",
     "text": [
      "{'name': 'John', 1: [2, 4, 3]}\n"
     ]
    }
   ],
   "source": [
    "my_dict = {'name': 'John', 1: [2, 4, 3]}\n",
    "print(my_dict)"
   ]
  },
  {
   "cell_type": "code",
   "execution_count": 16,
   "id": "f8c0a356",
   "metadata": {},
   "outputs": [
    {
     "name": "stdout",
     "output_type": "stream",
     "text": [
      "{'name': 'Jack', 'age': 26}\n"
     ]
    }
   ],
   "source": [
    "my_dict = {'name': 'Jack', 'age': 26}\n",
    "print(my_dict)"
   ]
  },
  {
   "cell_type": "code",
   "execution_count": 17,
   "id": "b855e00d",
   "metadata": {},
   "outputs": [
    {
     "name": "stdout",
     "output_type": "stream",
     "text": [
      "Jack\n",
      "26\n"
     ]
    }
   ],
   "source": [
    "print(my_dict['name'])\n",
    "print(my_dict.get('age'))"
   ]
  },
  {
   "cell_type": "code",
   "execution_count": 18,
   "id": "3f3570e7",
   "metadata": {},
   "outputs": [
    {
     "name": "stdout",
     "output_type": "stream",
     "text": [
      "{'name': 'Jack', 'age': 27}\n"
     ]
    }
   ],
   "source": [
    "my_dict['age'] = 27\n",
    "print(my_dict)"
   ]
  },
  {
   "cell_type": "code",
   "execution_count": 19,
   "id": "f42f2c47",
   "metadata": {},
   "outputs": [
    {
     "name": "stdout",
     "output_type": "stream",
     "text": [
      "{'name': 'Jack', 'age': 27, 'address': 'Downtown'}\n"
     ]
    }
   ],
   "source": [
    "my_dict['address'] = 'Downtown'\n",
    "print(my_dict)"
   ]
  },
  {
   "cell_type": "code",
   "execution_count": 20,
   "id": "c6a68eec",
   "metadata": {},
   "outputs": [
    {
     "name": "stdout",
     "output_type": "stream",
     "text": [
      "{'name': 'Jack', 'address': 'Downtown'}\n"
     ]
    }
   ],
   "source": [
    "my_dict.pop('age')\n",
    "print(my_dict)"
   ]
  },
  {
   "cell_type": "code",
   "execution_count": null,
   "id": "f3ad2d30",
   "metadata": {},
   "outputs": [],
   "source": [
    "print(\"Address :\", my_dict.get('address'))"
   ]
  },
  {
   "cell_type": "code",
   "execution_count": 21,
   "id": "8970608a",
   "metadata": {},
   "outputs": [
    {
     "name": "stdout",
     "output_type": "stream",
     "text": [
      "{}\n"
     ]
    }
   ],
   "source": [
    "my_dict.clear()\n",
    "print(my_dict)"
   ]
  },
  {
   "cell_type": "code",
   "execution_count": 22,
   "id": "69c8b382",
   "metadata": {},
   "outputs": [],
   "source": [
    "def test(lst):\n",
    "    result = {}\n",
    "    for item in lst:\n",
    "        result[item[0]] = item[1:]\n",
    "    return result"
   ]
  },
  {
   "cell_type": "code",
   "execution_count": 23,
   "id": "11961b03",
   "metadata": {},
   "outputs": [
    {
     "name": "stdout",
     "output_type": "stream",
     "text": [
      "\n",
      "Original list of lists:\n",
      "[[1, 'Jean Castro', 'V'], [2, 'Lula Powell', 'V'], [3, 'Brian Howell', 'VI'], [4, 'Lynne Foster', 'VI'], [5, 'Zachary Simon', 'VII']]\n"
     ]
    }
   ],
   "source": [
    "students = [[1, 'Jean Castro', 'V'], [2, 'Lula Powell', 'V'], [3, 'Brian Howell', 'VI'], [4, 'Lynne Foster', 'VI'], [5, 'Zachary Simon', 'VII']]\n",
    "\n",
    "print(\"\\nOriginal list of lists:\")\n",
    "print(students)"
   ]
  },
  {
   "cell_type": "code",
   "execution_count": 24,
   "id": "7a5e19af",
   "metadata": {},
   "outputs": [
    {
     "name": "stdout",
     "output_type": "stream",
     "text": [
      "\n",
      "Converted  lists to a dictionary:\n",
      "{1: ['Jean Castro', 'V'], 2: ['Lula Powell', 'V'], 3: ['Brian Howell', 'VI'], 4: ['Lynne Foster', 'VI'], 5: ['Zachary Simon', 'VII']}\n"
     ]
    }
   ],
   "source": [
    "print(\"\\nConverted  lists to a dictionary:\")\n",
    "print(test(students))"
   ]
  },
  {
   "cell_type": "code",
   "execution_count": null,
   "id": "a23776aa",
   "metadata": {},
   "outputs": [],
   "source": []
  }
 ],
 "metadata": {
  "kernelspec": {
   "display_name": "Python 3 (ipykernel)",
   "language": "python",
   "name": "python3"
  },
  "language_info": {
   "codemirror_mode": {
    "name": "ipython",
    "version": 3
   },
   "file_extension": ".py",
   "mimetype": "text/x-python",
   "name": "python",
   "nbconvert_exporter": "python",
   "pygments_lexer": "ipython3",
   "version": "3.11.7"
  }
 },
 "nbformat": 4,
 "nbformat_minor": 5
}
