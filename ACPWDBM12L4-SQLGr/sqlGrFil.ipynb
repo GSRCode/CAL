{
 "cells": [
  {
   "cell_type": "code",
   "execution_count": 1,
   "id": "4f322837",
   "metadata": {},
   "outputs": [],
   "source": [
    "import pandas as pd\n",
    "import sqlite3\n",
    "tmpdb = sqlite3.connect('tmp4.db')\n",
    "%load_ext sql\n",
    "%sql sqlite:///tmp4.db\n",
    "%config SqlMagic.style = '_DEPRECATED_DEFAULT'"
   ]
  },
  {
   "cell_type": "code",
   "execution_count": 2,
   "id": "fb6c9735",
   "metadata": {},
   "outputs": [
    {
     "name": "stdout",
     "output_type": "stream",
     "text": [
      " * sqlite:///tmp4.db\n",
      "Done.\n"
     ]
    },
    {
     "data": {
      "text/plain": [
       "[]"
      ]
     },
     "execution_count": 2,
     "metadata": {},
     "output_type": "execute_result"
    }
   ],
   "source": [
    "%%sql\n",
    "\n",
    "CREATE TABLE IF NOT EXISTS NOBEL_WIN (\n",
    "  YEAR INTEGER,\n",
    "  SUBJECT TEXT,\n",
    "  WINNER TEXT,\n",
    "  COUNTRY TEXT,\n",
    "  CATEGORY TEXT\n",
    ");"
   ]
  },
  {
   "cell_type": "code",
   "execution_count": 3,
   "id": "6451ba2b",
   "metadata": {},
   "outputs": [
    {
     "name": "stdout",
     "output_type": "stream",
     "text": [
      " * sqlite:///tmp4.db\n",
      "10 rows affected.\n"
     ]
    },
    {
     "data": {
      "text/plain": [
       "[]"
      ]
     },
     "execution_count": 3,
     "metadata": {},
     "output_type": "execute_result"
    }
   ],
   "source": [
    "%%sql\n",
    "\n",
    "INSERT INTO NOBEL_WIN (YEAR, SUBJECT, WINNER, COUNTRY, CATEGORY) VALUES\n",
    "  (1970, 'PHYSICS', 'HANNES ALFVEN', 'SWEDEN', 'SCIENTIST'),\n",
    "  (1970, 'PHYSICS', 'LOUIS NEEL', 'FRANCE', 'SCIENTIST'),\n",
    "  (1971, 'PHYSICS', 'PAUL', 'FRANCE', 'SCIENTIST'),\n",
    "  (1971, 'CHEMISTRY', 'HAMILTON', 'SWEDEN', 'LINGUIST'),\n",
    "  (1972, 'LITERATURE', 'BERNARD KELSON', 'GERMANY', 'ECONOMIST'),\n",
    "  (1972, 'ECONOMICS', 'JOSEPH', 'RUSSIA', 'ECONOMIST'),\n",
    "  (1973, 'BIOLOGY', 'PHILIPS', 'USA', 'PRIME MINISTER'),\n",
    "  (1980, 'BIOLOGY', 'MARTIN', 'USA', 'PRESIDENT'),\n",
    "  (1981, 'PHYSIOLOGY', 'HANNAH', 'HUNGARY', 'SCIENTIST'),\n",
    "  (1975, 'PHYSICS', 'PETER', 'CHILE', 'SCIENTIST');"
   ]
  },
  {
   "cell_type": "code",
   "execution_count": 4,
   "id": "6f8833e9",
   "metadata": {},
   "outputs": [
    {
     "name": "stdout",
     "output_type": "stream",
     "text": [
      " * sqlite:///tmp4.db\n",
      "Done.\n"
     ]
    },
    {
     "data": {
      "text/html": [
       "<table>\n",
       "    <thead>\n",
       "        <tr>\n",
       "            <th>YEAR</th>\n",
       "            <th>SUBJECT</th>\n",
       "            <th>WINNER</th>\n",
       "            <th>COUNTRY</th>\n",
       "            <th>CATEGORY</th>\n",
       "        </tr>\n",
       "    </thead>\n",
       "    <tbody>\n",
       "        <tr>\n",
       "            <td>1971</td>\n",
       "            <td>CHEMISTRY</td>\n",
       "            <td>HAMILTON</td>\n",
       "            <td>SWEDEN</td>\n",
       "            <td>LINGUIST</td>\n",
       "        </tr>\n",
       "        <tr>\n",
       "            <td>1972</td>\n",
       "            <td>LITERATURE</td>\n",
       "            <td>BERNARD KELSON</td>\n",
       "            <td>GERMANY</td>\n",
       "            <td>ECONOMIST</td>\n",
       "        </tr>\n",
       "        <tr>\n",
       "            <td>1972</td>\n",
       "            <td>ECONOMICS</td>\n",
       "            <td>JOSEPH</td>\n",
       "            <td>RUSSIA</td>\n",
       "            <td>ECONOMIST</td>\n",
       "        </tr>\n",
       "        <tr>\n",
       "            <td>1973</td>\n",
       "            <td>BIOLOGY</td>\n",
       "            <td>PHILIPS</td>\n",
       "            <td>USA</td>\n",
       "            <td>PRIME MINISTER</td>\n",
       "        </tr>\n",
       "        <tr>\n",
       "            <td>1980</td>\n",
       "            <td>BIOLOGY</td>\n",
       "            <td>MARTIN</td>\n",
       "            <td>USA</td>\n",
       "            <td>PRESIDENT</td>\n",
       "        </tr>\n",
       "    </tbody>\n",
       "</table>"
      ],
      "text/plain": [
       "[(1971, 'CHEMISTRY', 'HAMILTON', 'SWEDEN', 'LINGUIST'),\n",
       " (1972, 'LITERATURE', 'BERNARD KELSON', 'GERMANY', 'ECONOMIST'),\n",
       " (1972, 'ECONOMICS', 'JOSEPH', 'RUSSIA', 'ECONOMIST'),\n",
       " (1973, 'BIOLOGY', 'PHILIPS', 'USA', 'PRIME MINISTER'),\n",
       " (1980, 'BIOLOGY', 'MARTIN', 'USA', 'PRESIDENT')]"
      ]
     },
     "execution_count": 4,
     "metadata": {},
     "output_type": "execute_result"
    }
   ],
   "source": [
    "%%sql\n",
    "\n",
    "SELECT * \n",
    "FROM NOBEL_WIN \n",
    "WHERE SUBJECT NOT LIKE 'P%';"
   ]
  },
  {
   "cell_type": "code",
   "execution_count": 5,
   "id": "7817597e",
   "metadata": {},
   "outputs": [
    {
     "name": "stdout",
     "output_type": "stream",
     "text": [
      " * sqlite:///tmp4.db\n",
      "Done.\n"
     ]
    },
    {
     "data": {
      "text/plain": [
       "[]"
      ]
     },
     "execution_count": 5,
     "metadata": {},
     "output_type": "execute_result"
    }
   ],
   "source": [
    "%%sql\n",
    "\n",
    "CREATE TABLE IF NOT EXISTS DEPARTMENT (\n",
    "  EMPLOYEE_ID int,\n",
    "  NAME TEXT,\n",
    "  DEPARTMENT_ID int,\n",
    "  MANAGER_ID int,\n",
    "  SALARY REAL\n",
    ");"
   ]
  },
  {
   "cell_type": "code",
   "execution_count": 6,
   "id": "d99fe912",
   "metadata": {},
   "outputs": [
    {
     "name": "stdout",
     "output_type": "stream",
     "text": [
      " * sqlite:///tmp4.db\n",
      "8 rows affected.\n"
     ]
    },
    {
     "data": {
      "text/plain": [
       "[]"
      ]
     },
     "execution_count": 6,
     "metadata": {},
     "output_type": "execute_result"
    }
   ],
   "source": [
    "%%sql\n",
    "\n",
    "INSERT INTO DEPARTMENT (EMPLOYEE_ID, NAME, DEPARTMENT_ID, MANAGER_ID, SALARY) VALUES\n",
    "  (100, 'STEVEN KING', 90, 100, 24000),\n",
    "  (101, 'NEENA KOCCHAR', 90, 100, 17000),\n",
    "  (102, 'LEX DEHAAN', 90, 102, 9000),\n",
    "  (103, 'BRUCE LEE', 60, 103, 4800),\n",
    "  (104, 'DIANA WILLS', 60, 103, 25000),\n",
    "  (105, 'VALLI PATOR', 50, 100, 4200),\n",
    "  (1973, 'LUV HAMI', 60, 102, 5000),\n",
    "  (106, 'DAVID AUSTIN', 90, 100, 6000);"
   ]
  },
  {
   "cell_type": "code",
   "execution_count": 7,
   "id": "e1e903d5",
   "metadata": {},
   "outputs": [
    {
     "name": "stdout",
     "output_type": "stream",
     "text": [
      " * sqlite:///tmp4.db\n",
      "Done.\n"
     ]
    },
    {
     "data": {
      "text/html": [
       "<table>\n",
       "    <thead>\n",
       "        <tr>\n",
       "            <th>Department Code</th>\n",
       "            <th>No of Employees</th>\n",
       "        </tr>\n",
       "    </thead>\n",
       "    <tbody>\n",
       "        <tr>\n",
       "            <td>50</td>\n",
       "            <td>1</td>\n",
       "        </tr>\n",
       "        <tr>\n",
       "            <td>60</td>\n",
       "            <td>3</td>\n",
       "        </tr>\n",
       "        <tr>\n",
       "            <td>90</td>\n",
       "            <td>4</td>\n",
       "        </tr>\n",
       "    </tbody>\n",
       "</table>"
      ],
      "text/plain": [
       "[(50, 1), (60, 3), (90, 4)]"
      ]
     },
     "execution_count": 7,
     "metadata": {},
     "output_type": "execute_result"
    }
   ],
   "source": [
    "%%sql\n",
    "\n",
    "SELECT DEPARTMENT_ID AS \"Department Code\", \n",
    "COUNT(*) AS \"No of Employees\" \n",
    "FROM DEPARTMENT\n",
    "GROUP BY DEPARTMENT_ID; "
   ]
  },
  {
   "cell_type": "code",
   "execution_count": 8,
   "id": "1e47af93",
   "metadata": {},
   "outputs": [
    {
     "name": "stdout",
     "output_type": "stream",
     "text": [
      " * sqlite:///tmp4.db\n",
      "Done.\n"
     ]
    },
    {
     "data": {
      "text/html": [
       "<table>\n",
       "    <thead>\n",
       "        <tr>\n",
       "            <th>Department Code</th>\n",
       "            <th>Total Salary</th>\n",
       "        </tr>\n",
       "    </thead>\n",
       "    <tbody>\n",
       "        <tr>\n",
       "            <td>60</td>\n",
       "            <td>29800.0</td>\n",
       "        </tr>\n",
       "    </tbody>\n",
       "</table>"
      ],
      "text/plain": [
       "[(60, 29800.0)]"
      ]
     },
     "execution_count": 8,
     "metadata": {},
     "output_type": "execute_result"
    }
   ],
   "source": [
    "%%sql\n",
    "\n",
    "SELECT DEPARTMENT_ID AS \"Department Code\", \n",
    "SUM(salary) AS \"Total Salary\" \n",
    "FROM DEPARTMENT \n",
    "WHERE MANAGER_ID = '103' \n",
    "GROUP BY DEPARTMENT_ID;"
   ]
  },
  {
   "cell_type": "code",
   "execution_count": 12,
   "id": "c36f12eb",
   "metadata": {},
   "outputs": [
    {
     "name": "stdout",
     "output_type": "stream",
     "text": [
      " * sqlite:///tmp4.db\n",
      "Done.\n"
     ]
    },
    {
     "data": {
      "text/html": [
       "<table>\n",
       "    <thead>\n",
       "        <tr>\n",
       "            <th>Department Code</th>\n",
       "            <th>No. of Employees</th>\n",
       "        </tr>\n",
       "    </thead>\n",
       "    <tbody>\n",
       "        <tr>\n",
       "            <td>60</td>\n",
       "            <td>3</td>\n",
       "        </tr>\n",
       "        <tr>\n",
       "            <td>90</td>\n",
       "            <td>4</td>\n",
       "        </tr>\n",
       "    </tbody>\n",
       "</table>"
      ],
      "text/plain": [
       "[(60, 3), (90, 4)]"
      ]
     },
     "execution_count": 12,
     "metadata": {},
     "output_type": "execute_result"
    }
   ],
   "source": [
    "%%sql \n",
    "\n",
    "SELECT DEPARTMENT_ID AS \"Department Code\",\n",
    "COUNT(*) AS \"No. of Employees\" \n",
    "FROM DEPARTMENT \n",
    "GROUP BY DEPARTMENT_ID \n",
    "HAVING COUNT(*) > 2;"
   ]
  },
  {
   "cell_type": "code",
   "execution_count": null,
   "id": "d2b68b2c",
   "metadata": {},
   "outputs": [],
   "source": []
  }
 ],
 "metadata": {
  "kernelspec": {
   "display_name": "Python 3 (ipykernel)",
   "language": "python",
   "name": "python3"
  },
  "language_info": {
   "codemirror_mode": {
    "name": "ipython",
    "version": 3
   },
   "file_extension": ".py",
   "mimetype": "text/x-python",
   "name": "python",
   "nbconvert_exporter": "python",
   "pygments_lexer": "ipython3",
   "version": "3.11.7"
  }
 },
 "nbformat": 4,
 "nbformat_minor": 5
}
