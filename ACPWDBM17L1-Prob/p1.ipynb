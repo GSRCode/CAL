{
 "cells": [
  {
   "cell_type": "code",
   "execution_count": 10,
   "id": "53406598",
   "metadata": {},
   "outputs": [],
   "source": [
    "import random"
   ]
  },
  {
   "cell_type": "code",
   "execution_count": 11,
   "id": "466dbdf3",
   "metadata": {},
   "outputs": [],
   "source": [
    "def pick_ball_experiment(showProb):\n",
    "    balls = [1,2,3,4,5,6]\n",
    "    result = random.choice(balls)\n",
    "    pro = balls.count(6) / len(balls)\n",
    "    if(showProb):\n",
    "        print(\"Probability of picking Red Ballno 6 is:\", pro)\n",
    "\n",
    "    if result == 6:\n",
    "        return ' six was picked '\n",
    "    else:\n",
    "        return 'Better Luck Next time'"
   ]
  },
  {
   "cell_type": "code",
   "execution_count": 12,
   "id": "d1760b45",
   "metadata": {},
   "outputs": [
    {
     "name": "stdout",
     "output_type": "stream",
     "text": [
      "Probability of picking Red Ballno 6 is: 0.16666666666666666\n",
      "Better Luck Next time\n"
     ]
    }
   ],
   "source": [
    "# Corrected indentation for function call\n",
    "res = pick_ball_experiment(True)\n",
    "print(res)  # Print the result outside the function"
   ]
  },
  {
   "cell_type": "code",
   "execution_count": 13,
   "id": "0fcd725c",
   "metadata": {},
   "outputs": [
    {
     "name": "stdout",
     "output_type": "stream",
     "text": [
      "161\n"
     ]
    }
   ],
   "source": [
    "s = 0\n",
    "for i in range(1000):\n",
    "    res = pick_ball_experiment(False)\n",
    "    if(res == ' six was picked '):\n",
    "        s += 1\n",
    "        \n",
    "print(s)"
   ]
  },
  {
   "cell_type": "code",
   "execution_count": 14,
   "id": "4a9e1faa",
   "metadata": {},
   "outputs": [],
   "source": [
    "def dice_roll_experiment():\n",
    "    # defining all the numbers as lists\n",
    "    numbers = [1,2,3,4,5,6]\n",
    "    \n",
    "    # \"flipping\" coins randomly\n",
    "    result = random.choice(numbers)\n",
    "    \n",
    "    #Finding the probability \n",
    "    pro = numbers.count(6)/len(numbers)\n",
    "    print(\"Probability of getting a 6 is:\", pro)\n",
    "    \n",
    "    # checking if you got a 6\n",
    "    if result == 6:\n",
    "        return 'Yeah, you can begin the game'\n",
    "    else:\n",
    "        return \"Aww snap! You didn't get a 6. Please, Roll Again.\""
   ]
  },
  {
   "cell_type": "code",
   "execution_count": 15,
   "id": "81c219b9",
   "metadata": {},
   "outputs": [
    {
     "name": "stdout",
     "output_type": "stream",
     "text": [
      "Probability of getting a 6 is: 0.16666666666666666\n",
      "Aww snap! You didn't get a 6. Please, Roll Again.\n"
     ]
    }
   ],
   "source": [
    "res = dice_roll_experiment()\n",
    "print(res)"
   ]
  },
  {
   "cell_type": "code",
   "execution_count": null,
   "id": "2d21ad05",
   "metadata": {},
   "outputs": [],
   "source": []
  }
 ],
 "metadata": {
  "kernelspec": {
   "display_name": "Python 3 (ipykernel)",
   "language": "python",
   "name": "python3"
  },
  "language_info": {
   "codemirror_mode": {
    "name": "ipython",
    "version": 3
   },
   "file_extension": ".py",
   "mimetype": "text/x-python",
   "name": "python",
   "nbconvert_exporter": "python",
   "pygments_lexer": "ipython3",
   "version": "3.11.7"
  }
 },
 "nbformat": 4,
 "nbformat_minor": 5
}
