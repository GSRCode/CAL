{
 "cells": [
  {
   "cell_type": "code",
   "execution_count": 1,
   "id": "2f3c9923",
   "metadata": {},
   "outputs": [],
   "source": [
    "def swap(a,b):\n",
    "  a = a^b\n",
    "  b = a^b\n",
    "  a = a^b\n",
    "  print(\"After swapping: a =\",a,\"and b =\",b)\n",
    "\n",
    "def swap2(a,b):\n",
    "  a = (a&b)+(a|b)\n",
    "  b = a+(~b)+1\n",
    "  a = a+(~b)+1\n",
    "  print(\"After swapping: a =\",a,\"and b =\",b)"
   ]
  },
  {
   "cell_type": "code",
   "execution_count": 3,
   "id": "6bc3b82f",
   "metadata": {},
   "outputs": [
    {
     "name": "stdout",
     "output_type": "stream",
     "text": [
      "After swapping: a = 20 and b = 10\n",
      "After swapping: a = 7 and b = 11\n"
     ]
    }
   ],
   "source": [
    "swap(10,20)\n",
    "swap2(11,7)"
   ]
  },
  {
   "cell_type": "code",
   "execution_count": 4,
   "id": "c4d82dfa",
   "metadata": {},
   "outputs": [],
   "source": [
    "def divide(ourdividend, ourDivisor):\n",
    "    sign = (-1 if((ourdividend < 0) ^ (ourDivisor < 0)) else 1);\n",
    "    ourdividend = abs(ourdividend);\n",
    "    ourDivisor = abs(ourDivisor);\n",
    "    \n",
    "    quotientNumber = 0\n",
    "    tempNumber = 0\n",
    "    for i in range(31, -1, -1):\n",
    "        if (tempNumber + (ourDivisor << i) <= ourdividend):\n",
    "            tempNumber += ourDivisor << i\n",
    "            quotientNumber |= 1 << i\n",
    "            \n",
    "    if sign == -1:\n",
    "        quotientNumber = -quotientNumber\n",
    "        \n",
    "    return quotientNumber"
   ]
  },
  {
   "cell_type": "code",
   "execution_count": 7,
   "id": "2b1123c3",
   "metadata": {},
   "outputs": [
    {
     "name": "stdout",
     "output_type": "stream",
     "text": [
      "Enter a for a/b: 10\n",
      "Enter b for a/b: 5\n",
      "Result of 10 / 5 is 2\n"
     ]
    }
   ],
   "source": [
    "a = int(input(\"Enter a for a/b: \"))\n",
    "b = int(input(\"Enter b for a/b: \"))\n",
    "print(\"Result of\", a, \"/\", b, \"is\", divide(a, b))"
   ]
  },
  {
   "cell_type": "code",
   "execution_count": 8,
   "id": "cd1de69a",
   "metadata": {},
   "outputs": [],
   "source": [
    "# Program to find the longest consecutive 1's in binary representation of a number\n",
    "\n",
    "def max1(number):\n",
    "    # Initialize result\n",
    "    count = 0\n",
    "    \n",
    "    # Count the number of iterations to reach number = 0.\n",
    "    while (number!=0):\n",
    "        # This operation reduces length\n",
    "        # of every sequence of 1s by one.\n",
    "        number = (number & (number << 1))\n",
    "        \n",
    "        count=count+1\n",
    "        \n",
    "    return count"
   ]
  },
  {
   "cell_type": "code",
   "execution_count": 12,
   "id": "e5d1b973",
   "metadata": {},
   "outputs": [
    {
     "name": "stdout",
     "output_type": "stream",
     "text": [
      "Enter your number : 11\n",
      "Longest consecutive 1's length :  2\n"
     ]
    }
   ],
   "source": [
    "number = int(input(\"Enter your number : \"))\n",
    "print(\"Longest consecutive 1's length : \",max1(number))"
   ]
  },
  {
   "cell_type": "code",
   "execution_count": null,
   "id": "9e415dc5",
   "metadata": {},
   "outputs": [],
   "source": []
  }
 ],
 "metadata": {
  "kernelspec": {
   "display_name": "Python 3 (ipykernel)",
   "language": "python",
   "name": "python3"
  },
  "language_info": {
   "codemirror_mode": {
    "name": "ipython",
    "version": 3
   },
   "file_extension": ".py",
   "mimetype": "text/x-python",
   "name": "python",
   "nbconvert_exporter": "python",
   "pygments_lexer": "ipython3",
   "version": "3.11.7"
  }
 },
 "nbformat": 4,
 "nbformat_minor": 5
}
