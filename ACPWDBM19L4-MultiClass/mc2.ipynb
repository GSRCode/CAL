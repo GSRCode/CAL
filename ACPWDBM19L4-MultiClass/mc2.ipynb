{
 "cells": [
  {
   "cell_type": "code",
   "execution_count": 1,
   "id": "382e9e31",
   "metadata": {},
   "outputs": [],
   "source": [
    "#Importing Libraries\n",
    "import pandas as pd\n",
    "import numpy as np\n",
    "from sklearn import linear_model"
   ]
  },
  {
   "cell_type": "code",
   "execution_count": 2,
   "id": "cdf89c91",
   "metadata": {},
   "outputs": [],
   "source": [
    "#loading the datafile from the given location\n",
    "file = 'https://aegis4048.github.io/downloads/notebooks/sample_data/unconv_MV_v5.csv'\n",
    "df = pd.read_csv(file)"
   ]
  },
  {
   "cell_type": "code",
   "execution_count": 3,
   "id": "9218d11c",
   "metadata": {},
   "outputs": [],
   "source": [
    "#marking the features required and the target data\n",
    "features = ['Por', 'Brittle', 'Perm', 'TOC']\n",
    "target = 'Prod'\n",
    "\n",
    "#Reshaping X and Y values\n",
    "X = df[features].values.reshape(-1, len(features))\n",
    "y = df[target].values"
   ]
  },
  {
   "cell_type": "code",
   "execution_count": 4,
   "id": "95e78f2b",
   "metadata": {},
   "outputs": [],
   "source": [
    "#fiting the models\n",
    "ols = linear_model.LinearRegression()\n",
    "model = ols.fit(X, y)"
   ]
  },
  {
   "cell_type": "code",
   "execution_count": 5,
   "id": "574ce586",
   "metadata": {},
   "outputs": [
    {
     "data": {
      "text/plain": [
       "array([244.60011793,  31.58801063,  86.87367291, 325.19354135])"
      ]
     },
     "execution_count": 5,
     "metadata": {},
     "output_type": "execute_result"
    }
   ],
   "source": [
    "model.coef_"
   ]
  },
  {
   "cell_type": "code",
   "execution_count": 6,
   "id": "96b37f0b",
   "metadata": {},
   "outputs": [
    {
     "data": {
      "text/plain": [
       "-1575.2734966267162"
      ]
     },
     "execution_count": 6,
     "metadata": {},
     "output_type": "execute_result"
    }
   ],
   "source": [
    "model.intercept_"
   ]
  },
  {
   "cell_type": "code",
   "execution_count": 7,
   "id": "d91f61b3",
   "metadata": {},
   "outputs": [
    {
     "data": {
      "text/plain": [
       "0.9516996043535946"
      ]
     },
     "execution_count": 7,
     "metadata": {},
     "output_type": "execute_result"
    }
   ],
   "source": [
    "model.score(X, y)"
   ]
  },
  {
   "cell_type": "code",
   "execution_count": 8,
   "id": "d26f6907",
   "metadata": {},
   "outputs": [],
   "source": [
    "x_pred = np.array([12, 81, 2.31, 2.8])\n",
    "x_pred = x_pred.reshape(-1, len(features))"
   ]
  },
  {
   "cell_type": "code",
   "execution_count": 9,
   "id": "4aac1311",
   "metadata": {},
   "outputs": [
    {
     "data": {
      "text/plain": [
       "array([5029.77688021])"
      ]
     },
     "execution_count": 9,
     "metadata": {},
     "output_type": "execute_result"
    }
   ],
   "source": [
    "model.predict(x_pred)"
   ]
  },
  {
   "cell_type": "code",
   "execution_count": 10,
   "id": "24613dac",
   "metadata": {},
   "outputs": [],
   "source": [
    "#Now making prediction of 2 gases production rate\n",
    "\"\"\"Por = 12 (%)\n",
    "Brittle = 81 (%)\n",
    "VR = 2.31 (%)\n",
    "AI = 2.8 (kg/m2s*10^6)\"\"\"\n",
    "\n",
    "\"\"\"Por = 15 (%)\n",
    "Brittle = 60 (%)\n",
    "VR = 2.5 (%)\n",
    "AI = 1 (kg/m2s*10^6)\"\"\"\n",
    "\n",
    "x_pred = np.array([[12, 81, 2.31, 2.8], [15, 60, 2.5, 1]])\n",
    "x_pred = x_pred.reshape(-1, len(features))"
   ]
  },
  {
   "cell_type": "code",
   "execution_count": 11,
   "id": "2f4213f6",
   "metadata": {},
   "outputs": [
    {
     "data": {
      "text/plain": [
       "array([5029.77688021, 4531.3866341 ])"
      ]
     },
     "execution_count": 11,
     "metadata": {},
     "output_type": "execute_result"
    }
   ],
   "source": [
    "model.predict(x_pred)"
   ]
  },
  {
   "cell_type": "code",
   "execution_count": null,
   "id": "3a34f1c7",
   "metadata": {},
   "outputs": [],
   "source": []
  }
 ],
 "metadata": {
  "kernelspec": {
   "display_name": "Python 3 (ipykernel)",
   "language": "python",
   "name": "python3"
  },
  "language_info": {
   "codemirror_mode": {
    "name": "ipython",
    "version": 3
   },
   "file_extension": ".py",
   "mimetype": "text/x-python",
   "name": "python",
   "nbconvert_exporter": "python",
   "pygments_lexer": "ipython3",
   "version": "3.11.7"
  }
 },
 "nbformat": 4,
 "nbformat_minor": 5
}
