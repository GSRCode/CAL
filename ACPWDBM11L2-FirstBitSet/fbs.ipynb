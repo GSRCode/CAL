{
 "cells": [
  {
   "cell_type": "code",
   "execution_count": 1,
   "id": "25f089e2",
   "metadata": {},
   "outputs": [],
   "source": [
    "def numberOfBits(n):\n",
    "  ones = 0\n",
    "  zeroes= 0\n",
    "  while (n):\n",
    "      if (n & 1 == 1):\n",
    "          ones += 1\n",
    "      else:\n",
    "          zeroes += 1\n",
    "      n >>= 1\n",
    "  print(\"Number of ones =\", ones, \"\\nNumber of zeroes =\", zeroes)"
   ]
  },
  {
   "cell_type": "code",
   "execution_count": 2,
   "id": "2349dd53",
   "metadata": {},
   "outputs": [
    {
     "name": "stdout",
     "output_type": "stream",
     "text": [
      "Enter your number: 17\n",
      "Number of ones = 2 \n",
      "Number of zeroes = 3\n"
     ]
    }
   ],
   "source": [
    "number = int(input(\"Enter your number: \"))\n",
    "numberOfBits(number)"
   ]
  },
  {
   "cell_type": "code",
   "execution_count": 3,
   "id": "d8d9ba83",
   "metadata": {},
   "outputs": [],
   "source": [
    "def setOrNot(number, n):\n",
    "  # You need to define 'mask' before using it\n",
    "  mask = 1  # Assuming you want to check if the bit is set or not \n",
    "  if (n & mask) == 1 or (n & mask) == 0:  # Corrected comparison and OR operator\n",
    "    if number & (1 << (n - 1)):\n",
    "      print(\"SET\")\n",
    "    else:\n",
    "      print(\"NOT SET\")"
   ]
  },
  {
   "cell_type": "code",
   "execution_count": 6,
   "id": "2086d376",
   "metadata": {},
   "outputs": [
    {
     "name": "stdout",
     "output_type": "stream",
     "text": [
      "Enter the number: 16\n",
      "Enter the bit position: 5\n",
      "SET\n"
     ]
    }
   ],
   "source": [
    "number = int(input(\"Enter the number: \"))\n",
    "n = int(input(\"Enter the bit position: \"))\n",
    "setOrNot(number, n)"
   ]
  },
  {
   "cell_type": "code",
   "execution_count": 7,
   "id": "38a2c4d8",
   "metadata": {},
   "outputs": [],
   "source": [
    "# Program to check the right most set bit is a number\n",
    " \n",
    "# function to find the\n",
    "# rightmost set bit\n",
    "def FirstSetBit(number):\n",
    " \n",
    "    # Position and mask variable\n",
    "    position = 1\n",
    "    mask = 1\n",
    " \n",
    "    while (not(number & mask)) :\n",
    " \n",
    "        # left shift mask to check next bit\n",
    "        mask = mask << 1\n",
    "        position += 1\n",
    "     \n",
    "    return position"
   ]
  },
  {
   "cell_type": "code",
   "execution_count": 9,
   "id": "9640e6cd",
   "metadata": {},
   "outputs": [
    {
     "name": "stdout",
     "output_type": "stream",
     "text": [
      "Enter number : 16\n",
      "Position of the first set bit :  5\n"
     ]
    }
   ],
   "source": [
    "number = int(input(\"Enter number : \"))\n",
    " \n",
    "# function call\n",
    "print(\"Position of the first set bit : \",FirstSetBit(number))"
   ]
  },
  {
   "cell_type": "code",
   "execution_count": null,
   "id": "09fabf51",
   "metadata": {},
   "outputs": [],
   "source": []
  }
 ],
 "metadata": {
  "kernelspec": {
   "display_name": "Python 3 (ipykernel)",
   "language": "python",
   "name": "python3"
  },
  "language_info": {
   "codemirror_mode": {
    "name": "ipython",
    "version": 3
   },
   "file_extension": ".py",
   "mimetype": "text/x-python",
   "name": "python",
   "nbconvert_exporter": "python",
   "pygments_lexer": "ipython3",
   "version": "3.11.7"
  }
 },
 "nbformat": 4,
 "nbformat_minor": 5
}
