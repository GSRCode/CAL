{
 "cells": [
  {
   "cell_type": "code",
   "execution_count": 1,
   "id": "73487975",
   "metadata": {},
   "outputs": [],
   "source": [
    "class Person( object ):\t\n",
    "    # __init__ is known as the constructor\n",
    "    def __init__(self, name, idnumber):\n",
    "        self.name = name\n",
    "        self.idnumber = idnumber\n",
    "    def display(self):\n",
    "        print(self.name)\n",
    "        print(self.idnumber)"
   ]
  },
  {
   "cell_type": "code",
   "execution_count": 2,
   "id": "6304243e",
   "metadata": {},
   "outputs": [],
   "source": [
    "# child class\n",
    "class Employee( Person ):\n",
    "    def __init__(self, name, idnumber, salary, post):\n",
    "\n",
    "        # invoking the __init__ of the parent class\n",
    "        Person.__init__(self, name, idnumber)\n",
    "\n",
    "        self.salary = salary\n",
    "        self.post = post\n",
    "        \n",
    "    \n",
    "    def display(self):\n",
    "        Person.display(self)\n",
    "        print(self.salary)\n",
    "        print(self.post)"
   ]
  },
  {
   "cell_type": "code",
   "execution_count": 3,
   "id": "7c7a1bd5",
   "metadata": {},
   "outputs": [
    {
     "name": "stdout",
     "output_type": "stream",
     "text": [
      "Penguin\n",
      "20210401\n",
      "15000\n",
      "Intern\n"
     ]
    }
   ],
   "source": [
    "# creation of an object variable or an instance\n",
    "a = Employee('Penguin', 20210401, 15000, \"Intern\")\n",
    "\n",
    "# calling a function of the class Person using its instance\n",
    "a.display()"
   ]
  },
  {
   "cell_type": "code",
   "execution_count": 12,
   "id": "ea93fd31",
   "metadata": {},
   "outputs": [],
   "source": [
    "class Person:\n",
    "  def __init__(self, fname, lname):\n",
    "    self.firstname = fname\n",
    "    self.lastname = lname\n",
    "\n",
    "  def printname(self):\n",
    "    print(self.firstname, self.lastname)"
   ]
  },
  {
   "cell_type": "code",
   "execution_count": 13,
   "id": "b543ec89",
   "metadata": {},
   "outputs": [],
   "source": [
    "class Student(Person):\n",
    "  def __init__(self, fname, lname, year):\n",
    "    super().__init__(fname, lname)\n",
    "    self.graduationyear = year\n",
    "    \n",
    "  def printinfo(self):\n",
    "    Person.printname(self)\n",
    "    print(self.graduationyear)"
   ]
  },
  {
   "cell_type": "code",
   "execution_count": 14,
   "id": "6da013f6",
   "metadata": {},
   "outputs": [
    {
     "name": "stdout",
     "output_type": "stream",
     "text": [
      "Joey King\n",
      "2021\n",
      "2021\n",
      "Joey King\n",
      "2021\n"
     ]
    }
   ],
   "source": [
    "x = Student(\"Joey\", \"King\", 2021)\n",
    "x.printinfo()\n",
    "print(x.graduationyear)\n",
    "x.printinfo()"
   ]
  },
  {
   "cell_type": "code",
   "execution_count": 15,
   "id": "7abf9d68",
   "metadata": {},
   "outputs": [],
   "source": [
    "class Animal(object):\n",
    "    # should be implemented by all sub-classes\n",
    "    def move(self):\n",
    "        pass"
   ]
  },
  {
   "cell_type": "code",
   "execution_count": 16,
   "id": "a71c8545",
   "metadata": {},
   "outputs": [],
   "source": [
    "# sub classes\n",
    "class Human(Animal):\n",
    "    def move(self):\n",
    "        print(\"I can walk and run\")"
   ]
  },
  {
   "cell_type": "code",
   "execution_count": 17,
   "id": "26650569",
   "metadata": {},
   "outputs": [],
   "source": [
    "class Snake(Animal):\n",
    "    def move(self):\n",
    "        print(\"I can crawl\")"
   ]
  },
  {
   "cell_type": "code",
   "execution_count": 18,
   "id": "1b9dd70e",
   "metadata": {},
   "outputs": [],
   "source": [
    "class Dog(Animal):\n",
    "    def move(self):\n",
    "        print(\"I can bark\")"
   ]
  },
  {
   "cell_type": "code",
   "execution_count": 19,
   "id": "68163fe1",
   "metadata": {},
   "outputs": [],
   "source": [
    "class Lion(Animal):\n",
    "    def move(self):\n",
    "        print(\"I can roar\")"
   ]
  },
  {
   "cell_type": "code",
   "execution_count": 20,
   "id": "9852fac1",
   "metadata": {},
   "outputs": [
    {
     "name": "stdout",
     "output_type": "stream",
     "text": [
      "I can walk and run\n"
     ]
    }
   ],
   "source": [
    "R = Human()\n",
    "R.move()"
   ]
  },
  {
   "cell_type": "code",
   "execution_count": 21,
   "id": "a5f0def2",
   "metadata": {},
   "outputs": [
    {
     "name": "stdout",
     "output_type": "stream",
     "text": [
      "I can crawl\n"
     ]
    }
   ],
   "source": [
    "K = Snake()\n",
    "K.move()"
   ]
  },
  {
   "cell_type": "code",
   "execution_count": 22,
   "id": "20fb9431",
   "metadata": {},
   "outputs": [
    {
     "name": "stdout",
     "output_type": "stream",
     "text": [
      "I can bark\n"
     ]
    }
   ],
   "source": [
    "R = Dog()\n",
    "R.move()"
   ]
  },
  {
   "cell_type": "code",
   "execution_count": 23,
   "id": "7487577d",
   "metadata": {},
   "outputs": [
    {
     "name": "stdout",
     "output_type": "stream",
     "text": [
      "I can roar\n"
     ]
    }
   ],
   "source": [
    "K = Lion()\n",
    "K.move()"
   ]
  },
  {
   "cell_type": "code",
   "execution_count": 24,
   "id": "79045c67",
   "metadata": {},
   "outputs": [],
   "source": [
    "an = Animal()\n",
    "an.move()"
   ]
  },
  {
   "cell_type": "code",
   "execution_count": null,
   "id": "8d911d5c",
   "metadata": {},
   "outputs": [],
   "source": []
  }
 ],
 "metadata": {
  "kernelspec": {
   "display_name": "Python 3 (ipykernel)",
   "language": "python",
   "name": "python3"
  },
  "language_info": {
   "codemirror_mode": {
    "name": "ipython",
    "version": 3
   },
   "file_extension": ".py",
   "mimetype": "text/x-python",
   "name": "python",
   "nbconvert_exporter": "python",
   "pygments_lexer": "ipython3",
   "version": "3.11.7"
  }
 },
 "nbformat": 4,
 "nbformat_minor": 5
}
