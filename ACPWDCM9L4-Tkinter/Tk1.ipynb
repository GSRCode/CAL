{
 "cells": [
  {
   "cell_type": "code",
   "execution_count": 1,
   "id": "18a51d67",
   "metadata": {},
   "outputs": [],
   "source": [
    "from tkinter import *"
   ]
  },
  {
   "cell_type": "code",
   "execution_count": 2,
   "id": "c4521973",
   "metadata": {},
   "outputs": [],
   "source": [
    "#Create an instance of Tkinter frame or window\n",
    "win= Tk()\n",
    "win.title('Tkinter Sample Window')\n",
    "#Set the geometry of tkinter frame\n",
    "win.geometry(\"750x250\")\n",
    "\n",
    "# Label\n",
    "greeting = Label(text=\"Hello User\", fg='black', bg='white')\n",
    "# Button \n",
    "button = Button(text=\"Click me\", bg='black', fg='white')\n",
    "# Entry \n",
    "entry = Entry(fg=\"yellow\", bg=\"blue\", width=50)\n",
    "\n",
    "\n",
    "greeting.pack()\n",
    "button.pack()\n",
    "entry.pack()\n",
    "\n",
    "\n",
    "frame = Frame(master=win, relief=RAISED, borderwidth=5)\n",
    "frame.pack()\n",
    "label = Label(master=frame, text='Sample Frame')\n",
    "label.pack()\n",
    "\n",
    "textbox = Text(fg='green', bg='yellow')\n",
    "textbox.pack()\n",
    "\n",
    "\n",
    "win.mainloop()"
   ]
  },
  {
   "cell_type": "code",
   "execution_count": null,
   "id": "0794f47c",
   "metadata": {},
   "outputs": [],
   "source": []
  }
 ],
 "metadata": {
  "kernelspec": {
   "display_name": "Python 3 (ipykernel)",
   "language": "python",
   "name": "python3"
  },
  "language_info": {
   "codemirror_mode": {
    "name": "ipython",
    "version": 3
   },
   "file_extension": ".py",
   "mimetype": "text/x-python",
   "name": "python",
   "nbconvert_exporter": "python",
   "pygments_lexer": "ipython3",
   "version": "3.11.7"
  }
 },
 "nbformat": 4,
 "nbformat_minor": 5
}
