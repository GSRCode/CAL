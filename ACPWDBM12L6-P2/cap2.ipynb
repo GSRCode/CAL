{
 "cells": [
  {
   "cell_type": "code",
   "execution_count": 1,
   "id": "bcf5abef",
   "metadata": {},
   "outputs": [],
   "source": [
    "import pandas as pd\n",
    "import sqlite3\n",
    "tmpdb = sqlite3.connect('tmp6.db')\n",
    "%load_ext sql\n",
    "%sql sqlite:///tmp6.db\n",
    "%config SqlMagic.style = '_DEPRECATED_DEFAULT'"
   ]
  },
  {
   "cell_type": "code",
   "execution_count": 2,
   "id": "dbf41a26",
   "metadata": {},
   "outputs": [
    {
     "name": "stdout",
     "output_type": "stream",
     "text": [
      " * sqlite:///tmp6.db\n",
      "Done.\n"
     ]
    },
    {
     "data": {
      "text/plain": [
       "[]"
      ]
     },
     "execution_count": 2,
     "metadata": {},
     "output_type": "execute_result"
    }
   ],
   "source": [
    "%%sql\n",
    "\n",
    "CREATE TABLE IF NOT EXISTS nomnom (\n",
    "  NAME TEXT,\n",
    "  NEIGHBOURHOOD TEXT,\n",
    "  CUISINE TEXT,\n",
    "  REVIEW REAL,\n",
    "  PRICE TEXT,\n",
    "  HEALTH TEXT\n",
    ");"
   ]
  },
  {
   "cell_type": "code",
   "execution_count": 3,
   "id": "048a4ce2",
   "metadata": {},
   "outputs": [
    {
     "name": "stdout",
     "output_type": "stream",
     "text": [
      " * sqlite:///tmp6.db\n",
      "9 rows affected.\n"
     ]
    },
    {
     "data": {
      "text/plain": [
       "[]"
      ]
     },
     "execution_count": 3,
     "metadata": {},
     "output_type": "execute_result"
    }
   ],
   "source": [
    "%%sql\n",
    "\n",
    "INSERT INTO nomnom (NAME, NEIGHBOURHOOD, CUISINE, REVIEW, PRICE, HEALTH) VALUES\n",
    "  ('Peter', 'Brooklyn', 'Steak', 4.4, '$$$$', 'A'),\n",
    "  ('Jongro', 'Midtown', 'Korean', 3.5, '$$', 'A'),\n",
    "  ('Pocha', 'Midtown', 'Pizza', 4, '$$$', 'B'),\n",
    "  ('Lighthouse', 'Queens', 'Chinese', 3.9, '$', 'A'),\n",
    "  ('Minca', 'Downtown', 'American', 4.6, '$$$', ''),\n",
    "  ('Marea', 'Chinatown', 'Chinese', 3.0, '$$', ''),\n",
    "  ('Dirty Candy', 'Uptown', 'Italian', 4.9, '$$$$', 'B'),\n",
    "  ('Di Fara Pizza', 'Brooklyn', 'Pizza', 3.8, '$$$', 'A'),\n",
    "  ('Golden Unicorn', 'Uptown', 'Italian', 3.8, '$$', 'A');"
   ]
  },
  {
   "cell_type": "code",
   "execution_count": 4,
   "id": "b0b9b90a",
   "metadata": {},
   "outputs": [
    {
     "name": "stdout",
     "output_type": "stream",
     "text": [
      " * sqlite:///tmp6.db\n",
      "Done.\n"
     ]
    },
    {
     "data": {
      "text/html": [
       "<table>\n",
       "    <thead>\n",
       "        <tr>\n",
       "            <th>NAME</th>\n",
       "            <th>NEIGHBOURHOOD</th>\n",
       "            <th>CUISINE</th>\n",
       "            <th>REVIEW</th>\n",
       "            <th>PRICE</th>\n",
       "            <th>HEALTH</th>\n",
       "        </tr>\n",
       "    </thead>\n",
       "    <tbody>\n",
       "        <tr>\n",
       "            <td>Peter</td>\n",
       "            <td>Brooklyn</td>\n",
       "            <td>Steak</td>\n",
       "            <td>4.4</td>\n",
       "            <td>$$$$</td>\n",
       "            <td>A</td>\n",
       "        </tr>\n",
       "        <tr>\n",
       "            <td>Jongro</td>\n",
       "            <td>Midtown</td>\n",
       "            <td>Korean</td>\n",
       "            <td>3.5</td>\n",
       "            <td>$$</td>\n",
       "            <td>A</td>\n",
       "        </tr>\n",
       "        <tr>\n",
       "            <td>Pocha</td>\n",
       "            <td>Midtown</td>\n",
       "            <td>Pizza</td>\n",
       "            <td>4.0</td>\n",
       "            <td>$$$</td>\n",
       "            <td>B</td>\n",
       "        </tr>\n",
       "        <tr>\n",
       "            <td>Lighthouse</td>\n",
       "            <td>Queens</td>\n",
       "            <td>Chinese</td>\n",
       "            <td>3.9</td>\n",
       "            <td>$</td>\n",
       "            <td>A</td>\n",
       "        </tr>\n",
       "        <tr>\n",
       "            <td>Minca</td>\n",
       "            <td>Downtown</td>\n",
       "            <td>American</td>\n",
       "            <td>4.6</td>\n",
       "            <td>$$$</td>\n",
       "            <td></td>\n",
       "        </tr>\n",
       "        <tr>\n",
       "            <td>Marea</td>\n",
       "            <td>Chinatown</td>\n",
       "            <td>Chinese</td>\n",
       "            <td>3.0</td>\n",
       "            <td>$$</td>\n",
       "            <td></td>\n",
       "        </tr>\n",
       "        <tr>\n",
       "            <td>Dirty Candy</td>\n",
       "            <td>Uptown</td>\n",
       "            <td>Italian</td>\n",
       "            <td>4.9</td>\n",
       "            <td>$$$$</td>\n",
       "            <td>B</td>\n",
       "        </tr>\n",
       "        <tr>\n",
       "            <td>Di Fara Pizza</td>\n",
       "            <td>Brooklyn</td>\n",
       "            <td>Pizza</td>\n",
       "            <td>3.8</td>\n",
       "            <td>$$$</td>\n",
       "            <td>A</td>\n",
       "        </tr>\n",
       "        <tr>\n",
       "            <td>Golden Unicorn</td>\n",
       "            <td>Uptown</td>\n",
       "            <td>Italian</td>\n",
       "            <td>3.8</td>\n",
       "            <td>$$</td>\n",
       "            <td>A</td>\n",
       "        </tr>\n",
       "    </tbody>\n",
       "</table>"
      ],
      "text/plain": [
       "[('Peter', 'Brooklyn', 'Steak', 4.4, '$$$$', 'A'),\n",
       " ('Jongro', 'Midtown', 'Korean', 3.5, '$$', 'A'),\n",
       " ('Pocha', 'Midtown', 'Pizza', 4.0, '$$$', 'B'),\n",
       " ('Lighthouse', 'Queens', 'Chinese', 3.9, '$', 'A'),\n",
       " ('Minca', 'Downtown', 'American', 4.6, '$$$', ''),\n",
       " ('Marea', 'Chinatown', 'Chinese', 3.0, '$$', ''),\n",
       " ('Dirty Candy', 'Uptown', 'Italian', 4.9, '$$$$', 'B'),\n",
       " ('Di Fara Pizza', 'Brooklyn', 'Pizza', 3.8, '$$$', 'A'),\n",
       " ('Golden Unicorn', 'Uptown', 'Italian', 3.8, '$$', 'A')]"
      ]
     },
     "execution_count": 4,
     "metadata": {},
     "output_type": "execute_result"
    }
   ],
   "source": [
    "%%sql\n",
    "\n",
    "SELECT * FROM nomnom;"
   ]
  },
  {
   "cell_type": "code",
   "execution_count": 5,
   "id": "795d198c",
   "metadata": {},
   "outputs": [
    {
     "name": "stdout",
     "output_type": "stream",
     "text": [
      " * sqlite:///tmp6.db\n",
      "Done.\n"
     ]
    },
    {
     "data": {
      "text/html": [
       "<table>\n",
       "    <thead>\n",
       "        <tr>\n",
       "            <th>NEIGHBOURHOOD</th>\n",
       "        </tr>\n",
       "    </thead>\n",
       "    <tbody>\n",
       "        <tr>\n",
       "            <td>Brooklyn</td>\n",
       "        </tr>\n",
       "        <tr>\n",
       "            <td>Midtown</td>\n",
       "        </tr>\n",
       "        <tr>\n",
       "            <td>Queens</td>\n",
       "        </tr>\n",
       "        <tr>\n",
       "            <td>Downtown</td>\n",
       "        </tr>\n",
       "        <tr>\n",
       "            <td>Chinatown</td>\n",
       "        </tr>\n",
       "        <tr>\n",
       "            <td>Uptown</td>\n",
       "        </tr>\n",
       "    </tbody>\n",
       "</table>"
      ],
      "text/plain": [
       "[('Brooklyn',),\n",
       " ('Midtown',),\n",
       " ('Queens',),\n",
       " ('Downtown',),\n",
       " ('Chinatown',),\n",
       " ('Uptown',)]"
      ]
     },
     "execution_count": 5,
     "metadata": {},
     "output_type": "execute_result"
    }
   ],
   "source": [
    "%%sql\n",
    "SELECT DISTINCT NEIGHBOURHOOD FROM nomnom;"
   ]
  },
  {
   "cell_type": "code",
   "execution_count": 7,
   "id": "6db51151",
   "metadata": {},
   "outputs": [
    {
     "name": "stdout",
     "output_type": "stream",
     "text": [
      " * sqlite:///tmp6.db\n",
      "Done.\n"
     ]
    },
    {
     "data": {
      "text/html": [
       "<table>\n",
       "    <thead>\n",
       "        <tr>\n",
       "            <th>CUISINE</th>\n",
       "        </tr>\n",
       "    </thead>\n",
       "    <tbody>\n",
       "        <tr>\n",
       "            <td>Steak</td>\n",
       "        </tr>\n",
       "        <tr>\n",
       "            <td>Korean</td>\n",
       "        </tr>\n",
       "        <tr>\n",
       "            <td>Pizza</td>\n",
       "        </tr>\n",
       "        <tr>\n",
       "            <td>Chinese</td>\n",
       "        </tr>\n",
       "        <tr>\n",
       "            <td>American</td>\n",
       "        </tr>\n",
       "        <tr>\n",
       "            <td>Italian</td>\n",
       "        </tr>\n",
       "    </tbody>\n",
       "</table>"
      ],
      "text/plain": [
       "[('Steak',),\n",
       " ('Korean',),\n",
       " ('Pizza',),\n",
       " ('Chinese',),\n",
       " ('American',),\n",
       " ('Italian',)]"
      ]
     },
     "execution_count": 7,
     "metadata": {},
     "output_type": "execute_result"
    }
   ],
   "source": [
    "%%sql\n",
    "SELECT DISTINCT CUISINE FROM nomnom;"
   ]
  },
  {
   "cell_type": "code",
   "execution_count": 8,
   "id": "58037484",
   "metadata": {},
   "outputs": [
    {
     "name": "stdout",
     "output_type": "stream",
     "text": [
      " * sqlite:///tmp6.db\n",
      "Done.\n"
     ]
    },
    {
     "data": {
      "text/html": [
       "<table>\n",
       "    <thead>\n",
       "        <tr>\n",
       "            <th>NAME</th>\n",
       "            <th>NEIGHBOURHOOD</th>\n",
       "            <th>CUISINE</th>\n",
       "            <th>REVIEW</th>\n",
       "            <th>PRICE</th>\n",
       "            <th>HEALTH</th>\n",
       "        </tr>\n",
       "    </thead>\n",
       "    <tbody>\n",
       "        <tr>\n",
       "            <td>Lighthouse</td>\n",
       "            <td>Queens</td>\n",
       "            <td>Chinese</td>\n",
       "            <td>3.9</td>\n",
       "            <td>$</td>\n",
       "            <td>A</td>\n",
       "        </tr>\n",
       "        <tr>\n",
       "            <td>Marea</td>\n",
       "            <td>Chinatown</td>\n",
       "            <td>Chinese</td>\n",
       "            <td>3.0</td>\n",
       "            <td>$$</td>\n",
       "            <td></td>\n",
       "        </tr>\n",
       "    </tbody>\n",
       "</table>"
      ],
      "text/plain": [
       "[('Lighthouse', 'Queens', 'Chinese', 3.9, '$', 'A'),\n",
       " ('Marea', 'Chinatown', 'Chinese', 3.0, '$$', '')]"
      ]
     },
     "execution_count": 8,
     "metadata": {},
     "output_type": "execute_result"
    }
   ],
   "source": [
    "%%sql\n",
    "SELECT * FROM nomnom WHERE CUISINE = 'Chinese';"
   ]
  },
  {
   "cell_type": "code",
   "execution_count": 9,
   "id": "4d527b32",
   "metadata": {},
   "outputs": [
    {
     "name": "stdout",
     "output_type": "stream",
     "text": [
      " * sqlite:///tmp6.db\n",
      "Done.\n"
     ]
    },
    {
     "data": {
      "text/html": [
       "<table>\n",
       "    <thead>\n",
       "        <tr>\n",
       "            <th>NAME</th>\n",
       "            <th>NEIGHBOURHOOD</th>\n",
       "            <th>CUISINE</th>\n",
       "            <th>REVIEW</th>\n",
       "            <th>PRICE</th>\n",
       "            <th>HEALTH</th>\n",
       "        </tr>\n",
       "    </thead>\n",
       "    <tbody>\n",
       "        <tr>\n",
       "            <td>Peter</td>\n",
       "            <td>Brooklyn</td>\n",
       "            <td>Steak</td>\n",
       "            <td>4.4</td>\n",
       "            <td>$$$$</td>\n",
       "            <td>A</td>\n",
       "        </tr>\n",
       "        <tr>\n",
       "            <td>Pocha</td>\n",
       "            <td>Midtown</td>\n",
       "            <td>Pizza</td>\n",
       "            <td>4.0</td>\n",
       "            <td>$$$</td>\n",
       "            <td>B</td>\n",
       "        </tr>\n",
       "        <tr>\n",
       "            <td>Minca</td>\n",
       "            <td>Downtown</td>\n",
       "            <td>American</td>\n",
       "            <td>4.6</td>\n",
       "            <td>$$$</td>\n",
       "            <td></td>\n",
       "        </tr>\n",
       "        <tr>\n",
       "            <td>Dirty Candy</td>\n",
       "            <td>Uptown</td>\n",
       "            <td>Italian</td>\n",
       "            <td>4.9</td>\n",
       "            <td>$$$$</td>\n",
       "            <td>B</td>\n",
       "        </tr>\n",
       "    </tbody>\n",
       "</table>"
      ],
      "text/plain": [
       "[('Peter', 'Brooklyn', 'Steak', 4.4, '$$$$', 'A'),\n",
       " ('Pocha', 'Midtown', 'Pizza', 4.0, '$$$', 'B'),\n",
       " ('Minca', 'Downtown', 'American', 4.6, '$$$', ''),\n",
       " ('Dirty Candy', 'Uptown', 'Italian', 4.9, '$$$$', 'B')]"
      ]
     },
     "execution_count": 9,
     "metadata": {},
     "output_type": "execute_result"
    }
   ],
   "source": [
    "%%sql\n",
    "SELECT * FROM nomnom WHERE REVIEW >= 4;"
   ]
  },
  {
   "cell_type": "code",
   "execution_count": 10,
   "id": "5792c5d7",
   "metadata": {},
   "outputs": [
    {
     "name": "stdout",
     "output_type": "stream",
     "text": [
      " * sqlite:///tmp6.db\n",
      "Done.\n"
     ]
    },
    {
     "data": {
      "text/html": [
       "<table>\n",
       "    <thead>\n",
       "        <tr>\n",
       "            <th>NAME</th>\n",
       "            <th>NEIGHBOURHOOD</th>\n",
       "            <th>CUISINE</th>\n",
       "            <th>REVIEW</th>\n",
       "            <th>PRICE</th>\n",
       "            <th>HEALTH</th>\n",
       "        </tr>\n",
       "    </thead>\n",
       "    <tbody>\n",
       "    </tbody>\n",
       "</table>"
      ],
      "text/plain": [
       "[]"
      ]
     },
     "execution_count": 10,
     "metadata": {},
     "output_type": "execute_result"
    }
   ],
   "source": [
    "%%sql\n",
    "SELECT * FROM nomnom WHERE CUISINE = 'Italian' AND PRICE = '$$$';"
   ]
  },
  {
   "cell_type": "code",
   "execution_count": 11,
   "id": "9664b5ec",
   "metadata": {},
   "outputs": [
    {
     "name": "stdout",
     "output_type": "stream",
     "text": [
      " * sqlite:///tmp6.db\n",
      "Done.\n"
     ]
    },
    {
     "data": {
      "text/html": [
       "<table>\n",
       "    <thead>\n",
       "        <tr>\n",
       "            <th>NAME</th>\n",
       "            <th>NEIGHBOURHOOD</th>\n",
       "            <th>CUISINE</th>\n",
       "            <th>REVIEW</th>\n",
       "            <th>PRICE</th>\n",
       "            <th>HEALTH</th>\n",
       "        </tr>\n",
       "    </thead>\n",
       "    <tbody>\n",
       "        <tr>\n",
       "            <td>Dirty Candy</td>\n",
       "            <td>Uptown</td>\n",
       "            <td>Italian</td>\n",
       "            <td>4.9</td>\n",
       "            <td>$$$$</td>\n",
       "            <td>B</td>\n",
       "        </tr>\n",
       "    </tbody>\n",
       "</table>"
      ],
      "text/plain": [
       "[('Dirty Candy', 'Uptown', 'Italian', 4.9, '$$$$', 'B')]"
      ]
     },
     "execution_count": 11,
     "metadata": {},
     "output_type": "execute_result"
    }
   ],
   "source": [
    "%%sql\n",
    "SELECT * FROM nomnom WHERE NAME LIKE '%Candy%';"
   ]
  },
  {
   "cell_type": "code",
   "execution_count": 12,
   "id": "41f69c79",
   "metadata": {},
   "outputs": [
    {
     "name": "stdout",
     "output_type": "stream",
     "text": [
      " * sqlite:///tmp6.db\n",
      "Done.\n"
     ]
    },
    {
     "data": {
      "text/html": [
       "<table>\n",
       "    <thead>\n",
       "        <tr>\n",
       "            <th>NAME</th>\n",
       "            <th>NEIGHBOURHOOD</th>\n",
       "            <th>CUISINE</th>\n",
       "            <th>REVIEW</th>\n",
       "            <th>PRICE</th>\n",
       "            <th>HEALTH</th>\n",
       "        </tr>\n",
       "    </thead>\n",
       "    <tbody>\n",
       "        <tr>\n",
       "            <td>Jongro</td>\n",
       "            <td>Midtown</td>\n",
       "            <td>Korean</td>\n",
       "            <td>3.5</td>\n",
       "            <td>$$</td>\n",
       "            <td>A</td>\n",
       "        </tr>\n",
       "        <tr>\n",
       "            <td>Pocha</td>\n",
       "            <td>Midtown</td>\n",
       "            <td>Pizza</td>\n",
       "            <td>4.0</td>\n",
       "            <td>$$$</td>\n",
       "            <td>B</td>\n",
       "        </tr>\n",
       "        <tr>\n",
       "            <td>Minca</td>\n",
       "            <td>Downtown</td>\n",
       "            <td>American</td>\n",
       "            <td>4.6</td>\n",
       "            <td>$$$</td>\n",
       "            <td></td>\n",
       "        </tr>\n",
       "        <tr>\n",
       "            <td>Marea</td>\n",
       "            <td>Chinatown</td>\n",
       "            <td>Chinese</td>\n",
       "            <td>3.0</td>\n",
       "            <td>$$</td>\n",
       "            <td></td>\n",
       "        </tr>\n",
       "    </tbody>\n",
       "</table>"
      ],
      "text/plain": [
       "[('Jongro', 'Midtown', 'Korean', 3.5, '$$', 'A'),\n",
       " ('Pocha', 'Midtown', 'Pizza', 4.0, '$$$', 'B'),\n",
       " ('Minca', 'Downtown', 'American', 4.6, '$$$', ''),\n",
       " ('Marea', 'Chinatown', 'Chinese', 3.0, '$$', '')]"
      ]
     },
     "execution_count": 12,
     "metadata": {},
     "output_type": "execute_result"
    }
   ],
   "source": [
    "%%sql\n",
    "SELECT * FROM nomnom \n",
    "WHERE NEIGHBOURHOOD IN ('Midtown', 'Downtown', 'Chinatown');"
   ]
  },
  {
   "cell_type": "code",
   "execution_count": 13,
   "id": "2bb649e8",
   "metadata": {},
   "outputs": [
    {
     "name": "stdout",
     "output_type": "stream",
     "text": [
      " * sqlite:///tmp6.db\n",
      "Done.\n"
     ]
    },
    {
     "data": {
      "text/html": [
       "<table>\n",
       "    <thead>\n",
       "        <tr>\n",
       "            <th>NAME</th>\n",
       "            <th>NEIGHBOURHOOD</th>\n",
       "            <th>CUISINE</th>\n",
       "            <th>REVIEW</th>\n",
       "            <th>PRICE</th>\n",
       "            <th>HEALTH</th>\n",
       "        </tr>\n",
       "    </thead>\n",
       "    <tbody>\n",
       "        <tr>\n",
       "            <td>Dirty Candy</td>\n",
       "            <td>Uptown</td>\n",
       "            <td>Italian</td>\n",
       "            <td>4.9</td>\n",
       "            <td>$$$$</td>\n",
       "            <td>B</td>\n",
       "        </tr>\n",
       "        <tr>\n",
       "            <td>Minca</td>\n",
       "            <td>Downtown</td>\n",
       "            <td>American</td>\n",
       "            <td>4.6</td>\n",
       "            <td>$$$</td>\n",
       "            <td></td>\n",
       "        </tr>\n",
       "        <tr>\n",
       "            <td>Peter</td>\n",
       "            <td>Brooklyn</td>\n",
       "            <td>Steak</td>\n",
       "            <td>4.4</td>\n",
       "            <td>$$$$</td>\n",
       "            <td>A</td>\n",
       "        </tr>\n",
       "        <tr>\n",
       "            <td>Pocha</td>\n",
       "            <td>Midtown</td>\n",
       "            <td>Pizza</td>\n",
       "            <td>4.0</td>\n",
       "            <td>$$$</td>\n",
       "            <td>B</td>\n",
       "        </tr>\n",
       "    </tbody>\n",
       "</table>"
      ],
      "text/plain": [
       "[('Dirty Candy', 'Uptown', 'Italian', 4.9, '$$$$', 'B'),\n",
       " ('Minca', 'Downtown', 'American', 4.6, '$$$', ''),\n",
       " ('Peter', 'Brooklyn', 'Steak', 4.4, '$$$$', 'A'),\n",
       " ('Pocha', 'Midtown', 'Pizza', 4.0, '$$$', 'B')]"
      ]
     },
     "execution_count": 13,
     "metadata": {},
     "output_type": "execute_result"
    }
   ],
   "source": [
    "%%sql\n",
    "SELECT * FROM nomnom ORDER BY REVIEW DESC LIMIT 4;"
   ]
  },
  {
   "cell_type": "code",
   "execution_count": null,
   "id": "18d4c435",
   "metadata": {},
   "outputs": [],
   "source": []
  }
 ],
 "metadata": {
  "kernelspec": {
   "display_name": "Python 3 (ipykernel)",
   "language": "python",
   "name": "python3"
  },
  "language_info": {
   "codemirror_mode": {
    "name": "ipython",
    "version": 3
   },
   "file_extension": ".py",
   "mimetype": "text/x-python",
   "name": "python",
   "nbconvert_exporter": "python",
   "pygments_lexer": "ipython3",
   "version": "3.11.7"
  }
 },
 "nbformat": 4,
 "nbformat_minor": 5
}
