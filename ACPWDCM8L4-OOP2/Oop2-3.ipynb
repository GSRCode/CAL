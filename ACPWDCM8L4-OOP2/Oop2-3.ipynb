{
 "cells": [
  {
   "cell_type": "code",
   "execution_count": 1,
   "id": "f965ae12",
   "metadata": {},
   "outputs": [],
   "source": [
    "class Addition:\n",
    "    # Defininf a constructor\n",
    "    def __init__(self,x,y,z):\n",
    "        # with the help of self.xyz \n",
    "        # we are initializing instance variable\n",
    "        self.num1=x\n",
    "        self.num2=y\n",
    "        self.num3=z\n",
    "\n",
    "    def result(self):\n",
    "        self.num=self.num1+self.num2+self.num3\n",
    "        print('Output:',self.num)"
   ]
  },
  {
   "cell_type": "code",
   "execution_count": 2,
   "id": "9c6f82be",
   "metadata": {},
   "outputs": [
    {
     "name": "stdout",
     "output_type": "stream",
     "text": [
      "Enter 1st Number101\n",
      "Enter 2nd Number22\n",
      "Enter 3rd Number37\n",
      "Output: 160\n"
     ]
    }
   ],
   "source": [
    "# Here we create the object for call \n",
    "# which calls the constructor\n",
    "x = int(input(\"Enter 1st Number\"))\n",
    "y = int(input(\"Enter 2nd Number\"))\n",
    "z = int(input(\"Enter 3rd Number\"))\n",
    "Sum = Addition(x,y,z)\n",
    "\n",
    "# calling the instance method \n",
    "# using the object Sum\n",
    "Sum.result()"
   ]
  },
  {
   "cell_type": "code",
   "execution_count": null,
   "id": "3af2ef2c",
   "metadata": {},
   "outputs": [],
   "source": []
  }
 ],
 "metadata": {
  "kernelspec": {
   "display_name": "Python 3 (ipykernel)",
   "language": "python",
   "name": "python3"
  },
  "language_info": {
   "codemirror_mode": {
    "name": "ipython",
    "version": 3
   },
   "file_extension": ".py",
   "mimetype": "text/x-python",
   "name": "python",
   "nbconvert_exporter": "python",
   "pygments_lexer": "ipython3",
   "version": "3.9.7"
  }
 },
 "nbformat": 4,
 "nbformat_minor": 5
}
