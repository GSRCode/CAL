{
 "cells": [
  {
   "cell_type": "code",
   "execution_count": 1,
   "id": "244129e9",
   "metadata": {},
   "outputs": [],
   "source": [
    "class Employee:\n",
    "    # Initializing (Constructor)\n",
    "    def __init__(self):\n",
    "        print('Employee created.')\n",
    "        \n",
    "    # Deleting (Destructor)\n",
    "    def __del__(self):\n",
    "        print('Destructor called, Employee deleted.')"
   ]
  },
  {
   "cell_type": "code",
   "execution_count": 2,
   "id": "c00c36da",
   "metadata": {},
   "outputs": [
    {
     "name": "stdout",
     "output_type": "stream",
     "text": [
      "Employee created.\n",
      "Destructor called, Employee deleted.\n"
     ]
    }
   ],
   "source": [
    "obj = Employee()\n",
    "del obj"
   ]
  },
  {
   "cell_type": "code",
   "execution_count": null,
   "id": "930b41d4",
   "metadata": {},
   "outputs": [],
   "source": []
  }
 ],
 "metadata": {
  "kernelspec": {
   "display_name": "Python 3 (ipykernel)",
   "language": "python",
   "name": "python3"
  },
  "language_info": {
   "codemirror_mode": {
    "name": "ipython",
    "version": 3
   },
   "file_extension": ".py",
   "mimetype": "text/x-python",
   "name": "python",
   "nbconvert_exporter": "python",
   "pygments_lexer": "ipython3",
   "version": "3.9.7"
  }
 },
 "nbformat": 4,
 "nbformat_minor": 5
}
