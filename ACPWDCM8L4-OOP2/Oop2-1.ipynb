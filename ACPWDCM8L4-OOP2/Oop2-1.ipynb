{
 "cells": [
  {
   "cell_type": "code",
   "execution_count": null,
   "id": "244129e9",
   "metadata": {},
   "outputs": [],
   "source": [
    "class Employee:\n",
    "    # Initializing (Constructor)\n",
    "    def __init__(self):\n",
    "        print('Employee created.')\n",
    "        \n",
    "    # Deleting (Destructor)\n",
    "    def __del__(self):\n",
    "        print('Destructor called, Employee deleted.')"
   ]
  },
  {
   "cell_type": "code",
   "execution_count": null,
   "id": "c00c36da",
   "metadata": {},
   "outputs": [],
   "source": [
    "obj = Employee()\n",
    "del obj"
   ]
  },
  {
   "cell_type": "code",
   "execution_count": null,
   "id": "930b41d4",
   "metadata": {},
   "outputs": [],
   "source": []
  }
 ],
 "metadata": {
  "kernelspec": {
   "display_name": "Python 3 (ipykernel)",
   "language": "python",
   "name": "python3"
  },
  "language_info": {
   "codemirror_mode": {
    "name": "ipython",
    "version": 3
   },
   "file_extension": ".py",
   "mimetype": "text/x-python",
   "name": "python",
   "nbconvert_exporter": "python",
   "pygments_lexer": "ipython3",
   "version": "3.11.7"
  }
 },
 "nbformat": 4,
 "nbformat_minor": 5
}
