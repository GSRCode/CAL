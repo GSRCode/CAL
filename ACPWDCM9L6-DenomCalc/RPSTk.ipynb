{
 "cells": [
  {
   "cell_type": "code",
   "execution_count": 16,
   "id": "e3611248",
   "metadata": {},
   "outputs": [],
   "source": [
    "# Import Required Library\n",
    "from tkinter import *\n",
    "import random\n"
   ]
  },
  {
   "cell_type": "code",
   "execution_count": 17,
   "id": "527e0318",
   "metadata": {},
   "outputs": [],
   "source": [
    "# Computer Value\n",
    "computer_value = {\n",
    "    \"0\":\"Rock\",\n",
    "    \"1\":\"Paper\",\n",
    "    \"2\":\"Scissor\"\n",
    "}\n",
    "l1 = None\n",
    "l2 = None\n",
    "l3 = None\n",
    "l4 = None\n",
    "b1 = None\n",
    "b2 = None\n",
    "b3 = None"
   ]
  },
  {
   "cell_type": "code",
   "execution_count": 18,
   "id": "1369728a",
   "metadata": {},
   "outputs": [],
   "source": [
    "# Reset The Game\n",
    "def reset_game():\n",
    "    b1[\"state\"] = \"active\"\n",
    "    b2[\"state\"] = \"active\"\n",
    "    b3[\"state\"] = \"active\"\n",
    "    l1.config(text = \"Player\")\n",
    "    l3.config(text = \"Computer\")\n",
    "    l4.config(text = \"\")"
   ]
  },
  {
   "cell_type": "code",
   "execution_count": 19,
   "id": "184e4561",
   "metadata": {},
   "outputs": [],
   "source": [
    "# Disable the Button\n",
    "def button_disable():\n",
    "    b1[\"state\"] = \"disable\"\n",
    "    b2[\"state\"] = \"disable\"\n",
    "    b3[\"state\"] = \"disable\""
   ]
  },
  {
   "cell_type": "code",
   "execution_count": 20,
   "id": "9cc8b545",
   "metadata": {},
   "outputs": [],
   "source": [
    "# If player selected rock\n",
    "def isrock():\n",
    "    c_v = computer_value[str(random.randint(0,2))]\n",
    "    if c_v == \"Rock\":\n",
    "        match_result = \"Match Draw\"\n",
    "    elif c_v==\"Scissor\":\n",
    "        match_result = \"Player Win\"\n",
    "    else:\n",
    "        match_result = \"Computer Win\"\n",
    "    l4.config(text = match_result)\n",
    "    l1.config(text = \"Rock\")\n",
    "    l3.config(text = c_v)\n",
    "    button_disable()"
   ]
  },
  {
   "cell_type": "code",
   "execution_count": 21,
   "id": "00ed3bcd",
   "metadata": {},
   "outputs": [],
   "source": [
    "# If player selected paper\n",
    "def ispaper():\n",
    "    c_v = computer_value[str(random.randint(0, 2))]\n",
    "    if c_v == \"Paper\":\n",
    "        match_result = \"Match Draw\"\n",
    "    elif c_v==\"Scissor\":\n",
    "        match_result = \"Computer Win\"\n",
    "    else:\n",
    "        match_result = \"Player Win\"\n",
    "    \n",
    "    l4.config(text = match_result)\n",
    "    l1.config(text = \"Paper\")\n",
    "    l3.config(text = c_v)\n",
    "    button_disable()"
   ]
  },
  {
   "cell_type": "code",
   "execution_count": 22,
   "id": "c70703df",
   "metadata": {},
   "outputs": [],
   "source": [
    "# If player selected scissor\n",
    "def isscissor():\n",
    "    c_v = computer_value[str(random.randint(0,2))]\n",
    "    if c_v == \"Rock\":\n",
    "        match_result = \"Computer Win\"\n",
    "    elif c_v == \"Scissor\":\n",
    "        match_result = \"Match Draw\"\n",
    "    else:\n",
    "        match_result = \"Player Win\"\n",
    "        \n",
    "    l4.config(text = match_result)\n",
    "    l1.config(text = \"Scissor\")\n",
    "    l3.config(text = c_v)\n",
    "    \n",
    "    button_disable()\n"
   ]
  },
  {
   "cell_type": "code",
   "execution_count": 23,
   "id": "3e41627b",
   "metadata": {},
   "outputs": [],
   "source": [
    "\n",
    "# Create Object\n",
    "root = Tk()\n",
    "\n",
    "# Set geometry\n",
    "root.geometry(\"300x300\")\n",
    "\n",
    "# Set title\n",
    "root.title(\"Rock Paper Scissor Game\")\n",
    "root.attributes('-fullscreen', True)\n",
    "\n",
    "\n",
    "# Add Labels, Frames and Button\n",
    "Label(root, text = \"Rock Paper Scissor\", font = \"normal 20 bold\", fg = \"blue\").pack(pady = 20)\n",
    "\n",
    "frame = Frame(root)\n",
    "frame.pack()\n",
    "\n",
    "l1 = Label(frame, text = \"Player \", font = 10)\n",
    "\n",
    "l2 = Label(frame, text = \"VS\", font = \"normal 10 bold\")\n",
    "\n",
    "l3 = Label(frame, text = \"Computer\", font = 10)\n",
    "\n",
    "l1.pack(side = LEFT)\n",
    "l2.pack(side = LEFT)\n",
    "l3.pack()\n",
    "\n",
    "l4 = Label(root, text = \"\", font = \"normal 20 bold\",\n",
    "bg = \"white\", width = 15 , borderwidth = 2, relief = \"solid\")\n",
    "l4.pack(pady = 20)\n",
    "\n",
    "frame1 = Frame(root)\n",
    "frame1.pack()\n",
    "\n",
    "b1 = Button(frame1, text = \"Rock\", font = 10, width = 7, command = isrock)\n",
    "\n",
    "b2 = Button(frame1, text = \"Paper \", font = 10, width = 7, command = ispaper)\n",
    "\n",
    "b3 = Button(frame1, text = \"Scissor\", font = 10, width = 7, command = isscissor)\n",
    "\n",
    "b1.pack(side = LEFT, padx = 10)\n",
    "b2.pack(side = LEFT,padx = 10)\n",
    "b3.pack(padx = 10)\n",
    "\n",
    "Button(root, text = \"Reset Game\", font = 10, fg = \"red\", bg = \"black\", command = reset_game).pack(pady = 20)\n",
    "\n",
    "# Excecute Tkinter\n",
    "root.mainloop()"
   ]
  },
  {
   "cell_type": "code",
   "execution_count": null,
   "id": "606f7007",
   "metadata": {},
   "outputs": [],
   "source": []
  }
 ],
 "metadata": {
  "kernelspec": {
   "display_name": "Python 3 (ipykernel)",
   "language": "python",
   "name": "python3"
  },
  "language_info": {
   "codemirror_mode": {
    "name": "ipython",
    "version": 3
   },
   "file_extension": ".py",
   "mimetype": "text/x-python",
   "name": "python",
   "nbconvert_exporter": "python",
   "pygments_lexer": "ipython3",
   "version": "3.11.7"
  }
 },
 "nbformat": 4,
 "nbformat_minor": 5
}
