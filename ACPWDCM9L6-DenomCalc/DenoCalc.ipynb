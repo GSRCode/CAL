{
 "cells": [
  {
   "cell_type": "code",
   "execution_count": 1,
   "id": "34cc8849",
   "metadata": {},
   "outputs": [],
   "source": [
    "from tkinter import *\n",
    "from tkinter import messagebox\n",
    "from PIL import Image, ImageTk"
   ]
  },
  {
   "cell_type": "code",
   "execution_count": 2,
   "id": "76578674",
   "metadata": {},
   "outputs": [],
   "source": [
    "entry = None\n",
    "t1 = None\n",
    "t2 = None\n",
    "t3 = None"
   ]
  },
  {
   "cell_type": "code",
   "execution_count": 3,
   "id": "8dcef20b",
   "metadata": {},
   "outputs": [],
   "source": [
    "def calculator():\n",
    "    try:\n",
    "        global amount\n",
    "        amount = int(entry.get())\n",
    "        note2000 = amount // 2000\n",
    "        amount %= 2000\n",
    "        note500 = amount // 500\n",
    "        amount %= 500\n",
    "        note100 = amount // 100\n",
    "\n",
    "        t1.delete(0, END)\n",
    "        t2.delete(0, END)\n",
    "        t3.delete(0, END)\n",
    "\n",
    "        t1.insert(END, str(note2000))\n",
    "        t2.insert(END, str(note500))\n",
    "        t3.insert(END, str(note100))\n",
    "    except ValueError:\n",
    "        messagebox.showerror(\"Error\", \"Please enter a valid number.\")"
   ]
  },
  {
   "cell_type": "code",
   "execution_count": 4,
   "id": "d60154da",
   "metadata": {},
   "outputs": [],
   "source": [
    "# Function for opening new/top window\n",
    "def topwin():\n",
    "    global entry, t1, t2, t3\n",
    "    \n",
    "    top = Toplevel()\n",
    "    top.title(\"Denominations Calculator\")\n",
    "    top.configure(bg='light grey')\n",
    "    top.geometry(\"600x350+50+50\")\n",
    "    \n",
    "\n",
    "    label = Label(top, text=\"Enter total amount\", bg='light grey')\n",
    "    entry = Entry(top)\n",
    "    lbl = Label(top, text=\"Here are number of notes for each denomination\", bg='light grey')\n",
    "\n",
    "    l1 = Label(top, text=\"2000\", bg='light grey')\n",
    "    l2 = Label(top, text=\"500\", bg='light grey')\n",
    "    l3 = Label(top, text=\"100\", bg='light grey')\n",
    "\n",
    "    t1 = Entry(top)\n",
    "    t2 = Entry(top)\n",
    "    t3 = Entry(top)\n",
    "\n",
    "    btn = Button(top, text='Calculate', command=calculator, bg='brown', fg='white')\n",
    "\n",
    "    # Centering Widgets in the Top Window\n",
    "    label.place(x=230, y=50   )\n",
    "    entry.place(x=200, y=80   )\n",
    "    btn.place(x=240, y=120   )\n",
    "    lbl.place(x=140, y=170   )\n",
    "\n",
    "    l1.place(x=180, y=200   )\n",
    "    l2.place(x=180, y=230   )\n",
    "    l3.place(x=180, y=260   )\n",
    "\n",
    "    t1.place(x=270, y=200   )\n",
    "    t2.place(x=270, y=230   )\n",
    "    t3.place(x=270, y=260)\n",
    "\n",
    "    top.mainloop()"
   ]
  },
  {
   "cell_type": "code",
   "execution_count": 5,
   "id": "44ea0e23",
   "metadata": {},
   "outputs": [],
   "source": [
    "# Setting up Main Window\n",
    "root = Tk()\n",
    "root.title('Denomination Counter')\n",
    "root.configure(bg='light blue')\n",
    "root.geometry('650x400')\n",
    "\n",
    "# Adding Image and Labels in the Main Window\n",
    "upload = Image.open(\"app.jpeg\")\n",
    "# Resize the image using resize() method\n",
    "upload = upload.resize((300, 300))\n",
    "image = ImageTk.PhotoImage(upload)\n",
    "label = Label(root, image=image, bg='light blue')\n",
    "label.place(x=180, y=20)\n",
    "\n",
    "label1 = Label(root,\n",
    "               text=\"Hey User! Welcome to Denomination Counter Application.\",\n",
    "               bg='light blue')\n",
    "label1.place(relx=0.5, y=340, anchor=CENTER)\n",
    "\n",
    "# Function to display a messagebox and proceed if OK is clicked\n",
    "def msg():\n",
    "    MsgBox = messagebox.showinfo(\n",
    "        \"Alert\", \"Do you want to calculate the denomination count?\")\n",
    "    if MsgBox == 'ok':\n",
    "        topwin()\n",
    "\n",
    "# Adding Buttons to the main window\n",
    "button1 = Button(root,\n",
    "                 text=\"Let's get started!\",\n",
    "                 command=msg,\n",
    "                 bg='brown',\n",
    "                 fg='white')\n",
    "button1.place(x=260, y=360)\n",
    "\n",
    "root.mainloop()"
   ]
  },
  {
   "cell_type": "code",
   "execution_count": null,
   "id": "56ed6610",
   "metadata": {},
   "outputs": [],
   "source": []
  }
 ],
 "metadata": {
  "kernelspec": {
   "display_name": "Python 3 (ipykernel)",
   "language": "python",
   "name": "python3"
  },
  "language_info": {
   "codemirror_mode": {
    "name": "ipython",
    "version": 3
   },
   "file_extension": ".py",
   "mimetype": "text/x-python",
   "name": "python",
   "nbconvert_exporter": "python",
   "pygments_lexer": "ipython3",
   "version": "3.11.7"
  }
 },
 "nbformat": 4,
 "nbformat_minor": 5
}
