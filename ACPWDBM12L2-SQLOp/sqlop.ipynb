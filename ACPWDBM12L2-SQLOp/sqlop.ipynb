{
 "cells": [
  {
   "cell_type": "code",
   "execution_count": 1,
   "id": "9e7e1c3c",
   "metadata": {},
   "outputs": [],
   "source": [
    "import pandas as pd\n",
    "import sqlite3\n",
    "tmpdb = sqlite3.connect('tmp2.db')\n",
    "%load_ext sql\n",
    "%sql sqlite:///tmp2.db\n",
    "%config SqlMagic.style = '_DEPRECATED_DEFAULT'"
   ]
  },
  {
   "cell_type": "code",
   "execution_count": 2,
   "id": "7294593b",
   "metadata": {},
   "outputs": [
    {
     "name": "stdout",
     "output_type": "stream",
     "text": [
      " * sqlite:///tmp2.db\n",
      "Done.\n",
      "6 rows affected.\n"
     ]
    },
    {
     "data": {
      "text/plain": [
       "[]"
      ]
     },
     "execution_count": 2,
     "metadata": {},
     "output_type": "execute_result"
    }
   ],
   "source": [
    "%%sql \n",
    "\n",
    "CREATE TABLE IF NOT EXISTS STUDENT (\n",
    "  ROLL_NO TEXT PRIMARY KEY,\n",
    "  NAME TEXT NOT NULL,\n",
    "  ADDRESS TEXT,\n",
    "  PHONE TEXT,\n",
    "  AGE INTEGER\n",
    ");\n",
    "\n",
    "INSERT INTO STUDENT (ROLL_NO, NAME, ADDRESS, PHONE, AGE) VALUES\n",
    "  ('1', 'RAM', 'DELHI', '*****', 18),\n",
    "  ('2', 'RAMESH', 'GURGAON', '*****', 18),\n",
    "  ('3', 'SUJIT', 'ROHTAK', '*****', 20),\n",
    "  ('4', 'SURESH', 'DELHI', '*****', 18),\n",
    "  ('5', 'AMAN', 'ROHTAK', '*****', 20),\n",
    "  ('6', 'HARSH', 'GURGAON', '*****', 18);"
   ]
  },
  {
   "cell_type": "code",
   "execution_count": 3,
   "id": "4369abeb",
   "metadata": {},
   "outputs": [
    {
     "name": "stdout",
     "output_type": "stream",
     "text": [
      " * sqlite:///tmp2.db\n",
      "Done.\n"
     ]
    },
    {
     "data": {
      "text/html": [
       "<table>\n",
       "    <thead>\n",
       "        <tr>\n",
       "            <th>ROLL_NO</th>\n",
       "            <th>NAME</th>\n",
       "            <th>ADDRESS</th>\n",
       "            <th>PHONE</th>\n",
       "            <th>AGE</th>\n",
       "        </tr>\n",
       "    </thead>\n",
       "    <tbody>\n",
       "        <tr>\n",
       "            <td>1</td>\n",
       "            <td>RAM</td>\n",
       "            <td>DELHI</td>\n",
       "            <td>*****</td>\n",
       "            <td>18</td>\n",
       "        </tr>\n",
       "        <tr>\n",
       "            <td>2</td>\n",
       "            <td>RAMESH</td>\n",
       "            <td>GURGAON</td>\n",
       "            <td>*****</td>\n",
       "            <td>18</td>\n",
       "        </tr>\n",
       "        <tr>\n",
       "            <td>3</td>\n",
       "            <td>SUJIT</td>\n",
       "            <td>ROHTAK</td>\n",
       "            <td>*****</td>\n",
       "            <td>20</td>\n",
       "        </tr>\n",
       "        <tr>\n",
       "            <td>4</td>\n",
       "            <td>SURESH</td>\n",
       "            <td>DELHI</td>\n",
       "            <td>*****</td>\n",
       "            <td>18</td>\n",
       "        </tr>\n",
       "        <tr>\n",
       "            <td>5</td>\n",
       "            <td>AMAN</td>\n",
       "            <td>ROHTAK</td>\n",
       "            <td>*****</td>\n",
       "            <td>20</td>\n",
       "        </tr>\n",
       "        <tr>\n",
       "            <td>6</td>\n",
       "            <td>HARSH</td>\n",
       "            <td>GURGAON</td>\n",
       "            <td>*****</td>\n",
       "            <td>18</td>\n",
       "        </tr>\n",
       "    </tbody>\n",
       "</table>"
      ],
      "text/plain": [
       "[('1', 'RAM', 'DELHI', '*****', 18),\n",
       " ('2', 'RAMESH', 'GURGAON', '*****', 18),\n",
       " ('3', 'SUJIT', 'ROHTAK', '*****', 20),\n",
       " ('4', 'SURESH', 'DELHI', '*****', 18),\n",
       " ('5', 'AMAN', 'ROHTAK', '*****', 20),\n",
       " ('6', 'HARSH', 'GURGAON', '*****', 18)]"
      ]
     },
     "execution_count": 3,
     "metadata": {},
     "output_type": "execute_result"
    }
   ],
   "source": [
    "%%sql \n",
    "\n",
    "SELECT * FROM STUDENT"
   ]
  },
  {
   "cell_type": "code",
   "execution_count": 4,
   "id": "4f226f79",
   "metadata": {},
   "outputs": [
    {
     "name": "stdout",
     "output_type": "stream",
     "text": [
      " * sqlite:///tmp2.db\n",
      "Done.\n"
     ]
    },
    {
     "data": {
      "text/html": [
       "<table>\n",
       "    <thead>\n",
       "        <tr>\n",
       "            <th>ROLL_NO</th>\n",
       "            <th>NAME</th>\n",
       "            <th>ADDRESS</th>\n",
       "            <th>PHONE</th>\n",
       "            <th>AGE</th>\n",
       "        </tr>\n",
       "    </thead>\n",
       "    <tbody>\n",
       "        <tr>\n",
       "            <td>1</td>\n",
       "            <td>RAM</td>\n",
       "            <td>DELHI</td>\n",
       "            <td>*****</td>\n",
       "            <td>18</td>\n",
       "        </tr>\n",
       "        <tr>\n",
       "            <td>4</td>\n",
       "            <td>SURESH</td>\n",
       "            <td>DELHI</td>\n",
       "            <td>*****</td>\n",
       "            <td>18</td>\n",
       "        </tr>\n",
       "    </tbody>\n",
       "</table>"
      ],
      "text/plain": [
       "[('1', 'RAM', 'DELHI', '*****', 18), ('4', 'SURESH', 'DELHI', '*****', 18)]"
      ]
     },
     "execution_count": 4,
     "metadata": {},
     "output_type": "execute_result"
    }
   ],
   "source": [
    "%%sql\n",
    "\n",
    "SELECT * FROM STUDENT WHERE AGE = 18 AND ADDRESS = 'DELHI';"
   ]
  },
  {
   "cell_type": "code",
   "execution_count": 5,
   "id": "cd4923a9",
   "metadata": {},
   "outputs": [
    {
     "name": "stdout",
     "output_type": "stream",
     "text": [
      " * sqlite:///tmp2.db\n",
      "Done.\n"
     ]
    },
    {
     "data": {
      "text/html": [
       "<table>\n",
       "    <thead>\n",
       "        <tr>\n",
       "            <th>ROLL_NO</th>\n",
       "            <th>NAME</th>\n",
       "            <th>ADDRESS</th>\n",
       "            <th>PHONE</th>\n",
       "            <th>AGE</th>\n",
       "        </tr>\n",
       "    </thead>\n",
       "    <tbody>\n",
       "        <tr>\n",
       "            <td>1</td>\n",
       "            <td>RAM</td>\n",
       "            <td>DELHI</td>\n",
       "            <td>*****</td>\n",
       "            <td>18</td>\n",
       "        </tr>\n",
       "    </tbody>\n",
       "</table>"
      ],
      "text/plain": [
       "[('1', 'RAM', 'DELHI', '*****', 18)]"
      ]
     },
     "execution_count": 5,
     "metadata": {},
     "output_type": "execute_result"
    }
   ],
   "source": [
    "%%sql \n",
    "\n",
    "SELECT * FROM STUDENT WHERE AGE = 18 AND NAME = 'RAM';"
   ]
  },
  {
   "cell_type": "code",
   "execution_count": 6,
   "id": "abcc91c7",
   "metadata": {},
   "outputs": [
    {
     "name": "stdout",
     "output_type": "stream",
     "text": [
      " * sqlite:///tmp2.db\n",
      "Done.\n"
     ]
    },
    {
     "data": {
      "text/html": [
       "<table>\n",
       "    <thead>\n",
       "        <tr>\n",
       "            <th>ROLL_NO</th>\n",
       "            <th>NAME</th>\n",
       "            <th>ADDRESS</th>\n",
       "            <th>PHONE</th>\n",
       "            <th>AGE</th>\n",
       "        </tr>\n",
       "    </thead>\n",
       "    <tbody>\n",
       "        <tr>\n",
       "            <td>1</td>\n",
       "            <td>RAM</td>\n",
       "            <td>DELHI</td>\n",
       "            <td>*****</td>\n",
       "            <td>18</td>\n",
       "        </tr>\n",
       "        <tr>\n",
       "            <td>3</td>\n",
       "            <td>SUJIT</td>\n",
       "            <td>ROHTAK</td>\n",
       "            <td>*****</td>\n",
       "            <td>20</td>\n",
       "        </tr>\n",
       "    </tbody>\n",
       "</table>"
      ],
      "text/plain": [
       "[('1', 'RAM', 'DELHI', '*****', 18), ('3', 'SUJIT', 'ROHTAK', '*****', 20)]"
      ]
     },
     "execution_count": 6,
     "metadata": {},
     "output_type": "execute_result"
    }
   ],
   "source": [
    "%%sql \n",
    "\n",
    "SELECT * FROM STUDENT WHERE NAME = 'RAM' OR NAME = 'SUJIT';"
   ]
  },
  {
   "cell_type": "code",
   "execution_count": 7,
   "id": "8d223c0f",
   "metadata": {},
   "outputs": [
    {
     "name": "stdout",
     "output_type": "stream",
     "text": [
      " * sqlite:///tmp2.db\n",
      "Done.\n"
     ]
    },
    {
     "data": {
      "text/html": [
       "<table>\n",
       "    <thead>\n",
       "        <tr>\n",
       "            <th>ROLL_NO</th>\n",
       "            <th>NAME</th>\n",
       "            <th>ADDRESS</th>\n",
       "            <th>PHONE</th>\n",
       "            <th>AGE</th>\n",
       "        </tr>\n",
       "    </thead>\n",
       "    <tbody>\n",
       "        <tr>\n",
       "            <td>1</td>\n",
       "            <td>RAM</td>\n",
       "            <td>DELHI</td>\n",
       "            <td>*****</td>\n",
       "            <td>18</td>\n",
       "        </tr>\n",
       "        <tr>\n",
       "            <td>3</td>\n",
       "            <td>SUJIT</td>\n",
       "            <td>ROHTAK</td>\n",
       "            <td>*****</td>\n",
       "            <td>20</td>\n",
       "        </tr>\n",
       "        <tr>\n",
       "            <td>5</td>\n",
       "            <td>AMAN</td>\n",
       "            <td>ROHTAK</td>\n",
       "            <td>*****</td>\n",
       "            <td>20</td>\n",
       "        </tr>\n",
       "    </tbody>\n",
       "</table>"
      ],
      "text/plain": [
       "[('1', 'RAM', 'DELHI', '*****', 18),\n",
       " ('3', 'SUJIT', 'ROHTAK', '*****', 20),\n",
       " ('5', 'AMAN', 'ROHTAK', '*****', 20)]"
      ]
     },
     "execution_count": 7,
     "metadata": {},
     "output_type": "execute_result"
    }
   ],
   "source": [
    "%%sql\n",
    "\n",
    "SELECT * FROM STUDENT WHERE NAME = 'RAM' OR AGE = 20;"
   ]
  },
  {
   "cell_type": "code",
   "execution_count": 8,
   "id": "3a918911",
   "metadata": {},
   "outputs": [
    {
     "name": "stdout",
     "output_type": "stream",
     "text": [
      " * sqlite:///tmp2.db\n",
      "Done.\n"
     ]
    },
    {
     "data": {
      "text/html": [
       "<table>\n",
       "    <thead>\n",
       "        <tr>\n",
       "            <th>ROLL_NO</th>\n",
       "            <th>NAME</th>\n",
       "            <th>ADDRESS</th>\n",
       "            <th>PHONE</th>\n",
       "            <th>AGE</th>\n",
       "        </tr>\n",
       "    </thead>\n",
       "    <tbody>\n",
       "        <tr>\n",
       "            <td>1</td>\n",
       "            <td>RAM</td>\n",
       "            <td>DELHI</td>\n",
       "            <td>*****</td>\n",
       "            <td>18</td>\n",
       "        </tr>\n",
       "        <tr>\n",
       "            <td>2</td>\n",
       "            <td>RAMESH</td>\n",
       "            <td>GURGAON</td>\n",
       "            <td>*****</td>\n",
       "            <td>18</td>\n",
       "        </tr>\n",
       "    </tbody>\n",
       "</table>"
      ],
      "text/plain": [
       "[('1', 'RAM', 'DELHI', '*****', 18), ('2', 'RAMESH', 'GURGAON', '*****', 18)]"
      ]
     },
     "execution_count": 8,
     "metadata": {},
     "output_type": "execute_result"
    }
   ],
   "source": [
    "%%sql\n",
    "\n",
    "SELECT * FROM STUDENT WHERE AGE = 18 AND (NAME = 'RAM' OR NAME = 'RAMESH');"
   ]
  },
  {
   "cell_type": "code",
   "execution_count": 9,
   "id": "c8240bf2",
   "metadata": {},
   "outputs": [
    {
     "name": "stdout",
     "output_type": "stream",
     "text": [
      " * sqlite:///tmp2.db\n",
      "Done.\n"
     ]
    },
    {
     "data": {
      "text/plain": [
       "[]"
      ]
     },
     "execution_count": 9,
     "metadata": {},
     "output_type": "execute_result"
    }
   ],
   "source": [
    "%%sql\n",
    "\n",
    "CREATE TABLE IF NOT EXISTS PRODUCT(\n",
    "  PRO_ID TEXT PRIMARY KEY,\n",
    "  PRO_NAME TEXT,\n",
    "  PRO_PRICE numeric(9,2),\n",
    "  PRO_COM TEXT\n",
    ");"
   ]
  },
  {
   "cell_type": "code",
   "execution_count": 10,
   "id": "f6ae0b22",
   "metadata": {},
   "outputs": [
    {
     "name": "stdout",
     "output_type": "stream",
     "text": [
      " * sqlite:///tmp2.db\n",
      "10 rows affected.\n"
     ]
    },
    {
     "data": {
      "text/plain": [
       "[]"
      ]
     },
     "execution_count": 10,
     "metadata": {},
     "output_type": "execute_result"
    }
   ],
   "source": [
    "%%sql\n",
    "\n",
    "INSERT INTO PRODUCT(PRO_ID,PRO_NAME,PRO_PRICE,PRO_COM)\n",
    "VALUES\n",
    "  (\"101\",\"MOTHER BOARD\",3200.00,\"15\"),\n",
    "  (\"102\",\"KEY BOARD\",450.00,\"16\"),\n",
    "  (\"103\",\"ZIP DRIVE\",250.00,\"14\"),\n",
    "  (\"104\",\"SPEAKER\",550.00,\"16\"),\n",
    "  (\"105\",\"MONITOR\",5000.00,\"11\"),\n",
    "  (\"106\",\"DVD DRIVE\",900.00,\"12\"),\n",
    "  (\"107\",\"CD DRIVE\",800.00,\"12\"),\n",
    "  (\"108\",\"PRINTER\",2600.00,\"13\"),\n",
    "  (\"109\",\"REFILL CARTRIDGE\",350.00,\"13\"),\n",
    "  (\"110\",\"MOUSE\",250.00,\"12\");"
   ]
  },
  {
   "cell_type": "code",
   "execution_count": 11,
   "id": "65741e18",
   "metadata": {},
   "outputs": [
    {
     "name": "stdout",
     "output_type": "stream",
     "text": [
      " * sqlite:///tmp2.db\n",
      "Done.\n"
     ]
    },
    {
     "data": {
      "text/html": [
       "<table>\n",
       "    <thead>\n",
       "        <tr>\n",
       "            <th>PRO_ID</th>\n",
       "            <th>PRO_NAME</th>\n",
       "            <th>PRO_PRICE</th>\n",
       "            <th>PRO_COM</th>\n",
       "        </tr>\n",
       "    </thead>\n",
       "    <tbody>\n",
       "        <tr>\n",
       "            <td>101</td>\n",
       "            <td>MOTHER BOARD</td>\n",
       "            <td>3200</td>\n",
       "            <td>15</td>\n",
       "        </tr>\n",
       "        <tr>\n",
       "            <td>102</td>\n",
       "            <td>KEY BOARD</td>\n",
       "            <td>450</td>\n",
       "            <td>16</td>\n",
       "        </tr>\n",
       "        <tr>\n",
       "            <td>103</td>\n",
       "            <td>ZIP DRIVE</td>\n",
       "            <td>250</td>\n",
       "            <td>14</td>\n",
       "        </tr>\n",
       "        <tr>\n",
       "            <td>104</td>\n",
       "            <td>SPEAKER</td>\n",
       "            <td>550</td>\n",
       "            <td>16</td>\n",
       "        </tr>\n",
       "        <tr>\n",
       "            <td>105</td>\n",
       "            <td>MONITOR</td>\n",
       "            <td>5000</td>\n",
       "            <td>11</td>\n",
       "        </tr>\n",
       "        <tr>\n",
       "            <td>106</td>\n",
       "            <td>DVD DRIVE</td>\n",
       "            <td>900</td>\n",
       "            <td>12</td>\n",
       "        </tr>\n",
       "        <tr>\n",
       "            <td>107</td>\n",
       "            <td>CD DRIVE</td>\n",
       "            <td>800</td>\n",
       "            <td>12</td>\n",
       "        </tr>\n",
       "        <tr>\n",
       "            <td>108</td>\n",
       "            <td>PRINTER</td>\n",
       "            <td>2600</td>\n",
       "            <td>13</td>\n",
       "        </tr>\n",
       "        <tr>\n",
       "            <td>109</td>\n",
       "            <td>REFILL CARTRIDGE</td>\n",
       "            <td>350</td>\n",
       "            <td>13</td>\n",
       "        </tr>\n",
       "        <tr>\n",
       "            <td>110</td>\n",
       "            <td>MOUSE</td>\n",
       "            <td>250</td>\n",
       "            <td>12</td>\n",
       "        </tr>\n",
       "    </tbody>\n",
       "</table>"
      ],
      "text/plain": [
       "[('101', 'MOTHER BOARD', 3200, '15'),\n",
       " ('102', 'KEY BOARD', 450, '16'),\n",
       " ('103', 'ZIP DRIVE', 250, '14'),\n",
       " ('104', 'SPEAKER', 550, '16'),\n",
       " ('105', 'MONITOR', 5000, '11'),\n",
       " ('106', 'DVD DRIVE', 900, '12'),\n",
       " ('107', 'CD DRIVE', 800, '12'),\n",
       " ('108', 'PRINTER', 2600, '13'),\n",
       " ('109', 'REFILL CARTRIDGE', 350, '13'),\n",
       " ('110', 'MOUSE', 250, '12')]"
      ]
     },
     "execution_count": 11,
     "metadata": {},
     "output_type": "execute_result"
    }
   ],
   "source": [
    "%%sql\n",
    "\n",
    "SELECT * FROM PRODUCT"
   ]
  },
  {
   "cell_type": "code",
   "execution_count": 12,
   "id": "9cd56160",
   "metadata": {},
   "outputs": [
    {
     "name": "stdout",
     "output_type": "stream",
     "text": [
      " * sqlite:///tmp2.db\n",
      "Done.\n"
     ]
    },
    {
     "data": {
      "text/html": [
       "<table>\n",
       "    <thead>\n",
       "        <tr>\n",
       "            <th>PRO_NAME</th>\n",
       "            <th>PRO_PRICE</th>\n",
       "        </tr>\n",
       "    </thead>\n",
       "    <tbody>\n",
       "        <tr>\n",
       "            <td>ZIP DRIVE</td>\n",
       "            <td>250</td>\n",
       "        </tr>\n",
       "        <tr>\n",
       "            <td>MOUSE</td>\n",
       "            <td>250</td>\n",
       "        </tr>\n",
       "    </tbody>\n",
       "</table>"
      ],
      "text/plain": [
       "[('ZIP DRIVE', 250), ('MOUSE', 250)]"
      ]
     },
     "execution_count": 12,
     "metadata": {},
     "output_type": "execute_result"
    }
   ],
   "source": [
    "%%sql\n",
    "\n",
    "SELECT pro_name, pro_price\n",
    "FROM PRODUCT\n",
    "WHERE pro_price = (SELECT MIN(pro_price) FROM PRODUCT);"
   ]
  },
  {
   "cell_type": "code",
   "execution_count": 13,
   "id": "86dfa2a1",
   "metadata": {},
   "outputs": [
    {
     "name": "stdout",
     "output_type": "stream",
     "text": [
      " * sqlite:///tmp2.db\n",
      "Done.\n"
     ]
    },
    {
     "data": {
      "text/html": [
       "<table>\n",
       "    <thead>\n",
       "        <tr>\n",
       "            <th>PRO_NAME</th>\n",
       "            <th>PRO_PRICE</th>\n",
       "        </tr>\n",
       "    </thead>\n",
       "    <tbody>\n",
       "        <tr>\n",
       "            <td>MONITOR</td>\n",
       "            <td>5000</td>\n",
       "        </tr>\n",
       "    </tbody>\n",
       "</table>"
      ],
      "text/plain": [
       "[('MONITOR', 5000)]"
      ]
     },
     "execution_count": 13,
     "metadata": {},
     "output_type": "execute_result"
    }
   ],
   "source": [
    "%%sql\n",
    "\n",
    "SELECT pro_name, pro_price\n",
    "FROM PRODUCT\n",
    "WHERE pro_price = (SELECT MAX(pro_price) FROM PRODUCT); "
   ]
  },
  {
   "cell_type": "code",
   "execution_count": 14,
   "id": "371e55c4",
   "metadata": {},
   "outputs": [
    {
     "name": "stdout",
     "output_type": "stream",
     "text": [
      " * sqlite:///tmp2.db\n",
      "Done.\n"
     ]
    },
    {
     "data": {
      "text/html": [
       "<table>\n",
       "    <thead>\n",
       "        <tr>\n",
       "            <th>MAX(pro_price)</th>\n",
       "        </tr>\n",
       "    </thead>\n",
       "    <tbody>\n",
       "        <tr>\n",
       "            <td>5000</td>\n",
       "        </tr>\n",
       "    </tbody>\n",
       "</table>"
      ],
      "text/plain": [
       "[(5000,)]"
      ]
     },
     "execution_count": 14,
     "metadata": {},
     "output_type": "execute_result"
    }
   ],
   "source": [
    "%%sql \n",
    "SELECT MAX(pro_price) FROM PRODUCT"
   ]
  },
  {
   "cell_type": "code",
   "execution_count": null,
   "id": "eaa9c5e4",
   "metadata": {},
   "outputs": [],
   "source": []
  }
 ],
 "metadata": {
  "kernelspec": {
   "display_name": "Python 3 (ipykernel)",
   "language": "python",
   "name": "python3"
  },
  "language_info": {
   "codemirror_mode": {
    "name": "ipython",
    "version": 3
   },
   "file_extension": ".py",
   "mimetype": "text/x-python",
   "name": "python",
   "nbconvert_exporter": "python",
   "pygments_lexer": "ipython3",
   "version": "3.11.7"
  }
 },
 "nbformat": 4,
 "nbformat_minor": 5
}
